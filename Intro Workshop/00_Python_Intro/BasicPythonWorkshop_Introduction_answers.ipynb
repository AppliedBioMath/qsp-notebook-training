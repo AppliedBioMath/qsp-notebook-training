{
 "cells": [
  {
   "cell_type": "markdown",
   "id": "b5f47d07-ad0e-4f1c-ad39-a9a76e1e8fc3",
   "metadata": {},
   "source": [
    "# Basic Python Workshop - Introduction\n",
    "In this workshop we will go over importing packages and basic data structures.\n",
    "\n",
    "For this session we will only import native python packages and do not require interfacing with our custom software. We will work with numpy for numerical analysis, pandas for its convenient data table manipulations, and plotnine for plotting purposes.\n",
    "\n",
    "# How to import a package\n",
    "When importing a package there are four main ways to do this.\n",
    "1. `import package`\n",
    "\n",
    "    This imports everything in the package and labels all functions and attributes of that package with the package name. For example, if you were to use `import numpy` you would then call the `arange` function from `numpy` by using `numpy.arange`.\n",
    "\n",
    "2. `import package as shortname`\n",
    "\n",
    "    This imports the package and labels all functions and attributes of that package with the `shortname` you defined. For example, if you were to use `import numpy as np` you would then call the `arange` function from `numpy` by using `np.arange`.\n",
    "\n",
    "3. `from package import *`\n",
    "\n",
    "    This imports all functions and attributes within the package without tagging them as part of the same package. The `*` here means \"everything\". For example, if you were to use `from numpy import *`, you would then call the `arange` function from `numpy` by using `arange`. This can be dangerous if two packages have the same function and you import the contents of both of them.\n",
    "\n",
    "4. `from package import function` or `from package import function as shortfun` or `import package.function as shortfun`\n",
    "\n",
    "   This imports the listed function from the package instead of importing the entire package. The second and third options are identical. If the function or attribute you are importing has attributes of its own, the second and third options are usually useful as you can use a shortened name to call additional attributes (like in bullet point 1)\n",
    "\n",
    "Don't worry too much about the details of how to use these packages yet. We will get to that later in the workshop.\n",
    "\n",
    "## First Task\n",
    "For now, let's import two packages\n",
    "1. `numpy` as `np`\n",
    "2. `pandas` as `pd`\n"
   ]
  },
  {
   "cell_type": "code",
   "execution_count": 1,
   "id": "1fd65043-ef5a-4aa9-8fcb-e001ad83cb22",
   "metadata": {},
   "outputs": [],
   "source": [
    "import numpy as np\n",
    "import pandas as pd\n",
    "from plotnine import *"
   ]
  },
  {
   "cell_type": "markdown",
   "id": "59e61b95-c33e-410f-942c-fa85e7ffcdfa",
   "metadata": {},
   "source": [
    "# Data Types\n",
    "\n",
    "The most commonly used data types that we will cover are:\n",
    "* `int` - integer\n",
    "* `float` - floating point number (decimal places)\n",
    "* `str` - string\n",
    "* `list` - an ordered list of objects surrounded by square brackets [ ] and separated by commas\n",
    "* `dict` - a dictionary of keys and values (may be ordered or unordered)\n",
    "* `numpy.ndarray` - an array object (think vector or matrix)\n",
    "* `pandas.DataFrame` - a dataframe object (think table)\n",
    "\n",
    "If you want to see all the attributes or functions you can use on each of these obect types use the `dir` function. Ex: `dir(list)`\n",
    "\n",
    "These data types can be sorted into two categories:\n",
    "1. Mutable: `list`, `dict`, `numpy.array`, `pandas.DataFrame`\n",
    "2. Immutable: `str`, `float`, `int`\n",
    "\n",
    "Immutable objects cannot be changed once created, while mutable ones can. This is important because when you are assigning a variable, you are not creating a new object - but instead stating that the variable references an object.\n",
    "\n",
    "For example, if we say `x = 1`, this means that `x` references the object `1`. If I then say `x = x+1`, it will now say that `x` references the object `2`. You can use the `id` function to show that between these two steps the identity of the variable has changed. This works because 1 and 2 are `int`s and are immutable."
   ]
  },
  {
   "cell_type": "code",
   "execution_count": 2,
   "id": "df5f300a-ffa9-41ff-9aa3-de9bb1df7989",
   "metadata": {},
   "outputs": [
    {
     "name": "stdout",
     "output_type": "stream",
     "text": [
      "id of x=1 statement:\n",
      "187650755318664\n",
      "\n",
      "id of x=x+1 statement:\n",
      "187650755318696\n"
     ]
    }
   ],
   "source": [
    "x = 1\n",
    "print('id of x=1 statement:')\n",
    "print(id(x))\n",
    "\n",
    "print('\\nid of x=x+1 statement:')\n",
    "x = x+1\n",
    "print(id(x))"
   ]
  },
  {
   "cell_type": "markdown",
   "id": "339b7d80-1e61-4036-b423-cc9dcc0e0135",
   "metadata": {},
   "source": [
    "What happens now if we try something similar with a mutable object?\n",
    "\n",
    "Let's try with a `list`. We will first define `x = [1,2,3]`. This is a list with elements 1, 2, and 3. Then we will change the value of the first element in this list to 0 by using `x[0] = 0`. You will see that the id of the variable x stays the same."
   ]
  },
  {
   "cell_type": "code",
   "execution_count": 3,
   "id": "b9d71332-5ee1-451c-a475-65d572ef4dcc",
   "metadata": {},
   "outputs": [
    {
     "name": "stdout",
     "output_type": "stream",
     "text": [
      "id of x=[1,2,3] statement:\n",
      "281472201097024\n",
      "\n",
      "value of x:\n",
      "[1, 2, 3]\n",
      "\n",
      "\n",
      "id of x after change:\n",
      "281472201097024\n",
      "\n",
      "value of x after change:\n",
      "[0, 2, 3]\n"
     ]
    }
   ],
   "source": [
    "x = [1,2,3]\n",
    "print('id of x=[1,2,3] statement:')\n",
    "print(id(x))\n",
    "\n",
    "print('\\nvalue of x:')\n",
    "print(x)\n",
    "\n",
    "print('\\n\\nid of x after change:')\n",
    "x[0] = 0\n",
    "print(id(x))\n",
    "print('\\nvalue of x after change:')\n",
    "print(x)"
   ]
  },
  {
   "cell_type": "markdown",
   "id": "82fcdd8a-ff15-481b-a446-9cf12d958606",
   "metadata": {},
   "source": [
    "### Mutability\n",
    "#### Why is mutability a problem?\n",
    "This can become a problem if you define one want to make a copy of a mutable object and then manipulate it. Say you have a list `x = [1,2,3]` which contains some original set of data. Let's say you then want to make a copy of this list with some additional data added to it. You would like to retain both versions. Because a `list` is mutable, any changes you make to it will propogate.\n",
    "\n",
    "Let's see how that plays out:\n",
    "We'll define `y=x`. Then we will `append` a new element to `x` and see what happens to `y`."
   ]
  },
  {
   "cell_type": "code",
   "execution_count": 4,
   "id": "1ac75a34-73d1-482d-a265-af678ab63659",
   "metadata": {},
   "outputs": [
    {
     "name": "stdout",
     "output_type": "stream",
     "text": [
      "value of x:\n",
      "[1, 2, 3, 4]\n",
      "\n",
      "value of y:\n",
      "[1, 2, 3, 4]\n"
     ]
    }
   ],
   "source": [
    "x = [1,2,3]\n",
    "y = x\n",
    "x.append(4)\n",
    "\n",
    "print('value of x:')\n",
    "print(x)\n",
    "\n",
    "print('\\nvalue of y:')\n",
    "print(y)"
   ]
  },
  {
   "cell_type": "markdown",
   "id": "fa16891e-df1d-436c-aaa6-31ab8132ce94",
   "metadata": {},
   "source": [
    "#### How to address mutability\n",
    "If you want to copy and change a mutable object you can get around this issue by using the `.copy()` function. Instead of saying `y=x` it instead says that `y` is a copy of `x`. Then when you change `x`, `y` remains unchanged"
   ]
  },
  {
   "cell_type": "code",
   "execution_count": 5,
   "id": "55ab7c29-01d0-4b26-8051-cd2137c415d0",
   "metadata": {},
   "outputs": [
    {
     "name": "stdout",
     "output_type": "stream",
     "text": [
      "value of x:\n",
      "[1, 2, 3, 4]\n",
      "\n",
      "value of y:\n",
      "[1, 2, 3]\n"
     ]
    }
   ],
   "source": [
    "x = [1,2,3]\n",
    "y = x.copy()\n",
    "x.append(4)\n",
    "\n",
    "print('value of x:')\n",
    "print(x)\n",
    "\n",
    "print('\\nvalue of y:')\n",
    "print(y)"
   ]
  },
  {
   "cell_type": "markdown",
   "id": "d89e35e3-7040-4cde-8b2e-12de6bb298d1",
   "metadata": {},
   "source": [
    "---------\n",
    "## Floats, stings, and lists\n",
    "### Second Task - part 1\n",
    "\n",
    "Define several objects of different types:\n",
    "* Assign a variable `x` equal to an integer of your choice\n",
    "* Assign a variable `y` to a float of your choice\n",
    "* Assign a variable `z` to a string of your choice\n",
    "* Assign a list `L` to be equal to a list of the above three variables\n",
    "* Use the `print` function to output the value of the list `L` that you defined"
   ]
  },
  {
   "cell_type": "code",
   "execution_count": 6,
   "id": "d5fa76d8-be33-4f9d-b8f1-6d754414442d",
   "metadata": {},
   "outputs": [],
   "source": [
    "#use this cell to define the variables\n",
    "\n",
    "x = 54\n",
    "y = 39.7\n",
    "z = 'test string'\n",
    "L = [x, y, z]"
   ]
  },
  {
   "cell_type": "code",
   "execution_count": 7,
   "id": "25b3d34b-84fd-4fec-b384-1b0da665b88c",
   "metadata": {},
   "outputs": [
    {
     "name": "stdout",
     "output_type": "stream",
     "text": [
      "[54, 39.7, 'test string']\n"
     ]
    }
   ],
   "source": [
    "#print L in this cell\n",
    "\n",
    "print(L)"
   ]
  },
  {
   "cell_type": "markdown",
   "id": "fefa8fe7-e5ef-4b19-b37f-0d849a5881aa",
   "metadata": {},
   "source": [
    "There are several ways to interact with lists.\n",
    "\n",
    "You can use functions (`list.function(*input)`):\n",
    "* `.append()` - adds object to end of the list\n",
    "* `.clear()` - removes all items from the list\n",
    "* `.copy()` - creates a copy of the list\n",
    "* `.count()` - return number of times the input of the function appears in the list\n",
    "* `.extend()` - extend a list by adding a new list or other iterable to the end\n",
    "* `.index()` - returns the index of the input value\n",
    "* `.insert()` - used as `list.insert(index, object)` - inserts the object at a location before the index\n",
    "* `.pop()` - remove the entry at the index used in the input to this function and return that object\n",
    "* `.remove()` - remove the first occurance of the value in the input of this function\n",
    "* `.reverse()` - reverse the order of the list\n",
    "* `.sort()` - sort list into ascending order\n",
    "\n",
    "Besides using these functions you can also interact with lists by using indices. Python begins indexing with 0. So the first element of L is `L[0]`. The last element of L is `L[-1]`. And you can select a subset of values from L by using python index notation `first:last:step` where `first` is the first value to keep, `step` is the step size (1 corresponds to keeping every element, 2 corresponds to every other, etc), and `last` is one index past the last element you wish to keep.\n",
    "\n",
    "If `first` is missing, the counting starts at index 0. If `last` is missing, the counting goes to the last element of the list. If `step` is missing, you count every element between first and last.\n",
    "\n",
    "Ex: `L[::2]` counts every other element of `L`. `L[:3]` counts the the first three elements of `L` (`[L[0], L[1], L[2]`).\n",
    "\n",
    "\n",
    "### Second Task - part 2\n",
    "Use the functions above to create a new variable L2 which is produced by removing the string in L and sorting the two numbers in numerical order"
   ]
  },
  {
   "cell_type": "code",
   "execution_count": 8,
   "id": "b76fb6f0-f44f-47b6-85e9-43548b02370b",
   "metadata": {},
   "outputs": [
    {
     "name": "stdout",
     "output_type": "stream",
     "text": [
      "[39.7, 54]\n"
     ]
    }
   ],
   "source": [
    "#define L2 here\n",
    "\n",
    "#option 1\n",
    "L2 = (L.copy())[:-1].sort()\n",
    "\n",
    "#option 2\n",
    "L2 = L.copy()\n",
    "L2.remove(z)\n",
    "L2.sort()\n",
    "\n",
    "print(L2)"
   ]
  },
  {
   "cell_type": "markdown",
   "id": "66aa42b8-fb83-44cd-b315-3fdf935ddfc8",
   "metadata": {},
   "source": [
    "----------\n",
    "\n",
    "## Numpy Arrays\n",
    "The most convenient data type for mathematical analysis is the `Numpy` array (an `ndarray` object). This is an n-dimensional array of homogeneous data types (so all `int`, `float`, or `str`). If you have mixed element types within your array, the minimum type will be chosen.\n",
    "\n",
    "A `Numpy` array is created by using the command `x = np.array(list)`. The list in the array function can be explicitely written out or a previously defined object.\n",
    "\n",
    "When applying mathematical operations to an array multiplication, addition, and truth statements (>, <, ==) are done elementwise.\n",
    "\n",
    "Matrix multiplication can be performed by using `@` in place of the `*` symbol, or by using `np.dot()` or `np.outer()` as appropriate\n",
    "\n",
    "### Third Task\n",
    "* Define a 1 dimensional array with any 5 elements you desire\n",
    "* Print the array\n",
    "* Print the 2nd element in the array\n",
    "* Multiply this array by 2\n",
    "* Use `np.dot` and `np.outer` to take the inner and outer product of the array with itself\n",
    "* Define a second array of the same size\n",
    "* Add the two arrays together"
   ]
  },
  {
   "cell_type": "code",
   "execution_count": 9,
   "id": "bec6f5ac-2180-47c1-82a9-48a7b295dfbf",
   "metadata": {},
   "outputs": [],
   "source": [
    "#define an array\n",
    "A1 = np.array([1,2,3,4,5])"
   ]
  },
  {
   "cell_type": "code",
   "execution_count": 10,
   "id": "265f8a83-149e-4fd8-a0e0-1559b0239401",
   "metadata": {},
   "outputs": [
    {
     "name": "stdout",
     "output_type": "stream",
     "text": [
      "[1 2 3 4 5]\n"
     ]
    }
   ],
   "source": [
    "#print the array\n",
    "print(A1)"
   ]
  },
  {
   "cell_type": "code",
   "execution_count": 11,
   "id": "5dbef32f-43ba-454e-bb3a-0e487a867f53",
   "metadata": {},
   "outputs": [
    {
     "name": "stdout",
     "output_type": "stream",
     "text": [
      "2\n"
     ]
    }
   ],
   "source": [
    "#print the second element of the array\n",
    "print(A1[1])"
   ]
  },
  {
   "cell_type": "code",
   "execution_count": 12,
   "id": "4d410066-6190-4e37-8ecd-feea03a49505",
   "metadata": {},
   "outputs": [
    {
     "name": "stdout",
     "output_type": "stream",
     "text": [
      "[ 2  4  6  8 10]\n"
     ]
    }
   ],
   "source": [
    "#multiply the array by 2\n",
    "print(A1*2)"
   ]
  },
  {
   "cell_type": "code",
   "execution_count": 13,
   "id": "9e1c0b11-88a5-4e02-8d13-244ce699b31b",
   "metadata": {},
   "outputs": [
    {
     "name": "stdout",
     "output_type": "stream",
     "text": [
      "55\n"
     ]
    }
   ],
   "source": [
    "#calculate the inner product\n",
    "print(np.dot(A1,A1))"
   ]
  },
  {
   "cell_type": "code",
   "execution_count": 14,
   "id": "e6d7adcb-c77a-4e8c-aafa-8f3117bca6e4",
   "metadata": {},
   "outputs": [
    {
     "name": "stdout",
     "output_type": "stream",
     "text": [
      "[[ 1  2  3  4  5]\n",
      " [ 2  4  6  8 10]\n",
      " [ 3  6  9 12 15]\n",
      " [ 4  8 12 16 20]\n",
      " [ 5 10 15 20 25]]\n"
     ]
    }
   ],
   "source": [
    "#calculate the outer product\n",
    "\n",
    "print(np.outer(A1,A1))"
   ]
  },
  {
   "cell_type": "code",
   "execution_count": 15,
   "id": "6f0f7d32-56a1-4328-ae89-fa703c3c9f61",
   "metadata": {},
   "outputs": [],
   "source": [
    "#define a second array\n",
    "A2 = np.array([4,5,6,7,8])"
   ]
  },
  {
   "cell_type": "code",
   "execution_count": 16,
   "id": "573c3892-1515-4cf8-a37c-4de64a63c988",
   "metadata": {},
   "outputs": [
    {
     "data": {
      "text/plain": [
       "array([ 5,  7,  9, 11, 13])"
      ]
     },
     "execution_count": 16,
     "metadata": {},
     "output_type": "execute_result"
    }
   ],
   "source": [
    "#add the two arrays\n",
    "A1 + A2"
   ]
  },
  {
   "cell_type": "markdown",
   "id": "36968942-83a4-4241-ac51-cf9e5ca2d1ef",
   "metadata": {},
   "source": [
    "------------\n",
    "## Dictionaries\n",
    "A dictionary is an extremely useful data structure that consists of key-value pairs. The purpose of a dictionary is to allow for indexing by a key, instead of by order. A dictionary is created by using the `{key: value}`. A key may not be a mutable object, such as a list or another dictionary. Each key must also be unique. If another key of the same object is added, it is overwritten. A value can be any object. Some useful methods for a dictionary are:\n",
    "\n",
    "* `.get(key)` - returns the value of a specified key (can also use `dict[key]`)\n",
    "* `.pop(key)` - removes key from dictionary and returns value that was removed\n",
    "* `.keys()` - returns the keys of the dictionary\n",
    "* `.values()` - returns the value of the dictionary\n",
    "* `.items()` - returns the dictionary as a list containing the tuple for each key-value pair (useful for iterating)\n",
    "* `.update(new_dict)` - adds the given dictionary to the dictionary, either updating existing keys or adding new ones\n",
    "* `.setdefault(key, value)` - returns the value with the specified key, if the key does not exists, inserts it with the value\n",
    "\n",
    "### Fourth Task\n",
    "\n",
    "* Create a body weight dictionary named BW_dict for human, cyno, and mouse. The keys should be the species names and the values should be the body weights.\n",
    "\n",
    "  Note, classic body weights: human = 70, cyno = 3.5, mouse = 0.02\n",
    "* Call and print the cyno body weight\n",
    "* Add an entry for rat (bw = 0.25)\n",
    "* Print the dictionary to see that everything has been added correctly"
   ]
  },
  {
   "cell_type": "code",
   "execution_count": 17,
   "id": "fff39bee-573e-44b2-9f97-1a99e1de81fa",
   "metadata": {},
   "outputs": [],
   "source": [
    "# create a dictionary:\n",
    "BW_dict = {'human': 70, 'cyno': 2.5, 'mouse':0.02}"
   ]
  },
  {
   "cell_type": "code",
   "execution_count": 18,
   "id": "25c9e8b1-4c59-49c6-98c8-ba85812e1f18",
   "metadata": {},
   "outputs": [
    {
     "name": "stdout",
     "output_type": "stream",
     "text": [
      "2.5\n"
     ]
    }
   ],
   "source": [
    "#print the cyno body weight\n",
    "print(BW_dict['cyno'])"
   ]
  },
  {
   "cell_type": "code",
   "execution_count": 19,
   "id": "5b9495c6-8b82-4692-8bc6-5cd0bc1a0a93",
   "metadata": {},
   "outputs": [],
   "source": [
    "#add an entry for rat\n",
    "\n",
    "#option 1:\n",
    "BW_dict['rat'] = 0.25\n",
    "\n",
    "#option 2:\n",
    "BW_dict.update({'rat':0.25})"
   ]
  },
  {
   "cell_type": "code",
   "execution_count": 20,
   "id": "c19023e7-9421-4310-82ad-a82be0ec93ba",
   "metadata": {},
   "outputs": [
    {
     "name": "stdout",
     "output_type": "stream",
     "text": [
      "{'human': 70, 'cyno': 2.5, 'mouse': 0.02, 'rat': 0.25}\n"
     ]
    }
   ],
   "source": [
    "# print dictionary\n",
    "print(BW_dict)"
   ]
  },
  {
   "cell_type": "markdown",
   "id": "aec056de-767e-42cd-9135-b605dd97e57e",
   "metadata": {},
   "source": [
    "----------------\n",
    "## Data Frames\n",
    "\n",
    "Python uses the `pandas` package to create and manipulate data frames. A data frame is a table with labelled columns and rows. Data frames are useful because they can have a mix of different data types as entries. This is particularly helpful when working with string based labels (like species, units, etc) and float or integer data (measurements or parameters).\n",
    "\n",
    "One of the most commonly used outputs of the QSP notebook is in the form of a data frame. And client data is typically imported as a data frame.\n",
    "\n",
    "A dataframe can be created in a similar manner as a dictionary by using `df = pd.DataFrame({'column': [list of entries]})`. We will cover importing a dataframe in the introductory plotting notebook.\n",
    "\n",
    "To call a column from the dataframe you can use either `df['column']` or `df.column`. This second option only works if there are no spaces in the column name.\n",
    "\n",
    "Rows in a data frame are labeled by `index`. By default these are integers starting at zero - though you many turn a non integer column into indices. To call specific rows you may use similar method as in list and array indexing `df.loc[start:stop:step]`.\n",
    "\n",
    "Some useful methods for data frames are listed here:\n",
    "* `.query('condition')` - calls all rows that satisfy a specific condition. Note the condition must be listed as a string and is typically regarding the value of entries in a specific column.\n",
    "* `.groupby([list of column])` - creates a grouped object collecting all row entries that share the same listed column values\n",
    "* `.groupby([list of column]).agg(summary statistic)` - creates a new dataframe that summarizes the remaining columns after grouping\n",
    "\n",
    "### Fifth Task\n",
    "\n",
    "* Create a dataframe for the following minimal dummy data set:\n",
    "$$\\begin{array}{|c|c|c|c|}\n",
    "\\hline\\text{\\textbf{species}}& \\text{\\textbf{output}} & \\text{\\textbf{unit}} & \\text{\\textbf{measurement}}\\\\ \\hline \\hline\n",
    " \\text{human}& \\text{BW}& \\text{kg}& \\text{68.5} \\\\\\hline\n",
    " \\text{human}& \\text{BW}& \\text{kg}& \\text{76.57} \\\\\\hline\n",
    " \\text{human}& \\text{BW}& \\text{kg}& \\text{68.7} \\\\\\hline\n",
    " \\text{cyno}& \\text{BW}& \\text{kg}& \\text{3.11} \\\\\\hline\n",
    " \\text{cyno}& \\text{BW}& \\text{kg}& \\text{2.61} \\\\\\hline\n",
    " \\text{cyno}& \\text{BW}& \\text{kg}& \\text{3.87} \\\\\\hline\n",
    " \\text{human}& \\text{volume\\_central}& \\text{L}& \\text{2.85} \\\\\\hline\n",
    " \\text{human}& \\text{volume\\_central}& \\text{L}& \\text{3.24} \\\\\\hline\n",
    " \\text{human}& \\text{volume\\_central}& \\text{L}& \\text{3.01} \\\\\\hline\n",
    " \\text{cyno}& \\text{volume\\_central}& \\text{L}& \\text{0.154} \\\\\\hline\n",
    " \\text{cyno}& \\text{volume\\_central}& \\text{L}& \\text{0.153} \\\\\\hline\n",
    " \\text{cyno}& \\text{volume\\_central}& \\text{L}& \\text{0.146}\\\\\\hline\n",
    "\\end{array}$$\n",
    "* Use `display(...)` to display the data frame you created\n",
    "* Display just the human measurements\n",
    "* Display just the body weight measurements\n",
    "* Group the data frame by species and output and calculate the mean and standard deviation of the measured values\n",
    "  "
   ]
  },
  {
   "cell_type": "code",
   "execution_count": 21,
   "id": "ce1f6999-4a0e-442c-aec6-c7009167b779",
   "metadata": {},
   "outputs": [],
   "source": [
    "# create a data frame\n",
    "df = pd.DataFrame({'species':['human','human','human','cyno','cyno','cyno','human','human','human','cyno','cyno','cyno'],\n",
    "                   'output':['BW','BW','BW','BW','BW','BW','volume_central','volume_central','volume_central','volume_central',\n",
    "                             'volume_central','volume_central'],\n",
    "                   'unit':['kg','kg','kg','kg','kg','kg','L','L','L','L','L','L'],\n",
    "                   'measurement':[68.5,76.57,68.7,3.11,2.61,3.87,2.85,3.24,3.01,0.154,0.153,0.146]})"
   ]
  },
  {
   "cell_type": "code",
   "execution_count": 22,
   "id": "ef93de81-0e1e-4a9b-aa65-3bd3ef4d6e01",
   "metadata": {},
   "outputs": [
    {
     "data": {
      "text/html": [
       "<div>\n",
       "<style scoped>\n",
       "    .dataframe tbody tr th:only-of-type {\n",
       "        vertical-align: middle;\n",
       "    }\n",
       "\n",
       "    .dataframe tbody tr th {\n",
       "        vertical-align: top;\n",
       "    }\n",
       "\n",
       "    .dataframe thead th {\n",
       "        text-align: right;\n",
       "    }\n",
       "</style>\n",
       "<table border=\"1\" class=\"dataframe\">\n",
       "  <thead>\n",
       "    <tr style=\"text-align: right;\">\n",
       "      <th></th>\n",
       "      <th>species</th>\n",
       "      <th>output</th>\n",
       "      <th>unit</th>\n",
       "      <th>measurement</th>\n",
       "    </tr>\n",
       "  </thead>\n",
       "  <tbody>\n",
       "    <tr>\n",
       "      <th>0</th>\n",
       "      <td>human</td>\n",
       "      <td>BW</td>\n",
       "      <td>kg</td>\n",
       "      <td>68.500</td>\n",
       "    </tr>\n",
       "    <tr>\n",
       "      <th>1</th>\n",
       "      <td>human</td>\n",
       "      <td>BW</td>\n",
       "      <td>kg</td>\n",
       "      <td>76.570</td>\n",
       "    </tr>\n",
       "    <tr>\n",
       "      <th>2</th>\n",
       "      <td>human</td>\n",
       "      <td>BW</td>\n",
       "      <td>kg</td>\n",
       "      <td>68.700</td>\n",
       "    </tr>\n",
       "    <tr>\n",
       "      <th>3</th>\n",
       "      <td>cyno</td>\n",
       "      <td>BW</td>\n",
       "      <td>kg</td>\n",
       "      <td>3.110</td>\n",
       "    </tr>\n",
       "    <tr>\n",
       "      <th>4</th>\n",
       "      <td>cyno</td>\n",
       "      <td>BW</td>\n",
       "      <td>kg</td>\n",
       "      <td>2.610</td>\n",
       "    </tr>\n",
       "    <tr>\n",
       "      <th>5</th>\n",
       "      <td>cyno</td>\n",
       "      <td>BW</td>\n",
       "      <td>kg</td>\n",
       "      <td>3.870</td>\n",
       "    </tr>\n",
       "    <tr>\n",
       "      <th>6</th>\n",
       "      <td>human</td>\n",
       "      <td>volume_central</td>\n",
       "      <td>L</td>\n",
       "      <td>2.850</td>\n",
       "    </tr>\n",
       "    <tr>\n",
       "      <th>7</th>\n",
       "      <td>human</td>\n",
       "      <td>volume_central</td>\n",
       "      <td>L</td>\n",
       "      <td>3.240</td>\n",
       "    </tr>\n",
       "    <tr>\n",
       "      <th>8</th>\n",
       "      <td>human</td>\n",
       "      <td>volume_central</td>\n",
       "      <td>L</td>\n",
       "      <td>3.010</td>\n",
       "    </tr>\n",
       "    <tr>\n",
       "      <th>9</th>\n",
       "      <td>cyno</td>\n",
       "      <td>volume_central</td>\n",
       "      <td>L</td>\n",
       "      <td>0.154</td>\n",
       "    </tr>\n",
       "    <tr>\n",
       "      <th>10</th>\n",
       "      <td>cyno</td>\n",
       "      <td>volume_central</td>\n",
       "      <td>L</td>\n",
       "      <td>0.153</td>\n",
       "    </tr>\n",
       "    <tr>\n",
       "      <th>11</th>\n",
       "      <td>cyno</td>\n",
       "      <td>volume_central</td>\n",
       "      <td>L</td>\n",
       "      <td>0.146</td>\n",
       "    </tr>\n",
       "  </tbody>\n",
       "</table>\n",
       "</div>"
      ],
      "text/plain": [
       "   species          output unit  measurement\n",
       "0    human              BW   kg       68.500\n",
       "1    human              BW   kg       76.570\n",
       "2    human              BW   kg       68.700\n",
       "3     cyno              BW   kg        3.110\n",
       "4     cyno              BW   kg        2.610\n",
       "5     cyno              BW   kg        3.870\n",
       "6    human  volume_central    L        2.850\n",
       "7    human  volume_central    L        3.240\n",
       "8    human  volume_central    L        3.010\n",
       "9     cyno  volume_central    L        0.154\n",
       "10    cyno  volume_central    L        0.153\n",
       "11    cyno  volume_central    L        0.146"
      ]
     },
     "metadata": {},
     "output_type": "display_data"
    }
   ],
   "source": [
    "# display the data frame\n",
    "display(df)"
   ]
  },
  {
   "cell_type": "code",
   "execution_count": 23,
   "id": "88ebfb52-b04b-401e-a210-0b8430f1ef35",
   "metadata": {},
   "outputs": [
    {
     "data": {
      "text/html": [
       "<div>\n",
       "<style scoped>\n",
       "    .dataframe tbody tr th:only-of-type {\n",
       "        vertical-align: middle;\n",
       "    }\n",
       "\n",
       "    .dataframe tbody tr th {\n",
       "        vertical-align: top;\n",
       "    }\n",
       "\n",
       "    .dataframe thead th {\n",
       "        text-align: right;\n",
       "    }\n",
       "</style>\n",
       "<table border=\"1\" class=\"dataframe\">\n",
       "  <thead>\n",
       "    <tr style=\"text-align: right;\">\n",
       "      <th></th>\n",
       "      <th>species</th>\n",
       "      <th>output</th>\n",
       "      <th>unit</th>\n",
       "      <th>measurement</th>\n",
       "    </tr>\n",
       "  </thead>\n",
       "  <tbody>\n",
       "    <tr>\n",
       "      <th>0</th>\n",
       "      <td>human</td>\n",
       "      <td>BW</td>\n",
       "      <td>kg</td>\n",
       "      <td>68.50</td>\n",
       "    </tr>\n",
       "    <tr>\n",
       "      <th>1</th>\n",
       "      <td>human</td>\n",
       "      <td>BW</td>\n",
       "      <td>kg</td>\n",
       "      <td>76.57</td>\n",
       "    </tr>\n",
       "    <tr>\n",
       "      <th>2</th>\n",
       "      <td>human</td>\n",
       "      <td>BW</td>\n",
       "      <td>kg</td>\n",
       "      <td>68.70</td>\n",
       "    </tr>\n",
       "    <tr>\n",
       "      <th>6</th>\n",
       "      <td>human</td>\n",
       "      <td>volume_central</td>\n",
       "      <td>L</td>\n",
       "      <td>2.85</td>\n",
       "    </tr>\n",
       "    <tr>\n",
       "      <th>7</th>\n",
       "      <td>human</td>\n",
       "      <td>volume_central</td>\n",
       "      <td>L</td>\n",
       "      <td>3.24</td>\n",
       "    </tr>\n",
       "    <tr>\n",
       "      <th>8</th>\n",
       "      <td>human</td>\n",
       "      <td>volume_central</td>\n",
       "      <td>L</td>\n",
       "      <td>3.01</td>\n",
       "    </tr>\n",
       "  </tbody>\n",
       "</table>\n",
       "</div>"
      ],
      "text/plain": [
       "  species          output unit  measurement\n",
       "0   human              BW   kg        68.50\n",
       "1   human              BW   kg        76.57\n",
       "2   human              BW   kg        68.70\n",
       "6   human  volume_central    L         2.85\n",
       "7   human  volume_central    L         3.24\n",
       "8   human  volume_central    L         3.01"
      ]
     },
     "metadata": {},
     "output_type": "display_data"
    }
   ],
   "source": [
    "#display human measurements\n",
    "display(df.query('species == \"human\"'))"
   ]
  },
  {
   "cell_type": "code",
   "execution_count": 24,
   "id": "50892fd7-6395-44bc-be9d-4ada89e88a48",
   "metadata": {},
   "outputs": [
    {
     "data": {
      "text/html": [
       "<div>\n",
       "<style scoped>\n",
       "    .dataframe tbody tr th:only-of-type {\n",
       "        vertical-align: middle;\n",
       "    }\n",
       "\n",
       "    .dataframe tbody tr th {\n",
       "        vertical-align: top;\n",
       "    }\n",
       "\n",
       "    .dataframe thead th {\n",
       "        text-align: right;\n",
       "    }\n",
       "</style>\n",
       "<table border=\"1\" class=\"dataframe\">\n",
       "  <thead>\n",
       "    <tr style=\"text-align: right;\">\n",
       "      <th></th>\n",
       "      <th>species</th>\n",
       "      <th>output</th>\n",
       "      <th>unit</th>\n",
       "      <th>measurement</th>\n",
       "    </tr>\n",
       "  </thead>\n",
       "  <tbody>\n",
       "    <tr>\n",
       "      <th>0</th>\n",
       "      <td>human</td>\n",
       "      <td>BW</td>\n",
       "      <td>kg</td>\n",
       "      <td>68.50</td>\n",
       "    </tr>\n",
       "    <tr>\n",
       "      <th>1</th>\n",
       "      <td>human</td>\n",
       "      <td>BW</td>\n",
       "      <td>kg</td>\n",
       "      <td>76.57</td>\n",
       "    </tr>\n",
       "    <tr>\n",
       "      <th>2</th>\n",
       "      <td>human</td>\n",
       "      <td>BW</td>\n",
       "      <td>kg</td>\n",
       "      <td>68.70</td>\n",
       "    </tr>\n",
       "    <tr>\n",
       "      <th>3</th>\n",
       "      <td>cyno</td>\n",
       "      <td>BW</td>\n",
       "      <td>kg</td>\n",
       "      <td>3.11</td>\n",
       "    </tr>\n",
       "    <tr>\n",
       "      <th>4</th>\n",
       "      <td>cyno</td>\n",
       "      <td>BW</td>\n",
       "      <td>kg</td>\n",
       "      <td>2.61</td>\n",
       "    </tr>\n",
       "    <tr>\n",
       "      <th>5</th>\n",
       "      <td>cyno</td>\n",
       "      <td>BW</td>\n",
       "      <td>kg</td>\n",
       "      <td>3.87</td>\n",
       "    </tr>\n",
       "  </tbody>\n",
       "</table>\n",
       "</div>"
      ],
      "text/plain": [
       "  species output unit  measurement\n",
       "0   human     BW   kg        68.50\n",
       "1   human     BW   kg        76.57\n",
       "2   human     BW   kg        68.70\n",
       "3    cyno     BW   kg         3.11\n",
       "4    cyno     BW   kg         2.61\n",
       "5    cyno     BW   kg         3.87"
      ]
     },
     "metadata": {},
     "output_type": "display_data"
    }
   ],
   "source": [
    "#display BW\n",
    "display(df.query('output == \"BW\"'))"
   ]
  },
  {
   "cell_type": "code",
   "execution_count": 25,
   "id": "e9de11c0-7dab-436c-8000-5a49ea241f1c",
   "metadata": {},
   "outputs": [
    {
     "data": {
      "text/html": [
       "<div>\n",
       "<style scoped>\n",
       "    .dataframe tbody tr th:only-of-type {\n",
       "        vertical-align: middle;\n",
       "    }\n",
       "\n",
       "    .dataframe tbody tr th {\n",
       "        vertical-align: top;\n",
       "    }\n",
       "\n",
       "    .dataframe thead tr th {\n",
       "        text-align: left;\n",
       "    }\n",
       "</style>\n",
       "<table border=\"1\" class=\"dataframe\">\n",
       "  <thead>\n",
       "    <tr>\n",
       "      <th></th>\n",
       "      <th>species</th>\n",
       "      <th>output</th>\n",
       "      <th>unit</th>\n",
       "      <th colspan=\"2\" halign=\"left\">measurement</th>\n",
       "    </tr>\n",
       "    <tr>\n",
       "      <th></th>\n",
       "      <th></th>\n",
       "      <th></th>\n",
       "      <th></th>\n",
       "      <th>mean</th>\n",
       "      <th>std</th>\n",
       "    </tr>\n",
       "  </thead>\n",
       "  <tbody>\n",
       "    <tr>\n",
       "      <th>0</th>\n",
       "      <td>cyno</td>\n",
       "      <td>BW</td>\n",
       "      <td>kg</td>\n",
       "      <td>3.196667</td>\n",
       "      <td>0.634455</td>\n",
       "    </tr>\n",
       "    <tr>\n",
       "      <th>1</th>\n",
       "      <td>cyno</td>\n",
       "      <td>volume_central</td>\n",
       "      <td>L</td>\n",
       "      <td>0.151000</td>\n",
       "      <td>0.004359</td>\n",
       "    </tr>\n",
       "    <tr>\n",
       "      <th>2</th>\n",
       "      <td>human</td>\n",
       "      <td>BW</td>\n",
       "      <td>kg</td>\n",
       "      <td>71.256667</td>\n",
       "      <td>4.602568</td>\n",
       "    </tr>\n",
       "    <tr>\n",
       "      <th>3</th>\n",
       "      <td>human</td>\n",
       "      <td>volume_central</td>\n",
       "      <td>L</td>\n",
       "      <td>3.033333</td>\n",
       "      <td>0.196044</td>\n",
       "    </tr>\n",
       "  </tbody>\n",
       "</table>\n",
       "</div>"
      ],
      "text/plain": [
       "  species          output unit measurement          \n",
       "                                      mean       std\n",
       "0    cyno              BW   kg    3.196667  0.634455\n",
       "1    cyno  volume_central    L    0.151000  0.004359\n",
       "2   human              BW   kg   71.256667  4.602568\n",
       "3   human  volume_central    L    3.033333  0.196044"
      ]
     },
     "metadata": {},
     "output_type": "display_data"
    }
   ],
   "source": [
    "# group by species and measurement and take statistics\n",
    "df_stats = df.groupby(['species','output','unit']).agg(['mean','std']).reset_index()\n",
    "display(df_stats)"
   ]
  },
  {
   "cell_type": "code",
   "execution_count": null,
   "id": "f868bd6f-2540-4ab9-bfc0-3eda2e9063a6",
   "metadata": {},
   "outputs": [],
   "source": []
  }
 ],
 "metadata": {
  "kernelspec": {
   "display_name": "Poetry",
   "language": "python",
   "name": "poetry-kernel"
  },
  "language_info": {
   "codemirror_mode": {
    "name": "ipython",
    "version": 3
   },
   "file_extension": ".py",
   "mimetype": "text/x-python",
   "name": "python",
   "nbconvert_exporter": "python",
   "pygments_lexer": "ipython3",
   "version": "3.12.4"
  }
 },
 "nbformat": 4,
 "nbformat_minor": 5
}
