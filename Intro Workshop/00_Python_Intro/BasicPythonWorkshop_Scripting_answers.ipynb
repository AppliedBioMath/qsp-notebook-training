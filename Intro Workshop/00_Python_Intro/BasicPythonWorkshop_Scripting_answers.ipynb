{
 "cells": [
  {
   "cell_type": "markdown",
   "id": "965d6e79-420f-4a47-91a8-760905b10a7a",
   "metadata": {},
   "source": [
    "# Basic Python Workshop - Scripting\n",
    "In this workshop we will go over some basic scripting.\n",
    "\n",
    "For this session we will only import native python packages and do not require interfacing with our custom software. We will work with numpy for numerical analysis, pandas for its convenient data table manipulations, and plotnine for plotting purposes.\n",
    "\n",
    "# Package import\n",
    "Import the same packages as in the introductory notebook:\n",
    "\n",
    "* `numpy`\n",
    "* `pandas`"
   ]
  },
  {
   "cell_type": "code",
   "execution_count": 1,
   "id": "b097b8da-8480-4995-931f-7527a025f86c",
   "metadata": {},
   "outputs": [],
   "source": [
    "import numpy as np\n",
    "import pandas as pd\n",
    "from plotnine import *"
   ]
  },
  {
   "cell_type": "markdown",
   "id": "dbf73c77-29c0-46ba-8cb6-a3fba5638687",
   "metadata": {},
   "source": [
    "# Conditional Statements\n",
    "The conditional statements follow the general conventions of most languages. One thing to note about conditionals is that there are constraints on comparing different object types. For example, you cannot compare a list to another object with conditionals. But you can compare a `numpy array` to an integer or float (this compares every element in the array).\n",
    "\n",
    "## Most common conditionals\n",
    "\n",
    "* equal: `a == b`\n",
    "* not equal: `a != b`\n",
    "* less than: `a < b`\n",
    "* less than or equal: `a <= b`\n",
    "* greater than: `a > b`\n",
    "* greater than or equal: `a >= b`\n",
    "\n",
    "## The `is` conditional\n",
    "There is another conditional that you may not commonly see in another language, which is `is`. This conditional checks that the objects that are being referenced are the same, or share the same identity. Essentially it means that they have the same `id`. This is different from the `==` sign because the `==` sign actually checks if the objects are equal, and not just referencing the same object.\n",
    "\n",
    "## The `in` conditional\n",
    "Another useful conditional is the `in` keyword. This checks if a certain item is in an iterable (a list, array, or string)\n",
    "\n",
    "## First Task\n",
    "\n",
    "* Assign a list, `L1`, with elements `[1,2,3]`\n",
    "* Define a numpy array, `A1` with elements `[1, 2, 3]`\n",
    "* Create a new list `L2` with elements `[1.0, 2.0, 3.0]`\n",
    "* Create a third list `L3` by setting it equal to `L1`\n",
    "* Use `==` to check if `L1` is the same as `L2` and `L3`\n",
    "* Use `is` to check if `L1` is the same as `L2` and `L3`\n",
    "* Use == to check if `L1` is the same as `A1` - note the new behavior here\n",
    "* Use `<` to determine which elements of `L1` and `A1` are less than 2 - note the new behavior here\n",
    "* Use `in` to determine if the number 3 is in A1\n",
    "* Use `in` to determine if the substring `central` is in the string `'concentration_cental_ng_per_mL'` (copy and paste to ensure you're using exactly the same strings\n",
    "* Use `in` to determine if the item `'concentration_central_ng_per_mL'` is in the list `['concentration_peripheral_ng_per_mL', 'concentration_central_ng_per_L', 'concentration_central_ng_per_mL', 'RO_central', 'RO_peripheral\"']` (copy and paste the list to ensure youre using the exact same list)"
   ]
  },
  {
   "cell_type": "code",
   "execution_count": 2,
   "id": "763587f9-bd10-4756-a5e4-20539945f086",
   "metadata": {},
   "outputs": [],
   "source": [
    "L1 = [1,2,3]\n",
    "A1 = np.array([1,2,3])\n",
    "L2 = [1.0,2.0,3.0]\n",
    "L3 = L1"
   ]
  },
  {
   "cell_type": "code",
   "execution_count": 3,
   "id": "c85c2d2c-6f72-410c-9866-be983f5dbc34",
   "metadata": {},
   "outputs": [
    {
     "name": "stdout",
     "output_type": "stream",
     "text": [
      "L1 == L2?\n",
      "True\n",
      "\n",
      "L1 == L3?\n",
      "True\n"
     ]
    }
   ],
   "source": [
    "print('L1 == L2?')\n",
    "print(L1 == L2)\n",
    "print('\\nL1 == L3?')\n",
    "print(L1 == L3)"
   ]
  },
  {
   "cell_type": "code",
   "execution_count": 4,
   "id": "26c609fe-fb87-4dfc-a53d-82dc98676f09",
   "metadata": {},
   "outputs": [
    {
     "name": "stdout",
     "output_type": "stream",
     "text": [
      "L1 is L2?\n",
      "False\n",
      "\n",
      "L1 is L3?\n",
      "True\n"
     ]
    }
   ],
   "source": [
    "print('L1 is L2?')\n",
    "print(L1 is L2)\n",
    "print('\\nL1 is L3?')\n",
    "print(L1 is L3)"
   ]
  },
  {
   "cell_type": "code",
   "execution_count": 5,
   "id": "37e593d1-bd81-47bd-9dc7-81ae33331b41",
   "metadata": {},
   "outputs": [
    {
     "name": "stdout",
     "output_type": "stream",
     "text": [
      "L1 == A1?\n",
      "[ True  True  True]\n"
     ]
    }
   ],
   "source": [
    "print('L1 == A1?')\n",
    "print(L1 == A1)"
   ]
  },
  {
   "cell_type": "code",
   "execution_count": 6,
   "id": "ea47671f-b1ef-4d5c-81b1-678dcad03dd1",
   "metadata": {},
   "outputs": [
    {
     "name": "stdout",
     "output_type": "stream",
     "text": [
      "A1 < 2?\n",
      "[ True False False]\n"
     ]
    }
   ],
   "source": [
    "print('A1 < 2?')\n",
    "print(A1 < 2)"
   ]
  },
  {
   "cell_type": "code",
   "execution_count": 7,
   "id": "bd63ab82-4f0c-40af-9b6d-155355ff42ad",
   "metadata": {},
   "outputs": [
    {
     "name": "stdout",
     "output_type": "stream",
     "text": [
      "3 in A1?\n",
      "True\n"
     ]
    }
   ],
   "source": [
    "print('3 in A1?')\n",
    "print(3 in A1)"
   ]
  },
  {
   "cell_type": "code",
   "execution_count": 8,
   "id": "81b41498-61a4-40d0-8995-123eff95bc40",
   "metadata": {},
   "outputs": [
    {
     "name": "stdout",
     "output_type": "stream",
     "text": [
      "\"central\" in \"concentration_cental_ng_per_mL\"?\n",
      "False\n"
     ]
    }
   ],
   "source": [
    "print('\"central\" in \"concentration_cental_ng_per_mL\"?')\n",
    "print('central' in 'concentration_cental_ng_per_mL')"
   ]
  },
  {
   "cell_type": "code",
   "execution_count": 9,
   "id": "15b81d5e-9a36-40fb-aa22-ba9512b64104",
   "metadata": {},
   "outputs": [
    {
     "name": "stdout",
     "output_type": "stream",
     "text": [
      "'concentration_central_ng_per_mL' in ['concentration_peripheral_ng_per_mL', 'concentration_central_ng_per_L',                                            'concentration_central_ng_per_mL', 'RO_central', 'RO_peripheral']?\n",
      "True\n"
     ]
    }
   ],
   "source": [
    "print(\"'concentration_central_ng_per_mL' in ['concentration_peripheral_ng_per_mL', 'concentration_central_ng_per_L',\\\n",
    "                                            'concentration_central_ng_per_mL', 'RO_central', 'RO_peripheral']?\")\n",
    "print('concentration_central_ng_per_mL' in ['concentration_peripheral_ng_per_mL', 'concentration_central_ng_per_L',\n",
    "                                            'concentration_central_ng_per_mL', 'RO_central', 'RO_peripheral'])"
   ]
  },
  {
   "cell_type": "markdown",
   "id": "279f78cf-feef-4274-9b8e-6ce82b3fd2fe",
   "metadata": {},
   "source": [
    "# Boolean Logic\n",
    "For python instead of symbols such as `&` for \"and\" ,`|` for \"or, or `!` for \"not\", the word is just used instead. So if you wanted to check if two conditions were true, you would just use `condition1 and condition2`.\n",
    "\n",
    "## Second Task\n",
    "* Define a = 1\n",
    "* Define b = 2\n",
    "1. Write a boolean conditional statement that checks if both these statements are true (a == 1, b == 3)\n",
    "2. Write a boolean conditional statement that checks if at least one of these statements are true (a == 1, b == 3)\n",
    "3. Write a boolean conditional statement that checks if only the first of these statements are true (a == 1, b == 3)\n",
    "4. Write a boolean conditional statement that checks if only the second of these statements are true (a == 1, b == 3)\n",
    "5. Write a boolean conditional statement that checks if only one (but either) of these statements are true (a == 1, b == 3)"
   ]
  },
  {
   "cell_type": "code",
   "execution_count": 10,
   "id": "6e277e20-d1b3-4b5b-becb-678c8e60778a",
   "metadata": {},
   "outputs": [],
   "source": [
    "#define variables\n",
    "a = 1\n",
    "b = 2"
   ]
  },
  {
   "cell_type": "code",
   "execution_count": 11,
   "id": "955bbfa3-d5c4-4f2f-ad9a-af416b4f6b9b",
   "metadata": {},
   "outputs": [
    {
     "data": {
      "text/plain": [
       "False"
      ]
     },
     "execution_count": 11,
     "metadata": {},
     "output_type": "execute_result"
    }
   ],
   "source": [
    "#1\n",
    "a == 1 and b == 3"
   ]
  },
  {
   "cell_type": "code",
   "execution_count": 12,
   "id": "63ec7972-b1cd-431f-9211-d1609ea1e2f8",
   "metadata": {},
   "outputs": [
    {
     "data": {
      "text/plain": [
       "True"
      ]
     },
     "execution_count": 12,
     "metadata": {},
     "output_type": "execute_result"
    }
   ],
   "source": [
    "#2\n",
    "a == 1 or b == 3"
   ]
  },
  {
   "cell_type": "code",
   "execution_count": 13,
   "id": "c5a9514f-b68e-4163-82f0-5eb824fda7ef",
   "metadata": {},
   "outputs": [
    {
     "data": {
      "text/plain": [
       "True"
      ]
     },
     "execution_count": 13,
     "metadata": {},
     "output_type": "execute_result"
    }
   ],
   "source": [
    "#3\n",
    "a == 1 and not b == 3"
   ]
  },
  {
   "cell_type": "code",
   "execution_count": 14,
   "id": "2813ba57-100e-48dc-b44a-fe8e4daf1718",
   "metadata": {},
   "outputs": [
    {
     "data": {
      "text/plain": [
       "False"
      ]
     },
     "execution_count": 14,
     "metadata": {},
     "output_type": "execute_result"
    }
   ],
   "source": [
    "#4\n",
    "not a == 1 and b == 3"
   ]
  },
  {
   "cell_type": "code",
   "execution_count": 15,
   "id": "a7515696-afca-4d70-a07a-0d0400f85a1a",
   "metadata": {},
   "outputs": [
    {
     "data": {
      "text/plain": [
       "True"
      ]
     },
     "execution_count": 15,
     "metadata": {},
     "output_type": "execute_result"
    }
   ],
   "source": [
    "#5\n",
    "(a == 1 and not b == 3) or (not a == 1 and b == 3)"
   ]
  },
  {
   "cell_type": "markdown",
   "id": "cfda9085-d2da-480d-92f0-676124ca989c",
   "metadata": {},
   "source": [
    "# Iterating\n",
    "Iterating is a tool used to perform a task multiple times based on some method of counting. For example you may say that for every element in some list, perform a function on that element.\n",
    "\n",
    "The basic set up while iterating looks something like so:\n",
    "\n",
    "```\n",
    "set up condition:\n",
    "    task to perform\n",
    "```\n",
    "\n",
    "Note the colon at the end of the set up line\n",
    "\n",
    "## Nesting\n",
    "\n",
    "Python is unique in that indentation is used to nest code instead of brackets or keywords such as end. This was done in order to promote clear and understandable code. Whenever you need to nest a new block of code, it gets indented further to the right. One issue that this causes is the beginner's mistake, `IndentationError`, where the code looks like it is indented properly, but it isn't. This usually occurs because spaces and tabs were mixed together.\n",
    "\n",
    "We use nesting to differentiate between the set up of a iterated loop and the function performed in that loop. We also use nesting to differentiate between the set up of a function and the action performed in that function (we'll get to that later).\n",
    "\n",
    "## `for` loops\n",
    "The `for` loop in python works similarly to a `for` or `foreach` loop in other languages. The basic syntax is for `i in iterable:`, an iterable can be anything with the `__getitem__` method, but for our purposes it will most often be a `list`, `dictionary`, `tuple` or `set` works. The loops will run for each item in the iterable. If you want to only run a subset of the iterable, you can slice it or use list comprehension (which we'll get to later).\n",
    "\n",
    "When iterating over a dictionary, you would typically want to iterate over the keys which you can do by simply calling the dictionary in the loop or using `dictionary.keys()` in the loop. If you want to iterate over the values, you must use `dictionary.values()` in the loop.\n",
    "\n",
    "## range\n",
    "If you would like to quickly create an iterable of an incrementing integer list, you can use the range function. `range(n)` quickly creates a list from 0 to n-1, which is n times. Range can also define a start value and the step value if you need.\n",
    "\n",
    "## Third task\n",
    "* create a list `A = [1, 2, 3, 4]`\n",
    "* use a for loop to create a new list `B` where the elements of `B` are the elements of `A` squared\n",
    "    * Note: in python to take a number to a power you must use `**` instead of `^`\n",
    "    * Hint 1: you can use the `.append()` method mentioned briefly in the Intro notebook\n",
    "    * Hint 2: you can create an empty list\n",
    "    * Hint 3: you can determine the length of a list by using `len(list)`\n"
   ]
  },
  {
   "cell_type": "code",
   "execution_count": 16,
   "id": "7933e2c8-4f0b-4c56-9148-7d9efc5be792",
   "metadata": {},
   "outputs": [
    {
     "name": "stdout",
     "output_type": "stream",
     "text": [
      "[1, 4, 9, 16]\n",
      "[1, 4, 9, 16]\n",
      "[1, 4, 9, 16]\n",
      "[1, 4, 9, 16]\n"
     ]
    }
   ],
   "source": [
    "#Method 1\n",
    "A = [1,2,3,4]\n",
    "B = []\n",
    "for i in A:\n",
    "    B.append(i**2)\n",
    "\n",
    "print(B)\n",
    "\n",
    "#Method 2\n",
    "A = [1,2,3,4]\n",
    "B = A.copy()\n",
    "for i in A:\n",
    "    B[A.index(i)] = i**2\n",
    "\n",
    "print(B)\n",
    "\n",
    "#Method 3\n",
    "A = [1,2,3,4]\n",
    "B = A.copy()\n",
    "for i in range(len(A)):\n",
    "    B[i] = A[i]**2\n",
    "\n",
    "print(B)\n",
    "\n",
    "#Method 4 - using numpy\n",
    "A = [1,2,3,4]\n",
    "B = list(np.array(A)**2)\n",
    "print(B)"
   ]
  },
  {
   "cell_type": "markdown",
   "id": "3a7582a6-616d-42e3-812d-002ff90a2058",
   "metadata": {},
   "source": [
    "## While loops\n",
    "`While` loops work much like you would see in another language. They follow the syntax of `while (condition is True):`.\n",
    "\n",
    "It is *very* easy to create a `while` loop that never ends. For that reason it is recommended that you try to combine `for` loops with `if` loops if you need conditional statements in your loop.\n",
    "\n",
    "## Fourth task\n",
    "* Create a while loop that counts up (and prints) from 1 to 5\n",
    "    * Note, if you created a loop that won't end, hit the stop button on the top of this window"
   ]
  },
  {
   "cell_type": "code",
   "execution_count": 17,
   "id": "bb499779-9228-41ba-bbe3-19717e7655ed",
   "metadata": {},
   "outputs": [
    {
     "name": "stdout",
     "output_type": "stream",
     "text": [
      "1\n",
      "2\n",
      "3\n",
      "4\n",
      "5\n"
     ]
    }
   ],
   "source": [
    "i = 1\n",
    "while i <= 5:\n",
    "    print(i)\n",
    "    i = i + 1"
   ]
  },
  {
   "cell_type": "markdown",
   "id": "72925b71-0226-441e-8e3c-25ed6b674d02",
   "metadata": {},
   "source": [
    "# `if`, `elif`, and `else`\n",
    "\n",
    "`If` statements are used to run code if a given condition holds true. They are simple to create, the syntax is `if condition:`.\n",
    "\n",
    "`elif` are the same as `if` statements, but they only run if the previous `if` or `elif` statements have not run. The syntax is `elif condition:`. `elif` blocks run in order, so if you have several `elif` conditions are true, only the first one that is true will be run.\n",
    "\n",
    "Finally, there are `else` statements, which are run if none of the previous `if` or `elif` statements are run. No condition is needed for an `else` statement.\n",
    "\n",
    "## Fifth Task\n",
    "* Combine for loops and if statements to write a block of code that counts from 1 to 5. If the number is 4, print out the statement `'This is 4'` if the number is less than 4 but greater than 1, print out `'Less than 4, greater than 1'` , otherwise print `'neither condition holds'`\n",
    "* Do the same task, save the outputs as a list\n",
    "* Do the same task but create a dictionary with the numbers 1-5 as the keys and the appropriate outputs as values\n",
    "* Do the same task but create a dataframe with the numbers 1-5 as the entries in one column and the appropriate outputs as entries in anotehr"
   ]
  },
  {
   "cell_type": "code",
   "execution_count": 18,
   "id": "dfebbd11-42af-410c-9995-0055286cdaff",
   "metadata": {},
   "outputs": [
    {
     "name": "stdout",
     "output_type": "stream",
     "text": [
      "neither condition holds\n",
      "Less than 4, greater than 1\n",
      "Less than 4, greater than 1\n",
      "This is 4\n",
      "neither condition holds\n"
     ]
    }
   ],
   "source": [
    "for i in range(1,6):\n",
    "    if i == 4:\n",
    "        print('This is 4')\n",
    "    elif i < 4 and i > 1:\n",
    "        print('Less than 4, greater than 1')\n",
    "    else:\n",
    "        print('neither condition holds')"
   ]
  },
  {
   "cell_type": "code",
   "execution_count": 19,
   "id": "dfd76b46-5000-4bfe-9c00-b1f7abccb871",
   "metadata": {},
   "outputs": [
    {
     "name": "stdout",
     "output_type": "stream",
     "text": [
      "['neither condition holds', 'Less than 4, greater than 1', 'Less than 4, greater than 1', 'This is 4', 'neither condition holds']\n"
     ]
    }
   ],
   "source": [
    "Answer = []\n",
    "\n",
    "for i in range(1,6):\n",
    "    if i == 4:\n",
    "        Answer.append('This is 4')\n",
    "    elif i < 4 and i > 1:\n",
    "        Answer.append('Less than 4, greater than 1')\n",
    "    else:\n",
    "        Answer.append('neither condition holds')\n",
    "\n",
    "print(Answer)"
   ]
  },
  {
   "cell_type": "code",
   "execution_count": 20,
   "id": "079c6e14-f791-4e4d-ac5d-651788348754",
   "metadata": {},
   "outputs": [
    {
     "name": "stdout",
     "output_type": "stream",
     "text": [
      "{1: 'neither condition holds', 2: 'Less than 4, greater than 1', 3: 'Less than 4, greater than 1', 4: 'This is 4', 5: 'neither condition holds'}\n"
     ]
    }
   ],
   "source": [
    "Answer = {}\n",
    "\n",
    "for i in range(1,6):\n",
    "    if i == 4:\n",
    "        Answer[i] = 'This is 4'\n",
    "    elif i < 4 and i > 1:\n",
    "        Answer[i] = 'Less than 4, greater than 1'\n",
    "    else:\n",
    "        Answer[i] = 'neither condition holds'\n",
    "\n",
    "print(Answer)"
   ]
  },
  {
   "cell_type": "code",
   "execution_count": 21,
   "id": "f69b99ba-614e-419e-af4e-7e039595c0b2",
   "metadata": {},
   "outputs": [
    {
     "data": {
      "text/html": [
       "<div>\n",
       "<style scoped>\n",
       "    .dataframe tbody tr th:only-of-type {\n",
       "        vertical-align: middle;\n",
       "    }\n",
       "\n",
       "    .dataframe tbody tr th {\n",
       "        vertical-align: top;\n",
       "    }\n",
       "\n",
       "    .dataframe thead th {\n",
       "        text-align: right;\n",
       "    }\n",
       "</style>\n",
       "<table border=\"1\" class=\"dataframe\">\n",
       "  <thead>\n",
       "    <tr style=\"text-align: right;\">\n",
       "      <th></th>\n",
       "      <th>value</th>\n",
       "      <th>output</th>\n",
       "    </tr>\n",
       "  </thead>\n",
       "  <tbody>\n",
       "    <tr>\n",
       "      <th>0</th>\n",
       "      <td>1</td>\n",
       "      <td>neither condition holds</td>\n",
       "    </tr>\n",
       "    <tr>\n",
       "      <th>1</th>\n",
       "      <td>2</td>\n",
       "      <td>Less than 4, greater than 1</td>\n",
       "    </tr>\n",
       "    <tr>\n",
       "      <th>2</th>\n",
       "      <td>3</td>\n",
       "      <td>Less than 4, greater than 1</td>\n",
       "    </tr>\n",
       "    <tr>\n",
       "      <th>3</th>\n",
       "      <td>4</td>\n",
       "      <td>This is 4</td>\n",
       "    </tr>\n",
       "    <tr>\n",
       "      <th>4</th>\n",
       "      <td>5</td>\n",
       "      <td>neither condition holds</td>\n",
       "    </tr>\n",
       "  </tbody>\n",
       "</table>\n",
       "</div>"
      ],
      "text/plain": [
       "   value                       output\n",
       "0      1      neither condition holds\n",
       "1      2  Less than 4, greater than 1\n",
       "2      3  Less than 4, greater than 1\n",
       "3      4                    This is 4\n",
       "4      5      neither condition holds"
      ]
     },
     "metadata": {},
     "output_type": "display_data"
    }
   ],
   "source": [
    "val_list = []\n",
    "ans_list = []\n",
    "\n",
    "for i in range(1,6):\n",
    "    if i == 4:\n",
    "        ans_list.append('This is 4')\n",
    "        val_list.append(i)\n",
    "    elif i < 4 and i > 1:\n",
    "        ans_list.append('Less than 4, greater than 1')\n",
    "        val_list.append(i)\n",
    "    else:\n",
    "        ans_list.append('neither condition holds')\n",
    "        val_list.append(i)\n",
    "\n",
    "Answer = pd.DataFrame({'value':val_list,\n",
    "                       'output':ans_list})\n",
    "\n",
    "display(Answer)"
   ]
  },
  {
   "cell_type": "markdown",
   "id": "9a2e2d82-48e7-43de-b2a7-0214acbbb929",
   "metadata": {},
   "source": [
    "# Function Definition\n",
    "Defining a function is useful when you want to perform the same action for several different inputs. The basic syntax of function definition is:\n",
    "\n",
    "```\n",
    "def function(required input, optional input = default value):\n",
    "    f = calculation\n",
    "    return f\n",
    "```\n",
    "\n",
    "There are two main types of inputs you can have in your function. These are required or optional.\n",
    "- Required inputs do NOT have a default value.\n",
    "- Optional inputs start with a default value in the functional definition. If no value is included, then the default is used.\n",
    "\n",
    "The `return` line of the function is crucial for an output. If you do not include the `return` line, your function will run the calculation defined, but will return an output of `None` instead of the calculated value\n",
    "\n",
    "## Sixth Task\n",
    "* Define a function $f(x, a, b, c) = a \\cdot x^c + b$\n",
    "    * Remember, to take an exponent you must use `**`, not `^`\n",
    "* Define the same function with default parameters `a = 1`, `b = 0`, `c = 2`\n",
    "* Use either function and what we have used previously to create a table with the following 3 columns for 1<x<5 and two sets of parameter values of your choice:\n",
    "  \n",
    "$$\\begin{array}{|c|c|c|}\n",
    "\\hline \\text{\\textbf{x}} & \\text{\\textbf{[a,b,c]}} & \\text{\\textbf{f(x,a,b,c)}}\\\\ \\hline\n",
    "\\cdots & \\cdots & \\cdots \\\\ \\hline\n",
    "\\end{array}$$\n",
    "\n",
    "    * Hint: you can use `pd.concat([DataFrame1, DataFrame2])` to stack two data frames"
   ]
  },
  {
   "cell_type": "code",
   "execution_count": 22,
   "id": "ddf6c44c-fb7d-4702-837d-ffdd21582ffa",
   "metadata": {},
   "outputs": [],
   "source": [
    "def f1(x,a,b,c):\n",
    "    f = a*x**c + b\n",
    "    return f"
   ]
  },
  {
   "cell_type": "code",
   "execution_count": 23,
   "id": "e3344b45-b52e-4b4f-8841-a33147543aed",
   "metadata": {},
   "outputs": [],
   "source": [
    "def f2(x,a=1,b=0,c=2):\n",
    "    f = a*x**c + b\n",
    "    return f"
   ]
  },
  {
   "cell_type": "code",
   "execution_count": 24,
   "id": "90344d76-b210-4630-b2c0-978367abcb5f",
   "metadata": {},
   "outputs": [
    {
     "data": {
      "text/html": [
       "<div>\n",
       "<style scoped>\n",
       "    .dataframe tbody tr th:only-of-type {\n",
       "        vertical-align: middle;\n",
       "    }\n",
       "\n",
       "    .dataframe tbody tr th {\n",
       "        vertical-align: top;\n",
       "    }\n",
       "\n",
       "    .dataframe thead th {\n",
       "        text-align: right;\n",
       "    }\n",
       "</style>\n",
       "<table border=\"1\" class=\"dataframe\">\n",
       "  <thead>\n",
       "    <tr style=\"text-align: right;\">\n",
       "      <th></th>\n",
       "      <th>x</th>\n",
       "      <th>[a,b,c]</th>\n",
       "      <th>f(x,a,b,c)</th>\n",
       "    </tr>\n",
       "  </thead>\n",
       "  <tbody>\n",
       "    <tr>\n",
       "      <th>0</th>\n",
       "      <td>1</td>\n",
       "      <td>[1, 2, 1]</td>\n",
       "      <td>3</td>\n",
       "    </tr>\n",
       "    <tr>\n",
       "      <th>1</th>\n",
       "      <td>2</td>\n",
       "      <td>[1, 2, 1]</td>\n",
       "      <td>4</td>\n",
       "    </tr>\n",
       "    <tr>\n",
       "      <th>2</th>\n",
       "      <td>3</td>\n",
       "      <td>[1, 2, 1]</td>\n",
       "      <td>5</td>\n",
       "    </tr>\n",
       "    <tr>\n",
       "      <th>3</th>\n",
       "      <td>4</td>\n",
       "      <td>[1, 2, 1]</td>\n",
       "      <td>6</td>\n",
       "    </tr>\n",
       "    <tr>\n",
       "      <th>4</th>\n",
       "      <td>5</td>\n",
       "      <td>[1, 2, 1]</td>\n",
       "      <td>7</td>\n",
       "    </tr>\n",
       "    <tr>\n",
       "      <th>0</th>\n",
       "      <td>1</td>\n",
       "      <td>[1, 0, 2]</td>\n",
       "      <td>1</td>\n",
       "    </tr>\n",
       "    <tr>\n",
       "      <th>1</th>\n",
       "      <td>2</td>\n",
       "      <td>[1, 0, 2]</td>\n",
       "      <td>4</td>\n",
       "    </tr>\n",
       "    <tr>\n",
       "      <th>2</th>\n",
       "      <td>3</td>\n",
       "      <td>[1, 0, 2]</td>\n",
       "      <td>9</td>\n",
       "    </tr>\n",
       "    <tr>\n",
       "      <th>3</th>\n",
       "      <td>4</td>\n",
       "      <td>[1, 0, 2]</td>\n",
       "      <td>16</td>\n",
       "    </tr>\n",
       "    <tr>\n",
       "      <th>4</th>\n",
       "      <td>5</td>\n",
       "      <td>[1, 0, 2]</td>\n",
       "      <td>25</td>\n",
       "    </tr>\n",
       "  </tbody>\n",
       "</table>\n",
       "</div>"
      ],
      "text/plain": [
       "   x    [a,b,c]  f(x,a,b,c)\n",
       "0  1  [1, 2, 1]           3\n",
       "1  2  [1, 2, 1]           4\n",
       "2  3  [1, 2, 1]           5\n",
       "3  4  [1, 2, 1]           6\n",
       "4  5  [1, 2, 1]           7\n",
       "0  1  [1, 0, 2]           1\n",
       "1  2  [1, 0, 2]           4\n",
       "2  3  [1, 0, 2]           9\n",
       "3  4  [1, 0, 2]          16\n",
       "4  5  [1, 0, 2]          25"
      ]
     },
     "metadata": {},
     "output_type": "display_data"
    }
   ],
   "source": [
    "df = pd.DataFrame({})\n",
    "list_params = [[1,2,1],[1,0,2]]\n",
    "\n",
    "for p in list_params:\n",
    "    in_list = []\n",
    "    par_list = []\n",
    "    fun_list = []\n",
    "    for i in range(1,6):\n",
    "        in_list.append(i)\n",
    "        par_list.append(p)\n",
    "        fun_list.append(f1(i,a = p[0], b = p[1], c = p[2]))\n",
    "    df = pd.concat([df,pd.DataFrame({'x':in_list,'[a,b,c]':par_list,'f(x,a,b,c)':fun_list})])\n",
    "    \n",
    "display(df)"
   ]
  }
 ],
 "metadata": {
  "kernelspec": {
   "display_name": "Poetry",
   "language": "python",
   "name": "poetry-kernel"
  },
  "language_info": {
   "codemirror_mode": {
    "name": "ipython",
    "version": 3
   },
   "file_extension": ".py",
   "mimetype": "text/x-python",
   "name": "python",
   "nbconvert_exporter": "python",
   "pygments_lexer": "ipython3",
   "version": "3.12.4"
  }
 },
 "nbformat": 4,
 "nbformat_minor": 5
}
