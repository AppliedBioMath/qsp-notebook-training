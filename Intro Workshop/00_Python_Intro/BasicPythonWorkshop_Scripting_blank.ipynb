{
 "cells": [
  {
   "cell_type": "markdown",
   "id": "965d6e79-420f-4a47-91a8-760905b10a7a",
   "metadata": {},
   "source": [
    "# Basic Python Workshop - Scripting\n",
    "In this workshop we will go over some basic scripting.\n",
    "\n",
    "For this session we will only import native python packages and do not require interfacing with our custom software. We will work with numpy for numerical analysis, pandas for its convenient data table manipulations, and plotnine for plotting purposes.\n",
    "\n",
    "# Package import\n",
    "Import the same packages as in the introductory notebook:\n",
    "\n",
    "* `numpy`\n",
    "* `pandas`"
   ]
  },
  {
   "cell_type": "code",
   "execution_count": null,
   "id": "b097b8da-8480-4995-931f-7527a025f86c",
   "metadata": {},
   "outputs": [],
   "source": []
  },
  {
   "cell_type": "markdown",
   "id": "dbf73c77-29c0-46ba-8cb6-a3fba5638687",
   "metadata": {},
   "source": [
    "# Conditional Statements\n",
    "The conditional statements follow the general conventions of most languages. One thing to note about conditionals is that there are constraints on comparing different object types. For example, you cannot compare a list to another object with conditionals. But you can compare a `numpy array` to an integer or float (this compares every element in the array).\n",
    "\n",
    "## Most common conditionals\n",
    "\n",
    "* equal: `a == b`\n",
    "* not equal: `a != b`\n",
    "* less than: `a < b`\n",
    "* less than or equal: `a <= b`\n",
    "* greater than: `a > b`\n",
    "* greater than or equal: `a >= b`\n",
    "\n",
    "## The `is` conditional\n",
    "There is another conditional that you may not commonly see in another language, which is `is`. This conditional checks that the objects that are being referenced are the same, or share the same identity. Essentially it means that they have the same `id`. This is different from the `==` sign because the `==` sign actually checks if the objects are equal, and not just referencing the same object.\n",
    "\n",
    "## The `in` conditional\n",
    "Another useful conditional is the `in` keyword. This checks if a certain item is in an iterable (a list, array, or string)\n",
    "\n",
    "## First Task\n",
    "\n",
    "* Assign a list, `L1`, with elements `[1,2,3]`\n",
    "* Define a numpy array, `A1` with elements `[1, 2, 3]`\n",
    "* Create a new list `L2` with elements `[1.0, 2.0, 3.0]`\n",
    "* Create a third list `L3` by setting it equal to `L1`\n",
    "* Use `==` to check if `L1` is the same as `L2` and `L3`\n",
    "* Use `is` to check if `L1` is the same as `L2` and `L3`\n",
    "* Use == to check if `L1` is the same as `A1` - note the new behavior here\n",
    "* Use `<` to determine which elements of `L1` and `A1` are less than 2 - note the new behavior here\n",
    "* Use `in` to determine if the number 3 is in A1\n",
    "* Use `in` to determine if the substring `central` is in the string `'concentration_cental_ng_per_mL'` (copy and paste to ensure you're using exactly the same strings\n",
    "* Use `in` to determine if the item `'concentration_central_ng_per_mL'` is in the list `['concentration_peripheral_ng_per_mL', 'concentration_central_ng_per_L', 'concentration_central_ng_per_mL', 'RO_central', 'RO_peripheral\"']` (copy and paste the list to ensure youre using the exact same list)"
   ]
  },
  {
   "cell_type": "code",
   "execution_count": null,
   "id": "763587f9-bd10-4756-a5e4-20539945f086",
   "metadata": {},
   "outputs": [],
   "source": []
  },
  {
   "cell_type": "markdown",
   "id": "279f78cf-feef-4274-9b8e-6ce82b3fd2fe",
   "metadata": {},
   "source": [
    "# Boolean Logic\n",
    "For python instead of symbols such as `&` for \"and\" ,`|` for \"or, or `!` for \"not\", the word is just used instead. So if you wanted to check if two conditions were true, you would just use `condition1 and condition2`.\n",
    "\n",
    "## Second Task\n",
    "* Define a = 1\n",
    "* Define b = 2\n",
    "1. Write a boolean conditional statement that checks if both these statements are true (a == 1, b == 3)\n",
    "2. Write a boolean conditional statement that checks if at least one of these statements are true (a == 1, b == 3)\n",
    "3. Write a boolean conditional statement that checks if only the first of these statements are true (a == 1, b == 3)\n",
    "4. Write a boolean conditional statement that checks if only the second of these statements are true (a == 1, b == 3)\n",
    "5. Write a boolean conditional statement that checks if only one (but either) of these statements are true (a == 1, b == 3)"
   ]
  },
  {
   "cell_type": "code",
   "execution_count": 1,
   "id": "6e277e20-d1b3-4b5b-becb-678c8e60778a",
   "metadata": {},
   "outputs": [],
   "source": [
    "#define variables"
   ]
  },
  {
   "cell_type": "code",
   "execution_count": 2,
   "id": "955bbfa3-d5c4-4f2f-ad9a-af416b4f6b9b",
   "metadata": {},
   "outputs": [],
   "source": [
    "#1"
   ]
  },
  {
   "cell_type": "code",
   "execution_count": 3,
   "id": "63ec7972-b1cd-431f-9211-d1609ea1e2f8",
   "metadata": {},
   "outputs": [],
   "source": [
    "#2"
   ]
  },
  {
   "cell_type": "code",
   "execution_count": 4,
   "id": "c5a9514f-b68e-4163-82f0-5eb824fda7ef",
   "metadata": {},
   "outputs": [],
   "source": [
    "#3"
   ]
  },
  {
   "cell_type": "code",
   "execution_count": 5,
   "id": "2813ba57-100e-48dc-b44a-fe8e4daf1718",
   "metadata": {},
   "outputs": [],
   "source": [
    "#4"
   ]
  },
  {
   "cell_type": "code",
   "execution_count": 6,
   "id": "a7515696-afca-4d70-a07a-0d0400f85a1a",
   "metadata": {},
   "outputs": [],
   "source": [
    "#5"
   ]
  },
  {
   "cell_type": "markdown",
   "id": "cfda9085-d2da-480d-92f0-676124ca989c",
   "metadata": {},
   "source": [
    "# Iterating\n",
    "Iterating is a tool used to perform a task multiple times based on some method of counting. For example you may say that for every element in some list, perform a function on that element.\n",
    "\n",
    "The basic set up while iterating looks something like so:\n",
    "\n",
    "```\n",
    "set up condition:\n",
    "    task to perform\n",
    "```\n",
    "\n",
    "Note the colon at the end of the set up line\n",
    "\n",
    "## Nesting\n",
    "\n",
    "Python is unique in that indentation is used to nest code instead of brackets or keywords such as end. This was done in order to promote clear and understandable code. Whenever you need to nest a new block of code, it gets indented further to the right. One issue that this causes is the beginner's mistake, `IndentationError`, where the code looks like it is indented properly, but it isn't. This usually occurs because spaces and tabs were mixed together.\n",
    "\n",
    "We use nesting to differentiate between the set up of a iterated loop and the function performed in that loop. We also use nesting to differentiate between the set up of a function and the action performed in that function (we'll get to that later).\n",
    "\n",
    "## `for` loops\n",
    "The `for` loop in python works similarly to a `for` or `foreach` loop in other languages. The basic syntax is for `i in iterable:`, an iterable can be anything with the `__getitem__` method, but for our purposes it will most often be a `list`, `dictionary`, `tuple` or `set` works. The loops will run for each item in the iterable. If you want to only run a subset of the iterable, you can slice it or use list comprehension (which we'll get to later).\n",
    "\n",
    "When iterating over a dictionary, you would typically want to iterate over the keys which you can do by simply calling the dictionary in the loop or using `dictionary.keys()` in the loop. If you want to iterate over the values, you must use `dictionary.values()` in the loop.\n",
    "\n",
    "## range\n",
    "If you would like to quickly create an iterable of an incrementing integer list, you can use the range function. `range(n)` quickly creates a list from 0 to n-1, which is n times. Range can also define a start value and the step value if you need.\n",
    "\n",
    "## Third task\n",
    "* create a list `A = [1, 2, 3, 4]`\n",
    "* use a for loop to create a new list `B` where the elements of `B` are the elements of `A` squared\n",
    "    * Note: in python to take a number to a power you must use `**` instead of `^`\n",
    "    * Hint 1: you can use the `.append()` method mentioned briefly in the Intro notebook\n",
    "    * Hint 2: you can create an empty list\n",
    "    * Hint 3: you can determine the length of a list by using `len(list)`\n"
   ]
  },
  {
   "cell_type": "code",
   "execution_count": null,
   "id": "7933e2c8-4f0b-4c56-9148-7d9efc5be792",
   "metadata": {},
   "outputs": [],
   "source": []
  },
  {
   "cell_type": "markdown",
   "id": "3a7582a6-616d-42e3-812d-002ff90a2058",
   "metadata": {},
   "source": [
    "## While loops\n",
    "`While` loops work much like you would see in another language. They follow the syntax of `while (condition is True):`.\n",
    "\n",
    "It is *very* easy to create a `while` loop that never ends. For that reason it is recommended that you try to combine `for` loops with `if` loops if you need conditional statements in your loop.\n",
    "\n",
    "## Fourth task\n",
    "* Create a while loop that counts up (and prints) from 1 to 5\n",
    "    * Note, if you created a loop that won't end, hit the stop button on the top of this window"
   ]
  },
  {
   "cell_type": "code",
   "execution_count": null,
   "id": "bb499779-9228-41ba-bbe3-19717e7655ed",
   "metadata": {},
   "outputs": [],
   "source": []
  },
  {
   "cell_type": "markdown",
   "id": "72925b71-0226-441e-8e3c-25ed6b674d02",
   "metadata": {},
   "source": [
    "# `if`, `elif`, and `else`\n",
    "\n",
    "`If` statements are used to run code if a given condition holds true. They are simple to create, the syntax is `if condition:`.\n",
    "\n",
    "`elif` are the same as `if` statements, but they only run if the previous `if` or `elif` statements have not run. The syntax is `elif condition:`. `elif` blocks run in order, so if you have several `elif` conditions are true, only the first one that is true will be run.\n",
    "\n",
    "Finally, there are `else` statements, which are run if none of the previous `if` or `elif` statements are run. No condition is needed for an `else` statement.\n",
    "\n",
    "## Fifth Task\n",
    "* Combine for loops and if statements to write a block of code that counts from 1 to 5. If the number is 4, print out the statement `'This is 4'` if the number is less than 4 but greater than 1, print out `'Less than 4, greater than 1'` , otherwise print `'neither condition holds'`\n",
    "* Do the same task, save the outputs as a list\n",
    "* Do the same task but create a dictionary with the numbers 1-5 as the keys and the appropriate outputs as values\n",
    "* Do the same task but create a dataframe with the numbers 1-5 as the entries in one column and the appropriate outputs as entries in anotehr"
   ]
  },
  {
   "cell_type": "code",
   "execution_count": null,
   "id": "dfebbd11-42af-410c-9995-0055286cdaff",
   "metadata": {},
   "outputs": [],
   "source": []
  },
  {
   "cell_type": "markdown",
   "id": "9a2e2d82-48e7-43de-b2a7-0214acbbb929",
   "metadata": {},
   "source": [
    "# Function Definition\n",
    "Defining a function is useful when you want to perform the same action for several different inputs. The basic syntax of function definition is:\n",
    "\n",
    "```\n",
    "def function(required input, optional input = default value):\n",
    "    f = calculation\n",
    "    return f\n",
    "```\n",
    "\n",
    "There are two main types of inputs you can have in your function. These are required or optional.\n",
    "- Required inputs do NOT have a default value.\n",
    "- Optional inputs start with a default value in the functional definition. If no value is included, then the default is used.\n",
    "\n",
    "The `return` line of the function is crucial for an output. If you do not include the `return` line, your function will run the calculation defined, but will return an output of `None` instead of the calculated value.\n",
    "\n",
    "## Sixth Task\n",
    "* Define a function $f(x, a, b, c) = a \\cdot x^c + b$\n",
    "    * Remember, to take an exponent you must use `**`, not `^`\n",
    "* Define the same function with default parameters `a = 1`, `b = 0`, `c = 2`\n",
    "* Use either function and what we have used previously to create a table with the following 3 columns for 1<x<5 and two sets of parameter values of your choice:\n",
    "  \n",
    "$$\\begin{array}{|c|c|c|}\n",
    "\\hline \\text{\\textbf{x}} & \\text{\\textbf{[a,b,c]}} & \\text{\\textbf{f(x,a,b,c)}}\\\\ \\hline\n",
    "\\cdots & \\cdots & \\cdots \\\\ \\hline\n",
    "\\end{array}$$\n",
    "\n",
    "    * Hint: you can use `pd.concat([DataFrame1, DataFrame2])` to stack two data frames"
   ]
  },
  {
   "cell_type": "code",
   "execution_count": null,
   "id": "ddf6c44c-fb7d-4702-837d-ffdd21582ffa",
   "metadata": {},
   "outputs": [],
   "source": []
  }
 ],
 "metadata": {
  "kernelspec": {
   "display_name": "Poetry",
   "language": "python",
   "name": "poetry-kernel"
  },
  "language_info": {
   "codemirror_mode": {
    "name": "ipython",
    "version": 3
   },
   "file_extension": ".py",
   "mimetype": "text/x-python",
   "name": "python",
   "nbconvert_exporter": "python",
   "pygments_lexer": "ipython3",
   "version": "3.12.4"
  }
 },
 "nbformat": 4,
 "nbformat_minor": 5
}
