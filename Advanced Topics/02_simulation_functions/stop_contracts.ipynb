{
 "cells": [
  {
   "cell_type": "markdown",
   "id": "6ae6e1db",
   "metadata": {},
   "source": [
    "# Interacting with contracts\n",
    "\n",
    "A contract represents a set of related jobs submitted by a user and stopping it will stop all jobs under that contract.\n",
    "\n",
    "This notebook shows how to list and stop contracts using the `abm` Python client.\n"
   ]
  },
  {
   "cell_type": "code",
   "execution_count": 1,
   "id": "8082b45e-2467-4f51-9bb2-e5d694c8cb68",
   "metadata": {
    "tags": []
   },
   "outputs": [],
   "source": [
    "from abm import list_contracts, simulate"
   ]
  },
  {
   "cell_type": "markdown",
   "id": "ceebefc5-5a8d-4753-8f28-4856c3b922cb",
   "metadata": {},
   "source": [
    "# Listing contracts\n"
   ]
  },
  {
   "cell_type": "code",
   "execution_count": 2,
   "id": "acbfa27f-6d1b-4a73-b805-aca731965791",
   "metadata": {
    "tags": []
   },
   "outputs": [
    {
     "data": {
      "text/plain": [
       "Total: 1, Running: 0, Succeeded: 1, Failed: 0"
      ]
     },
     "metadata": {},
     "output_type": "display_data"
    }
   ],
   "source": [
    "_ = simulate(models=\"stop_contracts_model.model\", times=[2])"
   ]
  },
  {
   "cell_type": "code",
   "execution_count": 3,
   "id": "7561dfb0",
   "metadata": {},
   "outputs": [
    {
     "name": "stdout",
     "output_type": "stream",
     "text": [
      "Help on method list_contracts in module abm._sdk.client_interface:\n",
      "\n",
      "list_contracts(users: 'list[str] | None' = None, deleted: 'bool' = False, fulfilled: 'bool' = False, offset: 'int' = 0, limit: 'int' = 100) -> 'Contracts' method of abm._sdk.client_interface.Client instance\n",
      "    List contracts by status and user.\n",
      "\n",
      "    Parameters\n",
      "    ----------\n",
      "    users : `list[str]` or None, default=None\n",
      "        List of users to filter contracts by.\n",
      "        If the special value `[\"*\"]` is passed, all users are included.\n",
      "        If an empty list is passed or None, only contracts for the current user are included.\n",
      "    deleted : `bool`, default=False\n",
      "        Whether to include deleted contracts.\n",
      "    fulfilled : `bool`, default=False\n",
      "        Whether to include fulfilled contracts. Fulfillment happens when all jobs in a contract have finished,\n",
      "        either successfully or not.\n",
      "    offset : `int`, default=0\n",
      "        Offset into list of returned contracts, skips the first `offset` records in list.\n",
      "    limit : `int`, default=100\n",
      "        Maximum number of contracts returned.\n",
      "\n",
      "    Returns\n",
      "    -------\n",
      "    `Contracts`: e.g. `contracts = list_contracts().to_pandas()` or `display(list_contracts())`\n",
      "\n"
     ]
    }
   ],
   "source": [
    "help(list_contracts)"
   ]
  },
  {
   "cell_type": "code",
   "execution_count": 4,
   "id": "6193357a-37d3-4874-baf9-bd0b189bb0b5",
   "metadata": {
    "tags": []
   },
   "outputs": [
    {
     "data": {
      "text/html": [
       "<div>\n",
       "<style scoped>\n",
       "    .dataframe tbody tr th:only-of-type {\n",
       "        vertical-align: middle;\n",
       "    }\n",
       "\n",
       "    .dataframe tbody tr th {\n",
       "        vertical-align: top;\n",
       "    }\n",
       "\n",
       "    .dataframe thead th {\n",
       "        text-align: right;\n",
       "    }\n",
       "</style>\n",
       "<table border=\"1\" class=\"dataframe\">\n",
       "  <thead>\n",
       "    <tr style=\"text-align: right;\">\n",
       "      <th></th>\n",
       "      <th>id</th>\n",
       "      <th>deleted</th>\n",
       "      <th>fulfilled</th>\n",
       "    </tr>\n",
       "  </thead>\n",
       "  <tbody>\n",
       "    <tr>\n",
       "      <th>0</th>\n",
       "      <td>fff524b12ae340b580b12d9a1a89896c</td>\n",
       "      <td>False</td>\n",
       "      <td>True</td>\n",
       "    </tr>\n",
       "    <tr>\n",
       "      <th>1</th>\n",
       "      <td>ff7a027904c9459fa0c56747f1099520</td>\n",
       "      <td>False</td>\n",
       "      <td>True</td>\n",
       "    </tr>\n",
       "    <tr>\n",
       "      <th>2</th>\n",
       "      <td>fecdab8bac384dca9c63080774377959</td>\n",
       "      <td>False</td>\n",
       "      <td>True</td>\n",
       "    </tr>\n",
       "    <tr>\n",
       "      <th>3</th>\n",
       "      <td>feb35f9ee50240f599eecae09293bfd6</td>\n",
       "      <td>False</td>\n",
       "      <td>True</td>\n",
       "    </tr>\n",
       "    <tr>\n",
       "      <th>4</th>\n",
       "      <td>fdbf843426194b309d3b470e69e538fe</td>\n",
       "      <td>False</td>\n",
       "      <td>True</td>\n",
       "    </tr>\n",
       "    <tr>\n",
       "      <th>...</th>\n",
       "      <td>...</td>\n",
       "      <td>...</td>\n",
       "      <td>...</td>\n",
       "    </tr>\n",
       "    <tr>\n",
       "      <th>95</th>\n",
       "      <td>dae0f1023d5b45ba8bb8c252cdc2270d</td>\n",
       "      <td>False</td>\n",
       "      <td>True</td>\n",
       "    </tr>\n",
       "    <tr>\n",
       "      <th>96</th>\n",
       "      <td>dad0cd620d7840d08ea25c2a7618edf0</td>\n",
       "      <td>False</td>\n",
       "      <td>True</td>\n",
       "    </tr>\n",
       "    <tr>\n",
       "      <th>97</th>\n",
       "      <td>daadfa374bd9484e98120addb98d900b</td>\n",
       "      <td>False</td>\n",
       "      <td>True</td>\n",
       "    </tr>\n",
       "    <tr>\n",
       "      <th>98</th>\n",
       "      <td>da44293fc92747b0821fc3fa7685f87e</td>\n",
       "      <td>False</td>\n",
       "      <td>True</td>\n",
       "    </tr>\n",
       "    <tr>\n",
       "      <th>99</th>\n",
       "      <td>da345caa479e423fa7492ad9a0c8f9d9</td>\n",
       "      <td>False</td>\n",
       "      <td>True</td>\n",
       "    </tr>\n",
       "  </tbody>\n",
       "</table>\n",
       "<p>100 rows × 3 columns</p>\n",
       "</div>"
      ],
      "text/plain": [
       "Contracts(contracts=[Contract(id='fff524b12ae340b580b12d9a1a89896c', deleted=False, fulfilled=True), Contract(id='ff7a027904c9459fa0c56747f1099520', deleted=False, fulfilled=True), Contract(id='fecdab8bac384dca9c63080774377959', deleted=False, fulfilled=True), Contract(id='feb35f9ee50240f599eecae09293bfd6', deleted=False, fulfilled=True), Contract(id='fdbf843426194b309d3b470e69e538fe', deleted=False, fulfilled=True), Contract(id='fd2eceacea424ccf9959bc9569014aa8', deleted=False, fulfilled=True), Contract(id='fd1d3b2c53f64dcda3df17d38b45ea0d', deleted=False, fulfilled=True), Contract(id='fcef9579519e462480b10cd6e8fde2f6', deleted=False, fulfilled=True), Contract(id='fc9a4b4cd5ee4b79bdbf47d2ab17ba18', deleted=False, fulfilled=True), Contract(id='fc5fb5b4f9f34d1784229fe3a4f620e2', deleted=False, fulfilled=True), Contract(id='fc5beea6479043578c0a9edf3f362fbc', deleted=False, fulfilled=True), Contract(id='fc13fd663d494c45b5d59cef32390d20', deleted=False, fulfilled=True), Contract(id='fbccc8d5842f4086b08c3542e6c6f382', deleted=False, fulfilled=True), Contract(id='fb0d39c637524a78aa19f135c9c66a06', deleted=False, fulfilled=True), Contract(id='fac6bd7205524844a405eb4c0bd8f961', deleted=False, fulfilled=True), Contract(id='fab35110b20149a991080f70d8b91f1a', deleted=False, fulfilled=True), Contract(id='fa081804c88845dcb1bb6e39bc8348e1', deleted=False, fulfilled=True), Contract(id='f9fd1466dd7344a2bf67c3c6d6f6c162', deleted=False, fulfilled=True), Contract(id='f98c537a6c8b464e8e089c6265bb0506', deleted=False, fulfilled=True), Contract(id='f8733b48141b4f3784fda63e9e53472a', deleted=False, fulfilled=True), Contract(id='f80d684005914375a618cd080ce6c942', deleted=False, fulfilled=True), Contract(id='f73b11cbff314961a6ff2124a49ad6f0', deleted=False, fulfilled=True), Contract(id='f60af171f44240ae81b3f2d3bc72f8c0', deleted=False, fulfilled=True), Contract(id='f57df1b6f95a407b98e8f0683199e4dd', deleted=False, fulfilled=True), Contract(id='f55703cca5264aee858d21e810ef5392', deleted=False, fulfilled=True), Contract(id='f4daf84c9d064d51a6735786fcfec899', deleted=False, fulfilled=True), Contract(id='f4ca40ed6b5c45e28956689e5415f8f9', deleted=False, fulfilled=True), Contract(id='f42e1b79b4ee419fa25cf9d7b6502090', deleted=False, fulfilled=True), Contract(id='f3da8a65de284c7f94b33f2b5e186029', deleted=False, fulfilled=True), Contract(id='f3b5763c5d3347a2966ae13d709daa0b', deleted=False, fulfilled=True), Contract(id='f318bdb6896d49c488eb33b25a339695', deleted=False, fulfilled=True), Contract(id='f2aef6ace2d34685acaa0c830b5af806', deleted=False, fulfilled=True), Contract(id='f2942e6a449e46be80d79087455609a7', deleted=False, fulfilled=True), Contract(id='f29196378cdc4eb7a711a18b016ea01d', deleted=False, fulfilled=True), Contract(id='f1776555b8a14db9922e373e54a61916', deleted=False, fulfilled=True), Contract(id='f12cb2ae3c334faa97838918ab593482', deleted=False, fulfilled=True), Contract(id='f0f30c16ddf64f3899d1f19085caf745', deleted=False, fulfilled=True), Contract(id='f0c6f333fb324099b8e715192b482439', deleted=False, fulfilled=True), Contract(id='f07bd32aa3074adcb392ee66d5bdef4e', deleted=False, fulfilled=True), Contract(id='f03fdf94323d4baa94813d2c500ddd86', deleted=False, fulfilled=True), Contract(id='efd28ade5a2e426381549fd87d818abc', deleted=False, fulfilled=True), Contract(id='efa99addffc44c03adca8ff181c07cf8', deleted=False, fulfilled=True), Contract(id='eef638abf5204014a8cffdfa6e6f11d2', deleted=False, fulfilled=True), Contract(id='eed2292b84034cd3b392ffbb7c37e019', deleted=False, fulfilled=True), Contract(id='eeceb9cc56504fc5984ec0fb63c7dd93', deleted=False, fulfilled=True), Contract(id='eecb379afd66467799d6b9ebd97d431b', deleted=False, fulfilled=True), Contract(id='ee5294f6f4ff4f7397f44a9a872083d4', deleted=False, fulfilled=True), Contract(id='ee431b3eb8be4c67b5f85ac959ef8b17', deleted=False, fulfilled=True), Contract(id='edf938f811d64d2bade5b9f99601b62b', deleted=False, fulfilled=True), Contract(id='edd8b63c068d4eee968442910bdb5af8', deleted=False, fulfilled=True), Contract(id='edc3aa8d832543bfae2f1627b6c6a79d', deleted=False, fulfilled=True), Contract(id='ed6b02efa0614f82ae9be693269b958f', deleted=False, fulfilled=True), Contract(id='ed4d7e2e81bd4771831da34b0f9b5d6c', deleted=False, fulfilled=True), Contract(id='ecbeee00cf0849d4b515972ced16ffb3', deleted=False, fulfilled=True), Contract(id='ec9eb5f444c54589b7bfcac644f486f6', deleted=False, fulfilled=True), Contract(id='ec260f51f0534a78bd82f9c9f141d28c', deleted=False, fulfilled=True), Contract(id='ec1cece43b0442d6b62a1d55ddca4ca6', deleted=False, fulfilled=True), Contract(id='eac380cbaf344921838ecdfad0c95caa', deleted=False, fulfilled=True), Contract(id='ea9543ea60e74972becaa29348898fbf', deleted=False, fulfilled=True), Contract(id='ea0a80a213f2443584e874cdc7e59ea6', deleted=False, fulfilled=True), Contract(id='e99757c99de549538d17e9258ec7d006', deleted=False, fulfilled=True), Contract(id='e8fe92a1d1124dbc8beb53f4d0e68f78', deleted=False, fulfilled=True), Contract(id='e7efd939f6244669a052c0d90137427b', deleted=False, fulfilled=True), Contract(id='e78b39bd80f648aaa8f75e055a959e6d', deleted=False, fulfilled=True), Contract(id='e729b5288c4b41caba933b176b9ffc70', deleted=False, fulfilled=True), Contract(id='e71253a552a04a84aa8b0e998a15c4d0', deleted=False, fulfilled=True), Contract(id='e700464c9ce243a8aa6625026da3e25f', deleted=False, fulfilled=True), Contract(id='e6d4467707de4976907fc409277bc166', deleted=False, fulfilled=True), Contract(id='e6cf1c5169f3422996f9a2463cc408ad', deleted=False, fulfilled=True), Contract(id='e62d0678941f4d669b9626c9d4a90224', deleted=False, fulfilled=True), Contract(id='e545d77e7d1141ef84d93a629bc75215', deleted=False, fulfilled=True), Contract(id='e536fc2c642045179bf7ddf996b4d08d', deleted=False, fulfilled=True), Contract(id='e4ef466cf37b4398bbc12585f22ba913', deleted=False, fulfilled=True), Contract(id='e4e24d0803d34533897189605b88c797', deleted=False, fulfilled=True), Contract(id='e49bc11ba5e54204b44f29892bceaead', deleted=False, fulfilled=True), Contract(id='e488a7097eea40469505819c05651ddb', deleted=False, fulfilled=True), Contract(id='e4582fe70a904d7695e4241329a8fe9a', deleted=False, fulfilled=True), Contract(id='e3f9c4818a6e4df7a397006b2181ed01', deleted=False, fulfilled=True), Contract(id='e34692bfdd3a415cb253ac8251efb4b4', deleted=False, fulfilled=True), Contract(id='e2f6ef08ceb0406ab11a751aa336f046', deleted=False, fulfilled=True), Contract(id='e2bbd64708614581843ff08d75750b1f', deleted=False, fulfilled=True), Contract(id='e1beebccc5f04b95a8608ae585e0ef9c', deleted=False, fulfilled=True), Contract(id='e1b53ccf095d48f18af929117d727fbf', deleted=False, fulfilled=True), Contract(id='e1aef56e3dd647b3967f6e39a6a53cd7', deleted=False, fulfilled=True), Contract(id='e0ed957185e944a49a0d3dcc2f939a78', deleted=False, fulfilled=True), Contract(id='e0889b3024044cd99d69c3201fa4f5d5', deleted=False, fulfilled=True), Contract(id='e05b15ac154c47ad844f7302b1cfdc46', deleted=False, fulfilled=True), Contract(id='dfc48cc53706446089d2c5fd3628a3b5', deleted=False, fulfilled=True), Contract(id='df9a529aa6d64bd094b37017debfa77c', deleted=False, fulfilled=True), Contract(id='dea1684071cb486b96be9d6856cb78ed', deleted=False, fulfilled=True), Contract(id='de962fc332164d33b45d9bc4a1dc9107', deleted=False, fulfilled=True), Contract(id='dd746d1c5e0343c2b38a61614c5be129', deleted=False, fulfilled=True), Contract(id='dd744d143d724534855889d11cc0ddaf', deleted=False, fulfilled=True), Contract(id='dc1a6fff036b4bae932476c30cd8cab1', deleted=False, fulfilled=True), Contract(id='db09ce7630894558945bd5f45ea91f31', deleted=False, fulfilled=True), Contract(id='dae0f1023d5b45ba8bb8c252cdc2270d', deleted=False, fulfilled=True), Contract(id='dad0cd620d7840d08ea25c2a7618edf0', deleted=False, fulfilled=True), Contract(id='daadfa374bd9484e98120addb98d900b', deleted=False, fulfilled=True), Contract(id='da44293fc92747b0821fc3fa7685f87e', deleted=False, fulfilled=True), Contract(id='da345caa479e423fa7492ad9a0c8f9d9', deleted=False, fulfilled=True)])"
      ]
     },
     "execution_count": 4,
     "metadata": {},
     "output_type": "execute_result"
    }
   ],
   "source": [
    "# fulfilled=True will show all contracts whose jobs have been completed\n",
    "list_contracts(fulfilled=True)"
   ]
  },
  {
   "cell_type": "code",
   "execution_count": 5,
   "id": "40bc3d5b",
   "metadata": {},
   "outputs": [
    {
     "data": {
      "text/html": [
       "<div>\n",
       "<style scoped>\n",
       "    .dataframe tbody tr th:only-of-type {\n",
       "        vertical-align: middle;\n",
       "    }\n",
       "\n",
       "    .dataframe tbody tr th {\n",
       "        vertical-align: top;\n",
       "    }\n",
       "\n",
       "    .dataframe thead th {\n",
       "        text-align: right;\n",
       "    }\n",
       "</style>\n",
       "<table border=\"1\" class=\"dataframe\">\n",
       "  <thead>\n",
       "    <tr style=\"text-align: right;\">\n",
       "      <th></th>\n",
       "    </tr>\n",
       "  </thead>\n",
       "  <tbody>\n",
       "  </tbody>\n",
       "</table>\n",
       "</div>"
      ],
      "text/plain": [
       "Contracts(contracts=[])"
      ]
     },
     "execution_count": 5,
     "metadata": {},
     "output_type": "execute_result"
    }
   ],
   "source": [
    "# If you want to list contracts that are still active, that is, with jobs running, you can pass fulfilled=False or\n",
    "# simply omit the parameter, as it defaults to False\n",
    "list_contracts()"
   ]
  },
  {
   "cell_type": "code",
   "execution_count": 6,
   "id": "b3b58248",
   "metadata": {},
   "outputs": [
    {
     "data": {
      "text/html": [
       "<div>\n",
       "<style scoped>\n",
       "    .dataframe tbody tr th:only-of-type {\n",
       "        vertical-align: middle;\n",
       "    }\n",
       "\n",
       "    .dataframe tbody tr th {\n",
       "        vertical-align: top;\n",
       "    }\n",
       "\n",
       "    .dataframe thead th {\n",
       "        text-align: right;\n",
       "    }\n",
       "</style>\n",
       "<table border=\"1\" class=\"dataframe\">\n",
       "  <thead>\n",
       "    <tr style=\"text-align: right;\">\n",
       "      <th></th>\n",
       "    </tr>\n",
       "  </thead>\n",
       "  <tbody>\n",
       "  </tbody>\n",
       "</table>\n",
       "</div>"
      ],
      "text/plain": [
       "Contracts(contracts=[])"
      ]
     },
     "execution_count": 6,
     "metadata": {},
     "output_type": "execute_result"
    }
   ],
   "source": [
    "# You can also paginate through the list of contracts using limit and offset parameters\n",
    "list_contracts(limit=1000, offset=5000)"
   ]
  },
  {
   "cell_type": "markdown",
   "id": "d3506cb5-5d64-4933-a55f-ce11dcaed401",
   "metadata": {},
   "source": [
    "# Stopping contracts\n",
    "\n",
    "There are two ways to do that:\n"
   ]
  },
  {
   "cell_type": "code",
   "execution_count": 7,
   "id": "70512852-7caa-4be6-a3e0-904548e34b3e",
   "metadata": {
    "tags": []
   },
   "outputs": [],
   "source": [
    "# Stopping all contracts returned by list_contracts\n",
    "list_contracts().stop()"
   ]
  },
  {
   "cell_type": "code",
   "execution_count": 8,
   "id": "5bde72f9-c7e1-4ec2-9e09-f1da539f0d7d",
   "metadata": {},
   "outputs": [],
   "source": [
    "# Filtering contracts by their attributes and stopping them\n",
    "for contract in list_contracts():\n",
    "    if contract.id == \"047a1aad-6485-42fb-b928-b7f37b04fe5a\":\n",
    "        contract.stop()"
   ]
  }
 ],
 "metadata": {
  "kernelspec": {
   "display_name": "Python (Pixi)",
   "language": "python",
   "name": "pixi-kernel-python3"
  },
  "language_info": {
   "codemirror_mode": {
    "name": "ipython",
    "version": 3
   },
   "file_extension": ".py",
   "mimetype": "text/x-python",
   "name": "python",
   "nbconvert_exporter": "python",
   "pygments_lexer": "ipython3",
   "version": "3.12.8"
  },
  "widgets": {
   "application/vnd.jupyter.widget-state+json": {
    "state": {},
    "version_major": 2,
    "version_minor": 0
   }
  }
 },
 "nbformat": 4,
 "nbformat_minor": 5
}
