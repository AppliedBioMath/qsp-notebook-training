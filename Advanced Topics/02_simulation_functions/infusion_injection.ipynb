{
 "cells": [
  {
   "cell_type": "markdown",
   "id": "a5a06a27-94ab-4700-ab01-0d7604d82942",
   "metadata": {},
   "source": [
    "# Infusion dose example\n",
    "By Oscar Ortega\n",
    "\n",
    "Edited for Version 2 by Sasha Shirman"
   ]
  },
  {
   "cell_type": "code",
   "execution_count": 1,
   "id": "50a2e4e9-9c6b-4159-b6f6-114aa0849084",
   "metadata": {
    "tags": []
   },
   "outputs": [],
   "source": [
    "# Primary abm python platform\n",
    "import plotnine as p9\n",
    "# For mathematical operations\n",
    "import numpy as np\n",
    "import pandas as pd\n",
    "\n",
    "import abm"
   ]
  },
  {
   "cell_type": "code",
   "execution_count": 2,
   "id": "b52228f7-d560-4a44-83a7-a4820dad5dd1",
   "metadata": {
    "tags": []
   },
   "outputs": [],
   "source": [
    "def simulate_injection_model(models, time):\n",
    "    # Creating the simulation object\n",
    "    simulation = abm.simulate(\n",
    "        models = models,\n",
    "        times=time,\n",
    "        abstol=1e-15,\n",
    "        reltol=1e-6\n",
    "    ).to_pandas()\n",
    "\n",
    "    # Running the simulation and assigning the results to remote_simulation\n",
    "    p = (p9.ggplot(simulation, p9.aes('t', 'drug'))\n",
    "    + p9.geom_line()\n",
    "    + p9.labs(title='Free drug over time',\n",
    "           x='Time(seconds)',\n",
    "           y='Free drug (nmol)'))\n",
    "    print(p)\n",
    "    "
   ]
  },
  {
   "cell_type": "markdown",
   "id": "2775c86a-beb2-4b68-ae10-c2f3495a111c",
   "metadata": {},
   "source": [
    "# Reaction model - Simulation Framework Example"
   ]
  },
  {
   "cell_type": "code",
   "execution_count": 3,
   "id": "e34d9df8-7cf3-4c90-8686-fc5f883b7b4e",
   "metadata": {
    "tags": []
   },
   "outputs": [
    {
     "data": {
      "text/html": [
       "<div>\n",
       "<style scoped>\n",
       "    .dataframe tbody tr th:only-of-type {\n",
       "        vertical-align: middle;\n",
       "    }\n",
       "\n",
       "    .dataframe tbody tr th {\n",
       "        vertical-align: top;\n",
       "    }\n",
       "\n",
       "    .dataframe thead th {\n",
       "        text-align: right;\n",
       "    }\n",
       "</style>\n",
       "<table border=\"1\" class=\"dataframe\">\n",
       "  <thead>\n",
       "    <tr style=\"text-align: right;\">\n",
       "      <th></th>\n",
       "      <th>dose_nmol</th>\n",
       "      <th>amounts</th>\n",
       "      <th>times</th>\n",
       "      <th>durations</th>\n",
       "      <th>route</th>\n",
       "      <th>amount_unit</th>\n",
       "      <th>time_unit</th>\n",
       "      <th>duration_unit</th>\n",
       "    </tr>\n",
       "  </thead>\n",
       "  <tbody>\n",
       "    <tr>\n",
       "      <th>0</th>\n",
       "      <td>500</td>\n",
       "      <td>500</td>\n",
       "      <td>[0, 1]</td>\n",
       "      <td>[1, 1]</td>\n",
       "      <td>IV_nmol</td>\n",
       "      <td>nmol</td>\n",
       "      <td>d</td>\n",
       "      <td>hr</td>\n",
       "    </tr>\n",
       "  </tbody>\n",
       "</table>\n",
       "</div>"
      ],
      "text/plain": [
       "   dose_nmol  amounts   times durations    route amount_unit time_unit  \\\n",
       "0        500      500  [0, 1]    [1, 1]  IV_nmol        nmol         d   \n",
       "\n",
       "  duration_unit  \n",
       "0            hr  "
      ]
     },
     "execution_count": 3,
     "metadata": {},
     "output_type": "execute_result"
    }
   ],
   "source": [
    "# Create dose_table\n",
    "# Notice that the durations have to be define in days as well!\n",
    "infusion_duration_hours = 1\n",
    "dose_table = {\"dose_nmol\":[500], \"amounts\":[500], \"times\":[[0, 1]],\n",
    "              \"durations\":[[infusion_duration_hours, infusion_duration_hours]], \"route\":[\"IV_nmol\"],\n",
    "              \"amount_unit\":['nmol'], 'time_unit':['d'], \"duration_unit\":['hr']}\n",
    "dose_table = pd.DataFrame.from_dict(data=dose_table)\n",
    "dose_table"
   ]
  },
  {
   "cell_type": "code",
   "execution_count": 4,
   "id": "79d9ede3-1eeb-4912-baec-1c1e59cd7fd3",
   "metadata": {
    "tags": []
   },
   "outputs": [
    {
     "data": {
      "text/plain": [
       "Total: 0, Running: 0, Succeeded: 0, Failed: 0"
      ]
     },
     "metadata": {},
     "output_type": "display_data"
    },
    {
     "name": "stdout",
     "output_type": "stream",
     "text": [
      "<ggplot: (640 x 480)>\n"
     ]
    }
   ],
   "source": [
    "output_times = abm.linspace(0, 2, 200, 'hr')\n",
    "sim = abm.simulate(\n",
    "   models=\"infusion_model_1.model\",\n",
    "   simulations=dose_table[[\"dose_nmol\"]],\n",
    "   parameters=\"infusion_model_1_parameter_table.csv\",\n",
    "   doses=dose_table,\n",
    "   times=output_times,\n",
    "   outputs=[\"drug\"],\n",
    "   abstol=1e-15,\n",
    "   reltol=1e-6\n",
    ").to_pandas(tall_outputs = True)\n",
    "\n",
    "p = (p9.ggplot(sim, p9.aes('t/60/60', 'value'))\n",
    "+ p9.geom_line()\n",
    "+ p9.labs(title='Free drug over time',\n",
    "       x='Time(hours)',\n",
    "       y='Free drug (nmol)'))\n",
    "print(p)"
   ]
  },
  {
   "cell_type": "markdown",
   "id": "c75dad6a-005f-450c-8777-fcb4c098ca6f",
   "metadata": {},
   "source": [
    "# Reaction Model Example - amount and duration dose parameters"
   ]
  },
  {
   "cell_type": "code",
   "execution_count": 5,
   "id": "0752aa11-e8e5-4503-991e-d3709831af86",
   "metadata": {
    "tags": []
   },
   "outputs": [
    {
     "data": {
      "text/plain": [
       "Total: 0, Running: 0, Succeeded: 0, Failed: 0"
      ]
     },
     "metadata": {},
     "output_type": "display_data"
    },
    {
     "name": "stdout",
     "output_type": "stream",
     "text": [
      "<ggplot: (640 x 480)>\n"
     ]
    }
   ],
   "source": [
    "output_times = abm.linspace(0, 100, 100, 's')\n",
    "s=simulate_injection_model(\"infusion_model_2.model\", output_times)"
   ]
  },
  {
   "cell_type": "markdown",
   "id": "7517710f-c1f6-4982-9d6e-56e3fc08c010",
   "metadata": {},
   "source": [
    "# Reaction Model Example - amount and duration dose parameters - Multiple doses"
   ]
  },
  {
   "cell_type": "code",
   "execution_count": 6,
   "id": "37ec0b5e-223a-40f2-a420-14300f032f97",
   "metadata": {},
   "outputs": [
    {
     "data": {
      "text/plain": [
       "Total: 0, Running: 0, Succeeded: 0, Failed: 0"
      ]
     },
     "metadata": {},
     "output_type": "display_data"
    },
    {
     "name": "stdout",
     "output_type": "stream",
     "text": [
      "<ggplot: (640 x 480)>\n"
     ]
    }
   ],
   "source": [
    "output_times = abm.linspace(0, 200, 200, 's')\n",
    "s=simulate_injection_model(\"infusion_model_3.model\", output_times)"
   ]
  },
  {
   "cell_type": "code",
   "execution_count": null,
   "id": "748b1952-a768-4d63-bbab-f69170ffc6a8",
   "metadata": {},
   "outputs": [],
   "source": []
  }
 ],
 "metadata": {
  "kernelspec": {
   "display_name": "Python (Pixi)",
   "language": "python",
   "name": "pixi-kernel-python3"
  },
  "language_info": {
   "codemirror_mode": {
    "name": "ipython",
    "version": 3
   },
   "file_extension": ".py",
   "mimetype": "text/x-python",
   "name": "python",
   "nbconvert_exporter": "python",
   "pygments_lexer": "ipython3",
   "version": "3.12.8"
  },
  "widgets": {
   "application/vnd.jupyter.widget-state+json": {
    "state": {},
    "version_major": 2,
    "version_minor": 0
   }
  }
 },
 "nbformat": 4,
 "nbformat_minor": 5
}
