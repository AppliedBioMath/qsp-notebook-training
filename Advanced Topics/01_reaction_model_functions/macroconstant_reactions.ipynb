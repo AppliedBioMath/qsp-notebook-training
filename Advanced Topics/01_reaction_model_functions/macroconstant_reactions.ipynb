{
 "cells": [
  {
   "cell_type": "markdown",
   "id": "7538cf9a-6811-4fda-9532-80696d617243",
   "metadata": {},
   "source": [
    "# Macro-constant reactions\n",
    "For more information about macro-constant reaction limitations, units, etc., please refer to the\n",
    "[documentation](https://docs.google.com/document/d/17uxc-MgZmzH1F04cxbaseUjk8yRuid9jJ3Xs_2wGlYQ/edit#heading=h.kijo3pja1l08). Note that the unit will be dependent on the model's time, volumes, and states units."
   ]
  },
  {
   "cell_type": "code",
   "execution_count": 2,
   "id": "5a43e5ba-cc3a-43ea-bd73-365d2c35c21b",
   "metadata": {
    "tags": []
   },
   "outputs": [],
   "source": [
    "import abm\n",
    "output_times = [0, 1, 2]"
   ]
  },
  {
   "cell_type": "markdown",
   "id": "66c922ca-9da0-4c60-862e-0a50093b8a8d",
   "metadata": {},
   "source": [
    "## Transport"
   ]
  },
  {
   "cell_type": "code",
   "execution_count": 3,
   "id": "0057efed-7ce0-48c2-9096-84e660c59c63",
   "metadata": {
    "tags": []
   },
   "outputs": [
    {
     "data": {
      "text/plain": [
       "'Total: 1, Running: 0, Succeeded: 1, Failed: 0, Stopped: 0'"
      ]
     },
     "metadata": {},
     "output_type": "display_data"
    },
    {
     "name": "stdout",
     "output_type": "stream",
     "text": [
      "Simulations finished\n"
     ]
    },
    {
     "data": {
      "text/html": [
       "<div>\n",
       "<style scoped>\n",
       "    .dataframe tbody tr th:only-of-type {\n",
       "        vertical-align: middle;\n",
       "    }\n",
       "\n",
       "    .dataframe tbody tr th {\n",
       "        vertical-align: top;\n",
       "    }\n",
       "\n",
       "    .dataframe thead th {\n",
       "        text-align: right;\n",
       "    }\n",
       "</style>\n",
       "<table border=\"1\" class=\"dataframe\">\n",
       "  <thead>\n",
       "    <tr style=\"text-align: right;\">\n",
       "      <th></th>\n",
       "      <th>id</th>\n",
       "      <th>t</th>\n",
       "      <th>pdist</th>\n",
       "      <th>tdist</th>\n",
       "      <th>b0</th>\n",
       "      <th>a</th>\n",
       "      <th>b</th>\n",
       "    </tr>\n",
       "  </thead>\n",
       "  <tbody>\n",
       "    <tr>\n",
       "      <th>0</th>\n",
       "      <td>0</td>\n",
       "      <td>0.0</td>\n",
       "      <td>0.5</td>\n",
       "      <td>0.2</td>\n",
       "      <td>2.0</td>\n",
       "      <td>1.000000</td>\n",
       "      <td>2.000000</td>\n",
       "    </tr>\n",
       "    <tr>\n",
       "      <th>1</th>\n",
       "      <td>0</td>\n",
       "      <td>1.0</td>\n",
       "      <td>0.5</td>\n",
       "      <td>0.2</td>\n",
       "      <td>2.0</td>\n",
       "      <td>2.453124</td>\n",
       "      <td>0.546876</td>\n",
       "    </tr>\n",
       "    <tr>\n",
       "      <th>2</th>\n",
       "      <td>0</td>\n",
       "      <td>2.0</td>\n",
       "      <td>0.5</td>\n",
       "      <td>0.2</td>\n",
       "      <td>2.0</td>\n",
       "      <td>2.498533</td>\n",
       "      <td>0.501467</td>\n",
       "    </tr>\n",
       "  </tbody>\n",
       "</table>\n",
       "</div>"
      ],
      "text/plain": [
       "   id    t  pdist  tdist   b0         a         b\n",
       "0   0  0.0    0.5    0.2  2.0  1.000000  2.000000\n",
       "1   0  1.0    0.5    0.2  2.0  2.453124  0.546876\n",
       "2   0  2.0    0.5    0.2  2.0  2.498533  0.501467"
      ]
     },
     "execution_count": 3,
     "metadata": {},
     "output_type": "execute_result"
    }
   ],
   "source": [
    "simulatable = abm.simulate(models=\"model_macroconstant_transport.model\", times=output_times).to_pandas()\n",
    "simulatable"
   ]
  },
  {
   "cell_type": "markdown",
   "id": "eff36b7a-dcb9-4f86-815b-42e9ed8190ee",
   "metadata": {},
   "source": [
    "## Half-life"
   ]
  },
  {
   "cell_type": "code",
   "execution_count": 4,
   "id": "3b1a1f54-590f-4a37-8c6c-c0616e623320",
   "metadata": {
    "tags": []
   },
   "outputs": [
    {
     "data": {
      "text/plain": [
       "'Total: 1, Running: 0, Succeeded: 1, Failed: 0, Stopped: 0'"
      ]
     },
     "metadata": {},
     "output_type": "display_data"
    },
    {
     "name": "stdout",
     "output_type": "stream",
     "text": [
      "Simulations finished\n"
     ]
    },
    {
     "data": {
      "text/html": [
       "<div>\n",
       "<style scoped>\n",
       "    .dataframe tbody tr th:only-of-type {\n",
       "        vertical-align: middle;\n",
       "    }\n",
       "\n",
       "    .dataframe tbody tr th {\n",
       "        vertical-align: top;\n",
       "    }\n",
       "\n",
       "    .dataframe thead th {\n",
       "        text-align: right;\n",
       "    }\n",
       "</style>\n",
       "<table border=\"1\" class=\"dataframe\">\n",
       "  <thead>\n",
       "    <tr style=\"text-align: right;\">\n",
       "      <th></th>\n",
       "      <th>id</th>\n",
       "      <th>t</th>\n",
       "      <th>thalf</th>\n",
       "      <th>b0</th>\n",
       "      <th>a</th>\n",
       "      <th>b</th>\n",
       "    </tr>\n",
       "  </thead>\n",
       "  <tbody>\n",
       "    <tr>\n",
       "      <th>0</th>\n",
       "      <td>0</td>\n",
       "      <td>0.0</td>\n",
       "      <td>0.5</td>\n",
       "      <td>2.0</td>\n",
       "      <td>1.000000</td>\n",
       "      <td>2.000000</td>\n",
       "    </tr>\n",
       "    <tr>\n",
       "      <th>1</th>\n",
       "      <td>0</td>\n",
       "      <td>1.0</td>\n",
       "      <td>0.5</td>\n",
       "      <td>2.0</td>\n",
       "      <td>0.249999</td>\n",
       "      <td>2.750001</td>\n",
       "    </tr>\n",
       "    <tr>\n",
       "      <th>2</th>\n",
       "      <td>0</td>\n",
       "      <td>2.0</td>\n",
       "      <td>0.5</td>\n",
       "      <td>2.0</td>\n",
       "      <td>0.062501</td>\n",
       "      <td>2.937499</td>\n",
       "    </tr>\n",
       "  </tbody>\n",
       "</table>\n",
       "</div>"
      ],
      "text/plain": [
       "   id    t  thalf   b0         a         b\n",
       "0   0  0.0    0.5  2.0  1.000000  2.000000\n",
       "1   0  1.0    0.5  2.0  0.249999  2.750001\n",
       "2   0  2.0    0.5  2.0  0.062501  2.937499"
      ]
     },
     "execution_count": 4,
     "metadata": {},
     "output_type": "execute_result"
    }
   ],
   "source": [
    "simulatable = abm.simulate(models=\"model_macroconstant_half_life.model\", times=output_times).to_pandas()\n",
    "simulatable"
   ]
  },
  {
   "cell_type": "markdown",
   "id": "61b20cae-5039-4d73-bd9c-ad50a42ad425",
   "metadata": {},
   "source": [
    "## Binding"
   ]
  },
  {
   "cell_type": "code",
   "execution_count": 5,
   "id": "83b165a4-eb4d-4c1e-ace9-46c9e2eed83b",
   "metadata": {
    "tags": []
   },
   "outputs": [
    {
     "data": {
      "text/plain": [
       "'Total: 1, Running: 0, Succeeded: 1, Failed: 0, Stopped: 0'"
      ]
     },
     "metadata": {},
     "output_type": "display_data"
    },
    {
     "name": "stdout",
     "output_type": "stream",
     "text": [
      "Simulations finished\n"
     ]
    },
    {
     "data": {
      "text/html": [
       "<div>\n",
       "<style scoped>\n",
       "    .dataframe tbody tr th:only-of-type {\n",
       "        vertical-align: middle;\n",
       "    }\n",
       "\n",
       "    .dataframe tbody tr th {\n",
       "        vertical-align: top;\n",
       "    }\n",
       "\n",
       "    .dataframe thead th {\n",
       "        text-align: right;\n",
       "    }\n",
       "</style>\n",
       "<table border=\"1\" class=\"dataframe\">\n",
       "  <thead>\n",
       "    <tr style=\"text-align: right;\">\n",
       "      <th></th>\n",
       "      <th>id</th>\n",
       "      <th>t</th>\n",
       "      <th>kon</th>\n",
       "      <th>koff</th>\n",
       "      <th>kd</th>\n",
       "      <th>b0</th>\n",
       "      <th>a</th>\n",
       "      <th>b</th>\n",
       "      <th>c</th>\n",
       "      <th>d</th>\n",
       "      <th>e</th>\n",
       "      <th>f</th>\n",
       "    </tr>\n",
       "  </thead>\n",
       "  <tbody>\n",
       "    <tr>\n",
       "      <th>0</th>\n",
       "      <td>0</td>\n",
       "      <td>0.0</td>\n",
       "      <td>0.5</td>\n",
       "      <td>0.2</td>\n",
       "      <td>0.4</td>\n",
       "      <td>2.0</td>\n",
       "      <td>1.000000</td>\n",
       "      <td>2.000000</td>\n",
       "      <td>0.000000</td>\n",
       "      <td>1.000000</td>\n",
       "      <td>2.000000</td>\n",
       "      <td>0.000000</td>\n",
       "    </tr>\n",
       "    <tr>\n",
       "      <th>1</th>\n",
       "      <td>0</td>\n",
       "      <td>1.0</td>\n",
       "      <td>0.5</td>\n",
       "      <td>0.2</td>\n",
       "      <td>0.4</td>\n",
       "      <td>2.0</td>\n",
       "      <td>0.841788</td>\n",
       "      <td>1.841788</td>\n",
       "      <td>0.158212</td>\n",
       "      <td>0.841788</td>\n",
       "      <td>1.841788</td>\n",
       "      <td>0.158212</td>\n",
       "    </tr>\n",
       "    <tr>\n",
       "      <th>2</th>\n",
       "      <td>0</td>\n",
       "      <td>2.0</td>\n",
       "      <td>0.5</td>\n",
       "      <td>0.2</td>\n",
       "      <td>0.4</td>\n",
       "      <td>2.0</td>\n",
       "      <td>0.742936</td>\n",
       "      <td>1.742936</td>\n",
       "      <td>0.257064</td>\n",
       "      <td>0.742936</td>\n",
       "      <td>1.742936</td>\n",
       "      <td>0.257064</td>\n",
       "    </tr>\n",
       "  </tbody>\n",
       "</table>\n",
       "</div>"
      ],
      "text/plain": [
       "   id    t  kon  koff   kd   b0         a         b         c         d  \\\n",
       "0   0  0.0  0.5   0.2  0.4  2.0  1.000000  2.000000  0.000000  1.000000   \n",
       "1   0  1.0  0.5   0.2  0.4  2.0  0.841788  1.841788  0.158212  0.841788   \n",
       "2   0  2.0  0.5   0.2  0.4  2.0  0.742936  1.742936  0.257064  0.742936   \n",
       "\n",
       "          e         f  \n",
       "0  2.000000  0.000000  \n",
       "1  1.841788  0.158212  \n",
       "2  1.742936  0.257064  "
      ]
     },
     "execution_count": 5,
     "metadata": {},
     "output_type": "execute_result"
    }
   ],
   "source": [
    "simulatable = abm.simulate(models=\"model_macroconstant_binding.model\", times=output_times).to_pandas()\n",
    "simulatable"
   ]
  },
  {
   "cell_type": "markdown",
   "id": "b8cd7db9-c4cd-42b0-8b92-21cae74b726b",
   "metadata": {},
   "source": [
    "## Emax"
   ]
  },
  {
   "cell_type": "code",
   "execution_count": 6,
   "id": "3582d204-b327-4ee0-bbf6-6224683d858c",
   "metadata": {
    "tags": []
   },
   "outputs": [
    {
     "data": {
      "text/plain": [
       "'Total: 1, Running: 0, Succeeded: 1, Failed: 0, Stopped: 0'"
      ]
     },
     "metadata": {},
     "output_type": "display_data"
    },
    {
     "name": "stdout",
     "output_type": "stream",
     "text": [
      "Simulations finished\n"
     ]
    },
    {
     "data": {
      "text/html": [
       "<div>\n",
       "<style scoped>\n",
       "    .dataframe tbody tr th:only-of-type {\n",
       "        vertical-align: middle;\n",
       "    }\n",
       "\n",
       "    .dataframe tbody tr th {\n",
       "        vertical-align: top;\n",
       "    }\n",
       "\n",
       "    .dataframe thead th {\n",
       "        text-align: right;\n",
       "    }\n",
       "</style>\n",
       "<table border=\"1\" class=\"dataframe\">\n",
       "  <thead>\n",
       "    <tr style=\"text-align: right;\">\n",
       "      <th></th>\n",
       "      <th>id</th>\n",
       "      <th>t</th>\n",
       "      <th>emin</th>\n",
       "      <th>emax</th>\n",
       "      <th>ec50</th>\n",
       "      <th>b0</th>\n",
       "      <th>n</th>\n",
       "      <th>a</th>\n",
       "      <th>b</th>\n",
       "    </tr>\n",
       "  </thead>\n",
       "  <tbody>\n",
       "    <tr>\n",
       "      <th>0</th>\n",
       "      <td>0</td>\n",
       "      <td>0.0</td>\n",
       "      <td>0.0</td>\n",
       "      <td>0.001</td>\n",
       "      <td>5.0</td>\n",
       "      <td>1.0</td>\n",
       "      <td>2.0</td>\n",
       "      <td>1.00000</td>\n",
       "      <td>1.00000</td>\n",
       "    </tr>\n",
       "    <tr>\n",
       "      <th>1</th>\n",
       "      <td>0</td>\n",
       "      <td>1.0</td>\n",
       "      <td>0.0</td>\n",
       "      <td>0.001</td>\n",
       "      <td>5.0</td>\n",
       "      <td>1.0</td>\n",
       "      <td>2.0</td>\n",
       "      <td>0.99999</td>\n",
       "      <td>1.00001</td>\n",
       "    </tr>\n",
       "    <tr>\n",
       "      <th>2</th>\n",
       "      <td>0</td>\n",
       "      <td>2.0</td>\n",
       "      <td>0.0</td>\n",
       "      <td>0.001</td>\n",
       "      <td>5.0</td>\n",
       "      <td>1.0</td>\n",
       "      <td>2.0</td>\n",
       "      <td>0.99998</td>\n",
       "      <td>1.00002</td>\n",
       "    </tr>\n",
       "  </tbody>\n",
       "</table>\n",
       "</div>"
      ],
      "text/plain": [
       "   id    t  emin   emax  ec50   b0    n        a        b\n",
       "0   0  0.0   0.0  0.001   5.0  1.0  2.0  1.00000  1.00000\n",
       "1   0  1.0   0.0  0.001   5.0  1.0  2.0  0.99999  1.00001\n",
       "2   0  2.0   0.0  0.001   5.0  1.0  2.0  0.99998  1.00002"
      ]
     },
     "execution_count": 6,
     "metadata": {},
     "output_type": "execute_result"
    }
   ],
   "source": [
    "simulatable = abm.simulate(models=\"model_macroconstant_emax.model\", times=output_times).to_pandas()\n",
    "simulatable"
   ]
  },
  {
   "cell_type": "markdown",
   "id": "48b46a0d-7ab7-47f5-b05d-31d4289dd153",
   "metadata": {},
   "source": [
    "## Michaelis Menten"
   ]
  },
  {
   "cell_type": "code",
   "execution_count": 7,
   "id": "74be5ac9-a337-465b-bc22-fbfe79442df3",
   "metadata": {
    "tags": []
   },
   "outputs": [
    {
     "data": {
      "text/plain": [
       "'Total: 1, Running: 0, Succeeded: 1, Failed: 0, Stopped: 0'"
      ]
     },
     "metadata": {},
     "output_type": "display_data"
    },
    {
     "name": "stdout",
     "output_type": "stream",
     "text": [
      "Simulations finished\n"
     ]
    },
    {
     "data": {
      "text/html": [
       "<div>\n",
       "<style scoped>\n",
       "    .dataframe tbody tr th:only-of-type {\n",
       "        vertical-align: middle;\n",
       "    }\n",
       "\n",
       "    .dataframe tbody tr th {\n",
       "        vertical-align: top;\n",
       "    }\n",
       "\n",
       "    .dataframe thead th {\n",
       "        text-align: right;\n",
       "    }\n",
       "</style>\n",
       "<table border=\"1\" class=\"dataframe\">\n",
       "  <thead>\n",
       "    <tr style=\"text-align: right;\">\n",
       "      <th></th>\n",
       "      <th>id</th>\n",
       "      <th>t</th>\n",
       "      <th>km</th>\n",
       "      <th>kcat</th>\n",
       "      <th>e</th>\n",
       "      <th>b0</th>\n",
       "      <th>a</th>\n",
       "      <th>b</th>\n",
       "    </tr>\n",
       "  </thead>\n",
       "  <tbody>\n",
       "    <tr>\n",
       "      <th>0</th>\n",
       "      <td>0</td>\n",
       "      <td>0.0</td>\n",
       "      <td>0.2</td>\n",
       "      <td>0.5</td>\n",
       "      <td>1.0</td>\n",
       "      <td>1.0</td>\n",
       "      <td>1.000000</td>\n",
       "      <td>1.000000</td>\n",
       "    </tr>\n",
       "    <tr>\n",
       "      <th>1</th>\n",
       "      <td>0</td>\n",
       "      <td>1.0</td>\n",
       "      <td>0.2</td>\n",
       "      <td>0.5</td>\n",
       "      <td>1.0</td>\n",
       "      <td>1.0</td>\n",
       "      <td>0.663872</td>\n",
       "      <td>1.336128</td>\n",
       "    </tr>\n",
       "    <tr>\n",
       "      <th>2</th>\n",
       "      <td>0</td>\n",
       "      <td>2.0</td>\n",
       "      <td>0.2</td>\n",
       "      <td>0.5</td>\n",
       "      <td>1.0</td>\n",
       "      <td>1.0</td>\n",
       "      <td>0.383435</td>\n",
       "      <td>1.616565</td>\n",
       "    </tr>\n",
       "  </tbody>\n",
       "</table>\n",
       "</div>"
      ],
      "text/plain": [
       "   id    t   km  kcat    e   b0         a         b\n",
       "0   0  0.0  0.2   0.5  1.0  1.0  1.000000  1.000000\n",
       "1   0  1.0  0.2   0.5  1.0  1.0  0.663872  1.336128\n",
       "2   0  2.0  0.2   0.5  1.0  1.0  0.383435  1.616565"
      ]
     },
     "execution_count": 7,
     "metadata": {},
     "output_type": "execute_result"
    }
   ],
   "source": [
    "simulatable = abm.simulate(models=\"model_macroconstant_michaelis_menten.model\", times=output_times).to_pandas()\n",
    "simulatable"
   ]
  },
  {
   "cell_type": "code",
   "execution_count": null,
   "id": "adeeba6d-7ba9-4a31-b3f2-9ebc692211d9",
   "metadata": {},
   "outputs": [],
   "source": []
  }
 ],
 "metadata": {
  "kernelspec": {
   "display_name": "Poetry",
   "language": "python",
   "name": "poetry-kernel"
  },
  "language_info": {
   "codemirror_mode": {
    "name": "ipython",
    "version": 3
   },
   "file_extension": ".py",
   "mimetype": "text/x-python",
   "name": "python",
   "nbconvert_exporter": "python",
   "pygments_lexer": "ipython3",
   "version": "3.12.2"
  }
 },
 "nbformat": 4,
 "nbformat_minor": 5
}
