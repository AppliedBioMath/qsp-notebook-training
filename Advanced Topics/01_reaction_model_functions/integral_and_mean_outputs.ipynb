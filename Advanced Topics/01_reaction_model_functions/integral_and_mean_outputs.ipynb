{
 "cells": [
  {
   "cell_type": "markdown",
   "id": "de0e9c99-b398-4dce-b3d3-02478c425dc3",
   "metadata": {},
   "source": [
    "# Integral and mean outputs\n",
    "Two new functions, `integral` and `mean`, have been added for use in model assignments.  Suppose $f = f(t, x, k)$ is an expression involving $t$, state, parameters, and local assignments, and $a, b$ are predetermined expressions.  The syntax `integral(f, a, b)` represents the integral of $f$ over the time-interval $[a, b]$, i.e. $$\\int_a^b f(t, x(t), k) \\, dt,$$ while `mean(f, a, b)` is the mean of $f$ over $[a, b]$, and is equivalent to `integral(f, a, b) / (b - a)`.\n",
    "\n",
    "Integrals are another example of *nonlocal* expressions (like indexing expressions `x[t]`); they are functions of model state over the entire given time interval.  Integrals may be combined with other expressions, albeit with certain limitations similar to those of indexed expressions.  A simple model file `decay_with_integrals.model` is included for demonstration purposes, and has more detail on syntax and limitations. "
   ]
  },
  {
   "cell_type": "code",
   "execution_count": 2,
   "id": "e65842ad-6c4d-4e86-a2c7-2c3ffdfe543a",
   "metadata": {
    "tags": []
   },
   "outputs": [],
   "source": [
    "import abm"
   ]
  },
  {
   "cell_type": "code",
   "execution_count": 3,
   "id": "e81f9abb-e083-4114-a7dd-e5ea96d6de54",
   "metadata": {
    "tags": []
   },
   "outputs": [
    {
     "data": {
      "text/plain": [
       "'Total: 1, Running: 0, Succeeded: 1, Failed: 0, Stopped: 0'"
      ]
     },
     "metadata": {},
     "output_type": "display_data"
    },
    {
     "name": "stdout",
     "output_type": "stream",
     "text": [
      "Simulations finished\n"
     ]
    },
    {
     "data": {
      "text/html": [
       "<div>\n",
       "<style scoped>\n",
       "    .dataframe tbody tr th:only-of-type {\n",
       "        vertical-align: middle;\n",
       "    }\n",
       "\n",
       "    .dataframe tbody tr th {\n",
       "        vertical-align: top;\n",
       "    }\n",
       "\n",
       "    .dataframe thead th {\n",
       "        text-align: right;\n",
       "    }\n",
       "</style>\n",
       "<table border=\"1\" class=\"dataframe\">\n",
       "  <thead>\n",
       "    <tr style=\"text-align: right;\">\n",
       "      <th></th>\n",
       "      <th>id</th>\n",
       "      <th>t</th>\n",
       "      <th>u</th>\n",
       "      <th>z1</th>\n",
       "      <th>z2</th>\n",
       "      <th>y1</th>\n",
       "      <th>y2</th>\n",
       "      <th>y3</th>\n",
       "      <th>y4</th>\n",
       "      <th>y5</th>\n",
       "      <th>y6</th>\n",
       "      <th>k</th>\n",
       "      <th>t1</th>\n",
       "      <th>t2</th>\n",
       "      <th>a</th>\n",
       "    </tr>\n",
       "  </thead>\n",
       "  <tbody>\n",
       "    <tr>\n",
       "      <th>0</th>\n",
       "      <td>0</td>\n",
       "      <td>1.0</td>\n",
       "      <td>0.735759</td>\n",
       "      <td>0.3</td>\n",
       "      <td>4.4</td>\n",
       "      <td>0.864664</td>\n",
       "      <td>0.432332</td>\n",
       "      <td>1.457081</td>\n",
       "      <td>0.896771</td>\n",
       "      <td>1.457081</td>\n",
       "      <td>0.355386</td>\n",
       "      <td>1.0</td>\n",
       "      <td>0.1</td>\n",
       "      <td>1.1</td>\n",
       "      <td>0.367879</td>\n",
       "    </tr>\n",
       "    <tr>\n",
       "      <th>1</th>\n",
       "      <td>0</td>\n",
       "      <td>2.0</td>\n",
       "      <td>0.270671</td>\n",
       "      <td>0.3</td>\n",
       "      <td>4.4</td>\n",
       "      <td>0.864664</td>\n",
       "      <td>0.432332</td>\n",
       "      <td>1.457081</td>\n",
       "      <td>0.896771</td>\n",
       "      <td>1.457081</td>\n",
       "      <td>0.355386</td>\n",
       "      <td>1.0</td>\n",
       "      <td>0.1</td>\n",
       "      <td>1.1</td>\n",
       "      <td>0.135336</td>\n",
       "    </tr>\n",
       "    <tr>\n",
       "      <th>2</th>\n",
       "      <td>0</td>\n",
       "      <td>3.0</td>\n",
       "      <td>0.099575</td>\n",
       "      <td>0.3</td>\n",
       "      <td>4.4</td>\n",
       "      <td>0.864664</td>\n",
       "      <td>0.432332</td>\n",
       "      <td>1.457081</td>\n",
       "      <td>0.896771</td>\n",
       "      <td>1.457081</td>\n",
       "      <td>0.355386</td>\n",
       "      <td>1.0</td>\n",
       "      <td>0.1</td>\n",
       "      <td>1.1</td>\n",
       "      <td>0.049787</td>\n",
       "    </tr>\n",
       "  </tbody>\n",
       "</table>\n",
       "</div>"
      ],
      "text/plain": [
       "   id    t         u   z1   z2        y1        y2        y3        y4  \\\n",
       "0   0  1.0  0.735759  0.3  4.4  0.864664  0.432332  1.457081  0.896771   \n",
       "1   0  2.0  0.270671  0.3  4.4  0.864664  0.432332  1.457081  0.896771   \n",
       "2   0  3.0  0.099575  0.3  4.4  0.864664  0.432332  1.457081  0.896771   \n",
       "\n",
       "         y5        y6    k   t1   t2         a  \n",
       "0  1.457081  0.355386  1.0  0.1  1.1  0.367879  \n",
       "1  1.457081  0.355386  1.0  0.1  1.1  0.135336  \n",
       "2  1.457081  0.355386  1.0  0.1  1.1  0.049787  "
      ]
     },
     "metadata": {},
     "output_type": "display_data"
    }
   ],
   "source": [
    "# Load and simulate model with example integral outputs.  See model file for more details.\n",
    "simulation = abm.simulate(models = \"model_integral.model\", times=[1, 2, 3]).to_pandas()\n",
    "display(simulation)"
   ]
  },
  {
   "cell_type": "markdown",
   "id": "d40fe602-216f-4ec7-b34f-a890327af953",
   "metadata": {},
   "source": [
    "In particular, we can see `y1` is the familiar result $$\\int_0^2 e^{-t} \\, dt = -\\left(e^{-2} - e^{0} \\right) \\approx 0.86. $$"
   ]
  }
 ],
 "metadata": {
  "kernelspec": {
   "display_name": "Poetry",
   "language": "python",
   "name": "poetry-kernel"
  },
  "language_info": {
   "codemirror_mode": {
    "name": "ipython",
    "version": 3
   },
   "file_extension": ".py",
   "mimetype": "text/x-python",
   "name": "python",
   "nbconvert_exporter": "python",
   "pygments_lexer": "ipython3",
   "version": "3.12.2"
  }
 },
 "nbformat": 4,
 "nbformat_minor": 5
}
