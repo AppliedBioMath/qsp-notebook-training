{
 "cells": [
  {
   "cell_type": "markdown",
   "id": "f28621ae-0449-42e7-9aa1-908055dfda55",
   "metadata": {},
   "source": [
    "# Relationships\n",
    "In `ReactionModel@2`, one can specify a system of implicit relationships to solve for pretedetermined constants.  As a very basic example with only pretermined constants, consider the acompanying `model_relationships.model` file."
   ]
  },
  {
   "cell_type": "code",
   "execution_count": 1,
   "id": "47c5722e-1dac-4162-a86c-3e8ceaa428be",
   "metadata": {},
   "outputs": [],
   "source": [
    "import abm"
   ]
  },
  {
   "cell_type": "code",
   "execution_count": 2,
   "id": "eac7b3ef-3313-46de-8c9d-f6b2671e39ca",
   "metadata": {},
   "outputs": [
    {
     "data": {
      "text/plain": [
       "Total: 2, Running: 0, Succeeded: 2, Failed: 0"
      ]
     },
     "metadata": {},
     "output_type": "display_data"
    },
    {
     "data": {
      "text/html": [
       "<div>\n",
       "<style scoped>\n",
       "    .dataframe tbody tr th:only-of-type {\n",
       "        vertical-align: middle;\n",
       "    }\n",
       "\n",
       "    .dataframe tbody tr th {\n",
       "        vertical-align: top;\n",
       "    }\n",
       "\n",
       "    .dataframe thead th {\n",
       "        text-align: right;\n",
       "    }\n",
       "</style>\n",
       "<table border=\"1\" class=\"dataframe\">\n",
       "  <thead>\n",
       "    <tr style=\"text-align: right;\">\n",
       "      <th></th>\n",
       "      <th>id</th>\n",
       "      <th>t</th>\n",
       "      <th>koff</th>\n",
       "      <th>kon</th>\n",
       "      <th>Kd</th>\n",
       "    </tr>\n",
       "  </thead>\n",
       "  <tbody>\n",
       "    <tr>\n",
       "      <th>0</th>\n",
       "      <td>0</td>\n",
       "      <td>0.0</td>\n",
       "      <td>0.000005</td>\n",
       "      <td>0.000001</td>\n",
       "      <td>5.0</td>\n",
       "    </tr>\n",
       "  </tbody>\n",
       "</table>\n",
       "</div>"
      ],
      "text/plain": [
       "DataFrame(columns={'id': Array(data_type=Integer64(), values=[0]), 't': Array(data_type=Float64(unit='1'), values=[0.0]), 'koff': Array(data_type=Float64(unit='(1/s)'), values=[4.9999999999999996e-06]), 'kon': Array(data_type=Float64(unit='(1/nM/s)'), values=[1e-06]), 'Kd': Array(data_type=Float64(unit='nM'), values=[5.0])}, height=1, width=5, group_levels=[])"
      ]
     },
     "metadata": {},
     "output_type": "display_data"
    }
   ],
   "source": [
    "# Load and simulate model with example relationships.  See model text for more details.\n",
    "simulation = abm.simulate(models=\"model_relationships.model\", times=[0]).to_data_frame()\n",
    "display(simulation)"
   ]
  },
  {
   "cell_type": "markdown",
   "id": "4c5bec19-d8e1-48c2-829d-069ac862f443",
   "metadata": {},
   "source": [
    "Note `koff` agrees with the expected `5e-6` (obtained by manually solving for it)."
   ]
  }
 ],
 "metadata": {
  "kernelspec": {
   "display_name": "Poetry",
   "language": "python",
   "name": "poetry-kernel"
  },
  "language_info": {
   "codemirror_mode": {
    "name": "ipython",
    "version": 3
   },
   "file_extension": ".py",
   "mimetype": "text/x-python",
   "name": "python",
   "nbconvert_exporter": "python",
   "pygments_lexer": "ipython3",
   "version": "3.12.5"
  }
 },
 "nbformat": 4,
 "nbformat_minor": 5
}
