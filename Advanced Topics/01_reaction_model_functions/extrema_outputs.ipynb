{
 "cells": [
  {
   "cell_type": "markdown",
   "id": "de0e9c99-b398-4dce-b3d3-02478c425dc3",
   "metadata": {},
   "source": [
    "# Extrema outputs\n",
    "Two new functions, `max` and `min`, have been added for use in model assignments.  Suppose $f = f(t, x, k)$ is an expression involving $t$, state, parameters, and local assignments, and $a, b$ are predetermined expressions.  The syntax `max(f, a, b)` represents the maximum of $f$ over the time-interval $[a, b)$, and similarly `min(f, a, b)` represents the minimum, i.e. $$\\max_{a \\leq t < b} f(t, x(t), k),$$ and $$\\min_{a \\leq t < b} f(t, x(t), k).$$  Note that these definitions do not include the right endpoint $b$; a dose (or other discontinuity) exactly at $t=b$ would not be included in the maximum or minimum.\n",
    "\n",
    "Like integrals and indexing expressions, extrema are another example of *nonlocal* expressions; they are functions of model state over the entire given time interval.  Extrema may be combined with other expressions, albeit with certain limitations similar to those of indexed and integral expressions.  A simple model is included for demonstration purposes, and has more detail on syntax and limitations. "
   ]
  },
  {
   "cell_type": "code",
   "execution_count": 1,
   "id": "e65842ad-6c4d-4e86-a2c7-2c3ffdfe543a",
   "metadata": {
    "tags": []
   },
   "outputs": [],
   "source": [
    "import abm"
   ]
  },
  {
   "cell_type": "code",
   "execution_count": 5,
   "id": "e81f9abb-e083-4114-a7dd-e5ea96d6de54",
   "metadata": {
    "tags": []
   },
   "outputs": [
    {
     "data": {
      "text/plain": [
       "'Total: 1, Running: 0, Succeeded: 1, Failed: 0, Stopped: 0'"
      ]
     },
     "metadata": {},
     "output_type": "display_data"
    },
    {
     "name": "stdout",
     "output_type": "stream",
     "text": [
      "Simulations finished\n"
     ]
    }
   ],
   "source": [
    "# Load and simulate model with example extrema outputs.  See model text for more details.\n",
    "simulation = abm.simulate(models=\"model_extrema.model\", times=[1, 2, 3]).to_pandas()"
   ]
  },
  {
   "cell_type": "markdown",
   "id": "d40fe602-216f-4ec7-b34f-a890327af953",
   "metadata": {},
   "source": [
    "We can see `y1`, `y2` are the familiar maximum and minimum $1$ and $-1$ of $\\sin(0.5 t)$ over $[0, 10]$."
   ]
  },
  {
   "cell_type": "code",
   "execution_count": 6,
   "id": "a7bb6e54-65f1-4186-9feb-8470e3c5c933",
   "metadata": {
    "tags": []
   },
   "outputs": [
    {
     "data": {
      "text/html": [
       "<div>\n",
       "<style scoped>\n",
       "    .dataframe tbody tr th:only-of-type {\n",
       "        vertical-align: middle;\n",
       "    }\n",
       "\n",
       "    .dataframe tbody tr th {\n",
       "        vertical-align: top;\n",
       "    }\n",
       "\n",
       "    .dataframe thead th {\n",
       "        text-align: right;\n",
       "    }\n",
       "</style>\n",
       "<table border=\"1\" class=\"dataframe\">\n",
       "  <thead>\n",
       "    <tr style=\"text-align: right;\">\n",
       "      <th></th>\n",
       "      <th>id</th>\n",
       "      <th>t</th>\n",
       "      <th>u</th>\n",
       "      <th>z1</th>\n",
       "      <th>z2</th>\n",
       "      <th>y1</th>\n",
       "      <th>y2</th>\n",
       "      <th>y3</th>\n",
       "      <th>y4</th>\n",
       "      <th>y5</th>\n",
       "      <th>...</th>\n",
       "      <th>y8</th>\n",
       "      <th>y9</th>\n",
       "      <th>y10</th>\n",
       "      <th>j</th>\n",
       "      <th>k</th>\n",
       "      <th>t1</th>\n",
       "      <th>t2</th>\n",
       "      <th>a</th>\n",
       "      <th>a_dot</th>\n",
       "      <th>b</th>\n",
       "    </tr>\n",
       "  </thead>\n",
       "  <tbody>\n",
       "    <tr>\n",
       "      <th>0</th>\n",
       "      <td>0</td>\n",
       "      <td>1.0</td>\n",
       "      <td>-0.119857</td>\n",
       "      <td>0.2</td>\n",
       "      <td>4.4</td>\n",
       "      <td>1.000002</td>\n",
       "      <td>-0.999999</td>\n",
       "      <td>0.904837</td>\n",
       "      <td>0.67032</td>\n",
       "      <td>2.36788</td>\n",
       "      <td>...</td>\n",
       "      <td>-0.397435</td>\n",
       "      <td>-0.024958</td>\n",
       "      <td>-0.25</td>\n",
       "      <td>0.1</td>\n",
       "      <td>0.5</td>\n",
       "      <td>0.1</td>\n",
       "      <td>1.1</td>\n",
       "      <td>0.479426</td>\n",
       "      <td>0.438792</td>\n",
       "      <td>0.904837</td>\n",
       "    </tr>\n",
       "    <tr>\n",
       "      <th>1</th>\n",
       "      <td>0</td>\n",
       "      <td>2.0</td>\n",
       "      <td>-0.210368</td>\n",
       "      <td>0.2</td>\n",
       "      <td>4.4</td>\n",
       "      <td>1.000002</td>\n",
       "      <td>-0.999999</td>\n",
       "      <td>0.904837</td>\n",
       "      <td>0.67032</td>\n",
       "      <td>2.36788</td>\n",
       "      <td>...</td>\n",
       "      <td>-0.397435</td>\n",
       "      <td>-0.024958</td>\n",
       "      <td>-0.25</td>\n",
       "      <td>0.1</td>\n",
       "      <td>0.5</td>\n",
       "      <td>0.1</td>\n",
       "      <td>1.1</td>\n",
       "      <td>0.841472</td>\n",
       "      <td>0.270152</td>\n",
       "      <td>0.818731</td>\n",
       "    </tr>\n",
       "    <tr>\n",
       "      <th>2</th>\n",
       "      <td>0</td>\n",
       "      <td>3.0</td>\n",
       "      <td>-0.249374</td>\n",
       "      <td>0.2</td>\n",
       "      <td>4.4</td>\n",
       "      <td>1.000002</td>\n",
       "      <td>-0.999999</td>\n",
       "      <td>0.904837</td>\n",
       "      <td>0.67032</td>\n",
       "      <td>2.36788</td>\n",
       "      <td>...</td>\n",
       "      <td>-0.397435</td>\n",
       "      <td>-0.024958</td>\n",
       "      <td>-0.25</td>\n",
       "      <td>0.1</td>\n",
       "      <td>0.5</td>\n",
       "      <td>0.1</td>\n",
       "      <td>1.1</td>\n",
       "      <td>0.997497</td>\n",
       "      <td>0.035368</td>\n",
       "      <td>0.740818</td>\n",
       "    </tr>\n",
       "  </tbody>\n",
       "</table>\n",
       "<p>3 rows × 22 columns</p>\n",
       "</div>"
      ],
      "text/plain": [
       "   id    t         u   z1   z2        y1        y2        y3       y4  \\\n",
       "0   0  1.0 -0.119857  0.2  4.4  1.000002 -0.999999  0.904837  0.67032   \n",
       "1   0  2.0 -0.210368  0.2  4.4  1.000002 -0.999999  0.904837  0.67032   \n",
       "2   0  3.0 -0.249374  0.2  4.4  1.000002 -0.999999  0.904837  0.67032   \n",
       "\n",
       "        y5  ...        y8        y9   y10    j    k   t1   t2         a  \\\n",
       "0  2.36788  ... -0.397435 -0.024958 -0.25  0.1  0.5  0.1  1.1  0.479426   \n",
       "1  2.36788  ... -0.397435 -0.024958 -0.25  0.1  0.5  0.1  1.1  0.841472   \n",
       "2  2.36788  ... -0.397435 -0.024958 -0.25  0.1  0.5  0.1  1.1  0.997497   \n",
       "\n",
       "      a_dot         b  \n",
       "0  0.438792  0.904837  \n",
       "1  0.270152  0.818731  \n",
       "2  0.035368  0.740818  \n",
       "\n",
       "[3 rows x 22 columns]"
      ]
     },
     "metadata": {},
     "output_type": "display_data"
    }
   ],
   "source": [
    "display(simulation)"
   ]
  },
  {
   "cell_type": "code",
   "execution_count": null,
   "id": "ea7dab20-aeb3-41d4-9255-7662120a8e55",
   "metadata": {},
   "outputs": [],
   "source": []
  }
 ],
 "metadata": {
  "kernelspec": {
   "display_name": "Poetry",
   "language": "python",
   "name": "poetry-kernel"
  },
  "language_info": {
   "codemirror_mode": {
    "name": "ipython",
    "version": 3
   },
   "file_extension": ".py",
   "mimetype": "text/x-python",
   "name": "python",
   "nbconvert_exporter": "python",
   "pygments_lexer": "ipython3",
   "version": "3.12.4"
  }
 },
 "nbformat": 4,
 "nbformat_minor": 5
}
