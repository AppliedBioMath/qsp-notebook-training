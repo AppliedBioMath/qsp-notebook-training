{
 "cells": [
  {
   "cell_type": "markdown",
   "id": "746ecdcd-e520-47ad-9ba7-6f1d1095619f",
   "metadata": {},
   "source": [
    "# Lesson 1 - Data types and data structures in python\n",
    "This tutorial will cover basic data types in python as well as some common data structures that are used in modeling."
   ]
  },
  {
   "cell_type": "markdown",
   "id": "a99cfe1b-d5f2-4117-b360-af4e1cf4a80a",
   "metadata": {},
   "source": [
    "## Types\n",
    "The most commonly used data types for modelers that we will cover are:\n",
    "* `int` - integer\n",
    "* `float` - floating point number (decimal places)\n",
    "* `str` - string (text)\n",
    "* `bool` - True or False\n",
    "* `list` - an ordered list of objects\n",
    "* `dict` - a dictionary of keys and values (may be ordered or unordered depending on version)\n",
    "\n",
    "There are two types that are more unncommon that we will cover:\n",
    "* `tuple` - similar to a list but cannot be changed after creation\n",
    "* `set` - an unordered collection of unique objects (no duplicates)"
   ]
  },
  {
   "cell_type": "markdown",
   "id": "371874f9-6338-403a-ba17-bb373ee84959",
   "metadata": {},
   "source": [
    "To determine what type an object is, you can use the `type` function. \n",
    "Another useful function is the dir function, which returns the attributes of the object, which includes attributes as well as methods.\n",
    "To change the type of an object, you can use the type as a function like below. It will return an error if it is unable to recast as that type."
   ]
  },
  {
   "cell_type": "code",
   "execution_count": 1,
   "id": "a81c913b-727f-4094-bb9e-225c51b19b11",
   "metadata": {},
   "outputs": [
    {
     "name": "stdout",
     "output_type": "stream",
     "text": [
      "<class 'int'>\n",
      "45\n"
     ]
    }
   ],
   "source": [
    "# Getting the type of 10\n",
    "print(type(10))\n",
    "# re-casting a float as an integer\n",
    "# Note that recasting a float as an integer truncates everything after the decimal point\n",
    "print(int(45.6))"
   ]
  },
  {
   "cell_type": "code",
   "execution_count": 1,
   "id": "dd726cbd-3863-44bc-90a5-465ac55b5ef0",
   "metadata": {},
   "outputs": [
    {
     "data": {
      "text/plain": [
       "['__abs__',\n",
       " '__add__',\n",
       " '__and__',\n",
       " '__bool__',\n",
       " '__ceil__',\n",
       " '__class__',\n",
       " '__delattr__',\n",
       " '__dir__',\n",
       " '__divmod__',\n",
       " '__doc__',\n",
       " '__eq__',\n",
       " '__float__',\n",
       " '__floor__',\n",
       " '__floordiv__',\n",
       " '__format__',\n",
       " '__ge__',\n",
       " '__getattribute__',\n",
       " '__getnewargs__',\n",
       " '__gt__',\n",
       " '__hash__',\n",
       " '__index__',\n",
       " '__init__',\n",
       " '__init_subclass__',\n",
       " '__int__',\n",
       " '__invert__',\n",
       " '__le__',\n",
       " '__lshift__',\n",
       " '__lt__',\n",
       " '__mod__',\n",
       " '__mul__',\n",
       " '__ne__',\n",
       " '__neg__',\n",
       " '__new__',\n",
       " '__or__',\n",
       " '__pos__',\n",
       " '__pow__',\n",
       " '__radd__',\n",
       " '__rand__',\n",
       " '__rdivmod__',\n",
       " '__reduce__',\n",
       " '__reduce_ex__',\n",
       " '__repr__',\n",
       " '__rfloordiv__',\n",
       " '__rlshift__',\n",
       " '__rmod__',\n",
       " '__rmul__',\n",
       " '__ror__',\n",
       " '__round__',\n",
       " '__rpow__',\n",
       " '__rrshift__',\n",
       " '__rshift__',\n",
       " '__rsub__',\n",
       " '__rtruediv__',\n",
       " '__rxor__',\n",
       " '__setattr__',\n",
       " '__sizeof__',\n",
       " '__str__',\n",
       " '__sub__',\n",
       " '__subclasshook__',\n",
       " '__truediv__',\n",
       " '__trunc__',\n",
       " '__xor__',\n",
       " 'bit_length',\n",
       " 'conjugate',\n",
       " 'denominator',\n",
       " 'from_bytes',\n",
       " 'imag',\n",
       " 'numerator',\n",
       " 'real',\n",
       " 'to_bytes']"
      ]
     },
     "execution_count": 1,
     "metadata": {},
     "output_type": "execute_result"
    }
   ],
   "source": [
    "# You can also use dir to get all the built in methods of a function\n",
    "dir(int)"
   ]
  },
  {
   "cell_type": "markdown",
   "id": "2da9b237-6efe-464a-b49f-115abfdf79c3",
   "metadata": {},
   "source": [
    "## Immutable vs mutable types\n",
    "One of the most important and confusing things about python is immutable vs mutable types. Simply put, immutable types cannot be changed once created, while mutable objects can. This may seem like an unimportant detail but can cause misunderstandings when coupled with how variables are assigned. `int`,`float`,`str`,`bool`, and `tuple` are immutable, while `list`, `dict`, and `set` are mutable. "
   ]
  },
  {
   "cell_type": "markdown",
   "id": "031aea6f-84bd-4651-ae74-e338df2d2a48",
   "metadata": {},
   "source": [
    "When assigning variables, you are not actually creating a new object, but simply stating that the variable references that object. You can think of it almost like creating a shortcut in for a file or a folder. For example, if I say `x = 1`. This says x references the object \"1\". If I then say `x = x + 1`, it will now say that x references the object 2. We can determine this by using the `id` function, which returns the identity of the object that the variable is referencing."
   ]
  },
  {
   "cell_type": "code",
   "execution_count": 2,
   "id": "ab00c6a3-c848-4dda-9c82-8edf9ad1920a",
   "metadata": {},
   "outputs": [
    {
     "name": "stdout",
     "output_type": "stream",
     "text": [
      "94700992135808\n",
      "94700992135840\n"
     ]
    }
   ],
   "source": [
    "x = 1\n",
    "print(id(x))\n",
    "x = x + 1\n",
    "print(id(x))"
   ]
  },
  {
   "cell_type": "markdown",
   "id": "fd26e7e0-22b2-4e7f-a707-9aec014db4a9",
   "metadata": {},
   "source": [
    "Notice how the id has changed, since the object that x is now referencing is different. For immutable objects, this referencing is not an issue. However, this can cause some confusion for mutable objects. What if we create a list `x = [1,2,3]` and set `y = x`? We can see using `id` that x and y reference the same object.\n",
    "\n",
    "Can you imagine what would happen now if we change x or y? Since they reference the same object, making any change to either one will change the other too! This is different from other programming languages that  other people are familiar with, where we would expect y is a completely new and separate copy of x. To create a new copy, we would instead have to use the `copy` method that is present for mutable objects."
   ]
  },
  {
   "cell_type": "code",
   "execution_count": 3,
   "id": "a2a93fa5-6131-41bf-9e30-20eb6158ab29",
   "metadata": {},
   "outputs": [
    {
     "name": "stdout",
     "output_type": "stream",
     "text": [
      "id of x = 140120160423040\n",
      "id of y = 140120160423040\n",
      "x = [1, 2, 3, 10]\n",
      "y = [1, 2, 3, 10]\n"
     ]
    }
   ],
   "source": [
    "# Using normal assignment\n",
    "x = [1, 2, 3]\n",
    "y = x\n",
    "print(f'id of x = {id(x)}')\n",
    "print(f'id of y = {id(y)}')\n",
    "#Adding 10 to the list\n",
    "y.append(10)\n",
    "print(f'x = {x}')\n",
    "print(f'y = {y}')"
   ]
  },
  {
   "cell_type": "code",
   "execution_count": 4,
   "id": "0fa2e9c8-67c5-44d6-a12a-ca74e3b33b0e",
   "metadata": {},
   "outputs": [
    {
     "name": "stdout",
     "output_type": "stream",
     "text": [
      "id of x = 140120160422560\n",
      "id of y = 140120160417904\n",
      "x = [1, 2, 3]\n",
      "y = [1, 2, 3, 10]\n"
     ]
    }
   ],
   "source": [
    "# Using the copy function, notice how the ids are now different\n",
    "x = [1, 2, 3]\n",
    "y = x.copy()\n",
    "print(f'id of x = {id(x)}')\n",
    "print(f'id of y = {id(y)}')\n",
    "#Adding 10 to the list\n",
    "y.append(10)\n",
    "print(f'x = {x}')\n",
    "print(f'y = {y}')"
   ]
  },
  {
   "cell_type": "markdown",
   "id": "2c6b204e-fea8-47eb-93d1-4b62cb79a5ed",
   "metadata": {},
   "source": [
    "## Integers - `int`\n",
    "Integers are whole numbers that are useful for counting and iterating over. You can easily create an integer by just using a whole number with no decimal place. For example, if you wanted the length of a list, it would be returned as an integer. This would allow you to easily compare equality and create a range to iterate over if necessary. You can still use integers to run your typical calculations."
   ]
  },
  {
   "cell_type": "code",
   "execution_count": 5,
   "id": "dca0e5a1-b3cd-4b03-9384-976fc1e311d8",
   "metadata": {},
   "outputs": [
    {
     "name": "stdout",
     "output_type": "stream",
     "text": [
      "<class 'int'>\n"
     ]
    }
   ],
   "source": [
    "# integer\n",
    "print(type(1))"
   ]
  },
  {
   "cell_type": "markdown",
   "id": "5a9a9882-357b-45c4-b9db-a8968d528f1b",
   "metadata": {},
   "source": [
    "## Floating point - `float`\n",
    "`float` are use to define numbers with decimal places. You can create a float by making a number with a decimal. They can support up to 16 digits of precision. They are similar to most other floats in other programming languages with all the limiations that typically arise due to floats, such as being unable to test exact equality and formatting. We will cover how to format floats when printing them in the `str` section."
   ]
  },
  {
   "cell_type": "code",
   "execution_count": 6,
   "id": "51e7f309-0ed4-4c3e-a9a5-7e6501a32f3a",
   "metadata": {},
   "outputs": [
    {
     "name": "stdout",
     "output_type": "stream",
     "text": [
      "<class 'float'>\n",
      "<class 'float'>\n"
     ]
    }
   ],
   "source": [
    "# not integer\n",
    "x = 1.\n",
    "y = 671.143671371\n",
    "print(type(x))\n",
    "print(type(y))"
   ]
  },
  {
   "cell_type": "markdown",
   "id": "44c2ef9e-0864-4a8a-a5ea-5314738c9ba3",
   "metadata": {},
   "source": [
    "## Strings - `str`\n",
    "Strings are used to define text. Strings can be created by enclosing the text between `\"` or `'`. There is no difference between them. Strings act similar to lists and can be indexed using brackets `[start:end]`. **Indexing in python has 0 as the first value.** It also has an inclusive start and an exclusive end. For example `string[2:5]` would include the 3rd character up to the 5th, but does not include the 6th. Strings can also be concatenated by using the `+` sign.\n",
    "\n",
    "There is also a very handy functionality in python called `f-strings`, which allow you to use variables inside of strings (also known as \"string interpolation\"). To create an f string, you simply put f before the quotation marks. Then you can call a variable between `{}`. For float values, you can use the format `{variable:length.precisionf}` to format the output. See [this guide](https://realpython.com/python-formatted-output/) for more options when formatting."
   ]
  },
  {
   "cell_type": "code",
   "execution_count": 7,
   "id": "74884a3f-048e-4e1a-925a-72392c945f3b",
   "metadata": {},
   "outputs": [
    {
     "data": {
      "text/plain": [
       "'1234'"
      ]
     },
     "execution_count": 7,
     "metadata": {},
     "output_type": "execute_result"
    }
   ],
   "source": [
    "#Indexing a string\n",
    "string = '0123456'\n",
    "string[1:5]"
   ]
  },
  {
   "cell_type": "code",
   "execution_count": 8,
   "id": "def9d6d3-e462-4ba6-8a87-30115be711d1",
   "metadata": {},
   "outputs": [
    {
     "name": "stdout",
     "output_type": "stream",
     "text": [
      "x = 5, y = 125.325\n"
     ]
    }
   ],
   "source": [
    "x = 5\n",
    "y = 125.3246278\n",
    "# Creating strings of the numbers\n",
    "string_x = f'x = {x}'\n",
    "string_y = f'y = {y:3.3f}'\n",
    "# concatonating strings together\n",
    "print(string_x + ', ' + string_y)"
   ]
  },
  {
   "cell_type": "markdown",
   "id": "a70daf15-4471-4910-817c-0311d2d87967",
   "metadata": {},
   "source": [
    "## Booleans - `bool`\n",
    "Booleans are used for equalities. Booleans consist of only the object `True` and `False`. Booleans are actually considered numerical values, with `True == 1` and `False == 0` so it is possible to do math on them."
   ]
  },
  {
   "cell_type": "code",
   "execution_count": 9,
   "id": "45362538-07c1-4f8c-bb6c-0da70ced4aa3",
   "metadata": {},
   "outputs": [
    {
     "name": "stdout",
     "output_type": "stream",
     "text": [
      "True\n",
      "True\n",
      "0.25\n"
     ]
    }
   ],
   "source": [
    "print(True == 1)\n",
    "print(False == 0)\n",
    "print((True + False) / (5 - True))"
   ]
  },
  {
   "cell_type": "markdown",
   "id": "5c22c8fa-0f35-435a-a9c4-6a2d860bdf90",
   "metadata": {},
   "source": [
    "## List - `list`\n",
    "A list is an ordered array of objects. A list is defined using `[]`, with `,` between each item. You can add lists together using `+`, similar to strings. They can be indexed the same way as well. A list can be any combination of any types. There are several useful methods that can be used when generating lists. A full list of methods can be found [here](https://docs.python.org/3/tutorial/datastructures.html).\n",
    "\n",
    "* `list.append(x)` - adds an item to the end of the list\n",
    "* `list.extend(iterable)` - adds all the items of an object, such as another list, to the list\n",
    "* `list.remove(x)` - removes the first item that equals the given value\n",
    "* `list.count(x)` - returns the number of times a value appears in the list\n",
    "* `list.sort()` - sorts the list (see [here for more info](https://docs.python.org/3/library/functions.html#sorted))\n",
    "* `list.copy()` - returns a shallow copy, you can also use list_name[:] (for what a shallow vs deep copy is, see [here](https://docs.python.org/3/library/copy.html))\n",
    "* `len(list)` - returns the number of items in the list (works for other types as well)\n",
    "\n",
    "Another extremely useful feature of lists is list comprehensions, which allow you to create lists out of other lists. This will be covered later. There are also numpy arrays which are similar to lists but are used for numbers which will also be covered later."
   ]
  },
  {
   "cell_type": "code",
   "execution_count": 10,
   "id": "81fe477f-651f-4f98-ad95-cd56157003e3",
   "metadata": {},
   "outputs": [
    {
     "name": "stdout",
     "output_type": "stream",
     "text": [
      "[1, 2.167, 'test', ['list', 'within', 'a', 'list'], 'another', 'list']\n",
      "[1, 2.167]\n"
     ]
    }
   ],
   "source": [
    "example_list = [1,\n",
    "                2.167,\n",
    "                'test']\n",
    "example_list.append(['list', 'within', 'a', 'list'])\n",
    "example_list.extend(['another', 'list'])\n",
    "print(example_list)\n",
    "print(example_list[0:2])"
   ]
  },
  {
   "cell_type": "markdown",
   "id": "7c0227dd-8252-4932-b8a2-15493f8a07ce",
   "metadata": {},
   "source": [
    "list functions are arraywise and not elementwise. For example, `+` adds lists together and does not add elements together."
   ]
  },
  {
   "cell_type": "code",
   "execution_count": 11,
   "id": "d7088c1d-ed46-4c00-8e82-f9f2e6dd7f14",
   "metadata": {},
   "outputs": [
    {
     "name": "stdout",
     "output_type": "stream",
     "text": [
      "[1, 2, 3, 4, 5, 6]\n",
      "[1, 2, 3, 1, 2, 3, 1, 2, 3]\n"
     ]
    }
   ],
   "source": [
    "# z = [1,2,3,4,5,6] NOT [5,7,9]\n",
    "x = [1,2,3]\n",
    "y = [4,5,6]\n",
    "z = x + y\n",
    "print(z)\n",
    "# m = x repeated 3 times, NOT [3,6,9]\n",
    "m = x * 3\n",
    "print(m)"
   ]
  },
  {
   "cell_type": "markdown",
   "id": "34440497-f710-44cf-83a6-babb38e849b0",
   "metadata": {},
   "source": [
    "## Dictionary - `dict`\n",
    "A dictionary is an extremely useful data structure that consists of key-value pairs. The purpose of a dictionary is to allow for indexing by a key, instead of by order. A dictionary is created by using the `{key: value}`. A key can be anything that does not contain a mutable object, such as a list or another dictionary. Each key must also be unique. If another key of the same object is added, it is overwritten. A value can be any object. \n",
    "Some useful methods for a dictionary are:\n",
    "\n",
    "* `dict.get(key)` - returns the value of a specified key (can also use `dict[key]`)\n",
    "* `dict.pop(key)` - removes key from dictionary and returns value that was removed\n",
    "* `dict.keys()` - returns the keys of the dictionary\n",
    "* `dict.values()` - returns the value of the dictionary\n",
    "* `dict.items()` - returns the dictionary as a list containing the tuple for each key-value pair (useful for iterating)\n",
    "* `dict.update(new_dict)` - adds the given dictionary to the dictionary, either updating existing keys or adding new ones\n",
    "* `dict.setdefault(key, value)` - returns the value with the specified key, if the key does not exists, inserts it with the value"
   ]
  },
  {
   "cell_type": "code",
   "execution_count": 12,
   "id": "4dc5d289-f519-48b0-84a3-0023c409a557",
   "metadata": {},
   "outputs": [
    {
     "name": "stdout",
     "output_type": "stream",
     "text": [
      "dict_keys(['a', 'b', 'c'])\n",
      "dict_values([1, 2, 3])\n",
      "1\n"
     ]
    }
   ],
   "source": [
    "dictionary = {\n",
    "    'a': 1,\n",
    "    'b': 2,\n",
    "    'c': 3,\n",
    "}\n",
    "# Get keys and values, and get value of key a\n",
    "print(dictionary.keys())\n",
    "print(dictionary.values())\n",
    "print(dictionary['a'])"
   ]
  },
  {
   "cell_type": "markdown",
   "id": "d06c87ca-fa72-4f75-a271-8b31dcf6613d",
   "metadata": {},
   "source": [
    "There are 3 ways to add values. The easiest method is to simply call the key using `[]` and setting it to a new value. If it does not exist in the dictionary it will add it. You can also use `.setdefault`or update. `.setdefault` is different from `[]` because it does not chang the value if they key already exists. `.update` is useful for changing or adding multiple key value pairs. To summarize:\n",
    "* dict[key] = value:\n",
    "    * if key exists: change it\n",
    "    * if key does not exist: add it\n",
    "* dict.setdefault(key, value):\n",
    "    * if key exists: do not change it and return value\n",
    "    * if key does not exist: add it and return new value\n",
    "* dict.update({new_dict}):\n",
    "    * if the key exists: change it\n",
    "    * if the key does not exist: add it"
   ]
  },
  {
   "cell_type": "code",
   "execution_count": 13,
   "id": "1fd59dae-5552-4d89-9180-808711713b4e",
   "metadata": {},
   "outputs": [
    {
     "name": "stdout",
     "output_type": "stream",
     "text": [
      "{'a': 1, 'b': 2, 'c': 3, 'd': 2}\n",
      "{'a': 1, 'b': 2, 'c': 3, 'd': 4}\n"
     ]
    }
   ],
   "source": [
    "# Adds new value\n",
    "dictionary['d'] = 2\n",
    "print(dictionary)\n",
    "# Changes value of existing key\n",
    "dictionary['d'] = 4\n",
    "print(dictionary)"
   ]
  },
  {
   "cell_type": "code",
   "execution_count": 14,
   "id": "9f3a2dcf-d11a-4a29-aa04-ac2d802f265a",
   "metadata": {},
   "outputs": [
    {
     "name": "stdout",
     "output_type": "stream",
     "text": [
      "1\n",
      "{'a': 1, 'b': 2, 'c': 3, 'd': 4}\n",
      "4\n",
      "{'a': 1, 'b': 2, 'c': 3, 'd': 4, 'e': 4}\n"
     ]
    }
   ],
   "source": [
    "# Using setdefault on an existing key just returns the value, the value given is ignored\n",
    "print(dictionary.setdefault('a',2))\n",
    "print(dictionary)\n",
    "# Using setdefault for a new key adds the key value pair to the dictionary\n",
    "print(dictionary.setdefault('e',4))\n",
    "print(dictionary)"
   ]
  },
  {
   "cell_type": "code",
   "execution_count": 15,
   "id": "45439d23-7527-48d9-948f-5eb2b87053e9",
   "metadata": {},
   "outputs": [
    {
     "data": {
      "text/plain": [
       "{'a': 1, 'b': 2, 'c': 3, 'd': 4, 'e': 5, 'f': 6}"
      ]
     },
     "execution_count": 15,
     "metadata": {},
     "output_type": "execute_result"
    }
   ],
   "source": [
    "dictionary.update({'e':5, 'f':6})\n",
    "dictionary"
   ]
  },
  {
   "cell_type": "markdown",
   "id": "99dda73a-882e-4bbd-9c09-04ffbc0aa356",
   "metadata": {},
   "source": [
    "## Tuple - `tuple`\n",
    "A tuple is similar to a list, but unchangable once created and thus immutable. In practice, this allows for faster computation and search time but is generally unnecessary for modelers. A tuple can be created with `()`. You can also convert a tuple to a list or vice versa using `list` or `tuple`."
   ]
  },
  {
   "cell_type": "code",
   "execution_count": 16,
   "id": "0b036f5a-ddaa-4d69-b463-5b94133a5af5",
   "metadata": {},
   "outputs": [
    {
     "name": "stdout",
     "output_type": "stream",
     "text": [
      "<class 'list'>\n",
      "[1, 'test', 'tuple']\n"
     ]
    }
   ],
   "source": [
    "example_tuple = (1, \"test\", \"tuple\")\n",
    "# converting tuple to list\n",
    "converted_list = list(example_tuple)\n",
    "\n",
    "print(type(converted_list))\n",
    "print(converted_list)"
   ]
  },
  {
   "cell_type": "code",
   "execution_count": 17,
   "id": "990dd067-5fea-4070-b717-779c3f2ea40c",
   "metadata": {},
   "outputs": [],
   "source": [
    "# The commented-out code below will not work because a tuple is immutable.\n",
    "# You cannot replace an element within it. \n",
    "\n",
    "# example_tuple[0] = 2\n",
    "\n",
    "# If this object had been a list, this code will run."
   ]
  },
  {
   "cell_type": "markdown",
   "id": "d1e27945-9023-4e1e-87d6-526e69d0863f",
   "metadata": {},
   "source": [
    "## Sets - set\n",
    "A set is a somewhat unique data type. A set is unordered, unindexed and unique. This means that the items can be in any order and there can only be no duplicates. A set is created using `{}`. It differs from defining a dictionary since there is no `key:value`. A set is especially useful since it can be used to get unique values from a list or other collection. By converting a list into a set, (and back to a list if you want), you can get the list without duplicates."
   ]
  },
  {
   "cell_type": "code",
   "execution_count": 18,
   "id": "fde34233-62ad-4b12-ac8a-b3e1f4591c21",
   "metadata": {},
   "outputs": [
    {
     "name": "stdout",
     "output_type": "stream",
     "text": [
      "{1, 'test', 'set'}\n"
     ]
    }
   ],
   "source": [
    "# Creating a list\n",
    "example_set = {1,'test', 'set'}\n",
    "print(example_set)"
   ]
  },
  {
   "cell_type": "code",
   "execution_count": 19,
   "id": "3320b7ec-ff15-4fb1-ad95-3a6c8ed4d627",
   "metadata": {},
   "outputs": [
    {
     "name": "stdout",
     "output_type": "stream",
     "text": [
      "{1, 2, 3, 5, 7, 8}\n"
     ]
    }
   ],
   "source": [
    "list_with_duplicates = [1,1,2,3,5,5,5,7,7,8]\n",
    "set_without_duplicates = set(list_with_duplicates)\n",
    "print(set_without_duplicates)"
   ]
  }
 ],
 "metadata": {
  "kernelspec": {
   "display_name": "Poetry",
   "language": "python",
   "name": "poetry-kernel"
  },
  "language_info": {
   "codemirror_mode": {
    "name": "ipython",
    "version": 3
   },
   "file_extension": ".py",
   "mimetype": "text/x-python",
   "name": "python",
   "nbconvert_exporter": "python",
   "pygments_lexer": "ipython3",
   "version": "3.10.5"
  }
 },
 "nbformat": 4,
 "nbformat_minor": 5
}
