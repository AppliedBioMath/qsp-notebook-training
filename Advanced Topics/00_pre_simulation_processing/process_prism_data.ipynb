{
 "cells": [
  {
   "cell_type": "markdown",
   "metadata": {},
   "source": [
    "# Data Processing from Prism files\n",
    "We demonstrate programmatic data processing from two Prism formats: `.pzfx` and `.prism`"
   ]
  },
  {
   "cell_type": "markdown",
   "metadata": {},
   "source": [
    "## import packages"
   ]
  },
  {
   "cell_type": "code",
   "execution_count": 1,
   "metadata": {},
   "outputs": [],
   "source": [
    "import zipfile\n",
    "import pandas as pd\n",
    "import pzfx_parser\n",
    "import io"
   ]
  },
  {
   "cell_type": "markdown",
   "metadata": {},
   "source": [
    "## .pzfx file\n",
    "Although `.pzfx` is a properiety format used by Prism/Graphpad, there are parsers available. We use the parser `pzfx_parser` (https://pypi.org/project/pzfx_parser/) to extract data.\n",
    "\n",
    "To use this package, please add the following to your environment:\n",
    "\n",
    "`pzfx_parser=\"~0.4\"`\n"
   ]
  },
  {
   "cell_type": "code",
   "execution_count": 2,
   "metadata": {
    "tags": []
   },
   "outputs": [
    {
     "data": {
      "text/plain": [
       "{'Data 1':    log ERY974 (nM)_0  log ERY974 (nM)_1  % cytotoxicity_0\n",
       " 0          -5.123403          -5.123403          1.528881\n",
       " 1          -4.162947          -4.162947          0.635631\n",
       " 2          -3.157275          -3.157275          5.933002\n",
       " 3          -2.136899          -2.136899         28.854434\n",
       " 4          -1.096025          -1.096025         40.341922\n",
       " 5          -0.113859          -0.113859         41.467704\n",
       " 6           0.867409           0.867409         41.517207\n",
       " 7           1.867805           1.867805         40.491442}"
      ]
     },
     "execution_count": 2,
     "metadata": {},
     "output_type": "execute_result"
    }
   ],
   "source": [
    "# read the .pzfx file using pzfx_parser\n",
    "# returns a dictionary of dataframes\n",
    "df_pzfx = pzfx_parser.read_pzfx(\"data/prism_example_oldformat.pzfx\")\n",
    "df_pzfx"
   ]
  },
  {
   "cell_type": "code",
   "execution_count": 3,
   "metadata": {
    "tags": []
   },
   "outputs": [
    {
     "data": {
      "text/html": [
       "<div>\n",
       "<style scoped>\n",
       "    .dataframe tbody tr th:only-of-type {\n",
       "        vertical-align: middle;\n",
       "    }\n",
       "\n",
       "    .dataframe tbody tr th {\n",
       "        vertical-align: top;\n",
       "    }\n",
       "\n",
       "    .dataframe thead th {\n",
       "        text-align: right;\n",
       "    }\n",
       "</style>\n",
       "<table border=\"1\" class=\"dataframe\">\n",
       "  <thead>\n",
       "    <tr style=\"text-align: right;\">\n",
       "      <th></th>\n",
       "      <th>log_dose_nM</th>\n",
       "      <th>percent_cytotoxicity</th>\n",
       "    </tr>\n",
       "  </thead>\n",
       "  <tbody>\n",
       "    <tr>\n",
       "      <th>0</th>\n",
       "      <td>-5.123403</td>\n",
       "      <td>1.528881</td>\n",
       "    </tr>\n",
       "    <tr>\n",
       "      <th>1</th>\n",
       "      <td>-4.162947</td>\n",
       "      <td>0.635631</td>\n",
       "    </tr>\n",
       "    <tr>\n",
       "      <th>2</th>\n",
       "      <td>-3.157275</td>\n",
       "      <td>5.933002</td>\n",
       "    </tr>\n",
       "    <tr>\n",
       "      <th>3</th>\n",
       "      <td>-2.136899</td>\n",
       "      <td>28.854434</td>\n",
       "    </tr>\n",
       "    <tr>\n",
       "      <th>4</th>\n",
       "      <td>-1.096025</td>\n",
       "      <td>40.341922</td>\n",
       "    </tr>\n",
       "    <tr>\n",
       "      <th>5</th>\n",
       "      <td>-0.113859</td>\n",
       "      <td>41.467704</td>\n",
       "    </tr>\n",
       "    <tr>\n",
       "      <th>6</th>\n",
       "      <td>0.867409</td>\n",
       "      <td>41.517207</td>\n",
       "    </tr>\n",
       "    <tr>\n",
       "      <th>7</th>\n",
       "      <td>1.867805</td>\n",
       "      <td>40.491442</td>\n",
       "    </tr>\n",
       "  </tbody>\n",
       "</table>\n",
       "</div>"
      ],
      "text/plain": [
       "   log_dose_nM  percent_cytotoxicity\n",
       "0    -5.123403              1.528881\n",
       "1    -4.162947              0.635631\n",
       "2    -3.157275              5.933002\n",
       "3    -2.136899             28.854434\n",
       "4    -1.096025             40.341922\n",
       "5    -0.113859             41.467704\n",
       "6     0.867409             41.517207\n",
       "7     1.867805             40.491442"
      ]
     },
     "execution_count": 3,
     "metadata": {},
     "output_type": "execute_result"
    }
   ],
   "source": [
    "df_pzfx = (\n",
    "    # select the desired dataframe by key\n",
    "    df_pzfx['Data 1']\n",
    "    # drop the first column, as it is repeated in this data\n",
    "    .drop(columns=['log ERY974 (nM)_0'])\n",
    "    .rename(columns={'log ERY974 (nM)_1': 'log_dose_nM', '% cytotoxicity_0': 'percent_cytotoxicity'})\n",
    ")\n",
    "df_pzfx"
   ]
  },
  {
   "cell_type": "markdown",
   "metadata": {},
   "source": [
    "## .prism file\n",
    "Graphpad/Prism has recently changed their file format to .prism, which operates much like a .zip file. The data are stored in .csv files and other relevant information is in .json schemas. More on this file format here: https://www.graphpad.com/guides/prism/latest/user-guide/prism_file_format.htm\n",
    "\n",
    "#### Tip!\n",
    "Changing the extension of a `.prism` file to `.zip` and unzipping the resulting file exposes its contents (you can try this in your Desktop). \n",
    "Below, we use a Python script to read the contents of the `.prism` file."
   ]
  },
  {
   "cell_type": "code",
   "execution_count": 4,
   "metadata": {
    "tags": []
   },
   "outputs": [
    {
     "data": {
      "text/plain": [
       "<zipfile.ZipFile filename='data/prism_example_newformat.prism' mode='r'>"
      ]
     },
     "execution_count": 4,
     "metadata": {},
     "output_type": "execute_result"
    }
   ],
   "source": [
    "# reading the zipfile\n",
    "fprism_zip = zipfile.ZipFile(\n",
    "    'data/prism_example_newformat.prism',\n",
    "    mode='r'\n",
    ")\n",
    "fprism_zip"
   ]
  },
  {
   "cell_type": "code",
   "execution_count": 5,
   "metadata": {
    "tags": []
   },
   "outputs": [
    {
     "data": {
      "text/plain": [
       "['data/tables/0F9A8752-97E5-469D-BA97-3DD6B9BECE6C/data.csv',\n",
       " 'data/tables/4F4814CB-660B-4A39-B71D-8613009FF242/data.csv',\n",
       " 'data/tables/5B474CD4-1E17-4B3A-BBAB-0F36896A1A42/data.csv',\n",
       " 'data/tables/831842C8-EA10-4C56-8653-E243EADDF288/data.csv',\n",
       " 'data/tables/93B56563-11DB-45D8-AB1A-630C417C4459/data.csv',\n",
       " 'data/tables/BEB35D29-2AAF-4C78-9274-A2E89D63B0CD/data.csv',\n",
       " 'data/tables/E0516C10-E3F4-49DC-8207-DE3754E4C6E1/data.csv']"
      ]
     },
     "execution_count": 5,
     "metadata": {},
     "output_type": "execute_result"
    }
   ],
   "source": [
    "# extracting names of filles with .csv extension\n",
    "csv_files = [file for file in fprism_zip.namelist() if '.csv' in file]\n",
    "csv_files"
   ]
  },
  {
   "cell_type": "code",
   "execution_count": 6,
   "metadata": {
    "tags": []
   },
   "outputs": [
    {
     "data": {
      "text/plain": [
       "[          0          1\n",
       " 0 -5.123403   2.000000\n",
       " 1 -4.162947   1.000000\n",
       " 2 -3.157275   1.000000\n",
       " 3 -2.136899   4.000000\n",
       " 4 -1.096025   8.000000\n",
       " 5 -0.113859  30.000000\n",
       " 6  0.867409  41.517207\n",
       " 7  1.867805  40.491442,\n",
       "           0          1\n",
       " 0 -5.123403   1.000000\n",
       " 1 -4.162947   3.000000\n",
       " 2 -3.157275   6.000000\n",
       " 3 -2.136899  24.000000\n",
       " 4 -1.096025  40.341922\n",
       " 5 -0.113859  41.467704\n",
       " 6  0.867409  41.517207\n",
       " 7  1.867805  40.491442,\n",
       "                                                     0                     1\n",
       " 0   log(agonist) vs. response -- Variable slope (f...                   NaN\n",
       " 1                                     Best-fit values                   NaN\n",
       " 2                                              Bottom                0.9525\n",
       " 3                                                 Top                 41.21\n",
       " 4                                             LogEC50                -2.435\n",
       " 5                                           HillSlope                 1.196\n",
       " 6                                                EC50              0.003672\n",
       " 7                                                Span                 40.26\n",
       " 8                         95% CI (profile likelihood)                   NaN\n",
       " 9                                              Bottom      -0.3518 to 2.222\n",
       " 10                                                Top        40.32 to 42.11\n",
       " 11                                            LogEC50      -2.518 to -2.355\n",
       " 12                                          HillSlope        1.012 to 1.455\n",
       " 13                                               EC50  0.003036 to 0.004411\n",
       " 14                                    Goodness of Fit                   NaN\n",
       " 15                                 Degrees of Freedom                     4\n",
       " 16                                          R squared                0.9994\n",
       " 17                                     Sum of Squares                 1.492\n",
       " 18                                               Sy.x                0.6108\n",
       " 19                                                NaN                   NaN\n",
       " 20                                   Number of points                   NaN\n",
       " 21                                      # of X values                     8\n",
       " 22                                # Y values analyzed                     8,\n",
       "           0          1\n",
       " 0 -5.123403   1.528881\n",
       " 1 -4.162947   0.635631\n",
       " 2 -3.157275   5.933002\n",
       " 3 -2.136899  28.854434\n",
       " 4 -1.096025  40.341922\n",
       " 5 -0.113859  41.467704\n",
       " 6  0.867409  41.517207\n",
       " 7  1.867805  40.491442,\n",
       "              0\n",
       " 0     0.976992\n",
       " 1     0.977469\n",
       " 2     0.977956\n",
       " 3     0.978452\n",
       " 4     0.978957\n",
       " ..         ...\n",
       " 995  41.210066\n",
       " 996  41.210072\n",
       " 997  41.210078\n",
       " 998  41.210084\n",
       " 999  41.210089\n",
       " \n",
       " [1000 rows x 1 columns],\n",
       "      0          1\n",
       " 0 -7.0   1.528881\n",
       " 1 -6.0   0.635631\n",
       " 2 -5.0   5.933002\n",
       " 3 -4.0  28.854434\n",
       " 4 -3.0  40.341922\n",
       " 5 -2.0  41.467704\n",
       " 6 -1.0  41.517207\n",
       " 7  NaN        NaN,\n",
       "             0          1\n",
       " 0    0.867409  41.205854\n",
       " 1    0.868075  41.205862\n",
       " 2    0.868742  41.205870\n",
       " 3    0.869409  41.205879\n",
       " 4    0.870077  41.205887\n",
       " ..        ...        ...\n",
       " 995  1.862077  41.210085\n",
       " 996  1.863508  41.210086\n",
       " 997  1.864939  41.210087\n",
       " 998  1.866371  41.210088\n",
       " 999  1.867805  41.210089\n",
       " \n",
       " [1000 rows x 2 columns]]"
      ]
     },
     "execution_count": 6,
     "metadata": {},
     "output_type": "execute_result"
    }
   ],
   "source": [
    "# create empty list to hold the dataframes\n",
    "dfList = []\n",
    "# iterate over the list containing paths to csv files\n",
    "for file in csv_files:\n",
    "    # open each file\n",
    "    with fprism_zip.open(file) as f:\n",
    "        # read the file (output: byte)\n",
    "        fread=f.read()\n",
    "        # convert the byte output to suit read_csv\n",
    "        # set header option to None, else the first row becomes header\n",
    "        _df=pd.read_csv(io.StringIO(fread.decode('utf-8')), header=None)\n",
    "    dfList.append(_df)\n",
    "dfList"
   ]
  },
  {
   "cell_type": "markdown",
   "metadata": {},
   "source": [
    "### MANUALLY select, modify, and save the desired csv file\n",
    "There are often multiple `.csv` files and one needs to manually decide the one to extract, process, and save. Here, we work with the **fourth** dataframe.\n",
    "\n",
    "#### Tip!\n",
    "The free/trial version of Prism can be used to view the prism files, but not to edit/copy the contents. Because there are often multiple `.csv` files, we can use the Prism viewer on our Desktop to view the data to help identify `.csv` file we are interested in. The `.csv` files do not have column labels; viewing the prism file allows us to manually set these.\n"
   ]
  },
  {
   "cell_type": "code",
   "execution_count": 7,
   "metadata": {
    "tags": []
   },
   "outputs": [
    {
     "data": {
      "text/html": [
       "<div>\n",
       "<style scoped>\n",
       "    .dataframe tbody tr th:only-of-type {\n",
       "        vertical-align: middle;\n",
       "    }\n",
       "\n",
       "    .dataframe tbody tr th {\n",
       "        vertical-align: top;\n",
       "    }\n",
       "\n",
       "    .dataframe thead th {\n",
       "        text-align: right;\n",
       "    }\n",
       "</style>\n",
       "<table border=\"1\" class=\"dataframe\">\n",
       "  <thead>\n",
       "    <tr style=\"text-align: right;\">\n",
       "      <th></th>\n",
       "      <th>log_dose_nM</th>\n",
       "      <th>percent_cytotoxicity</th>\n",
       "    </tr>\n",
       "  </thead>\n",
       "  <tbody>\n",
       "    <tr>\n",
       "      <th>0</th>\n",
       "      <td>-5.123403</td>\n",
       "      <td>1.528881</td>\n",
       "    </tr>\n",
       "    <tr>\n",
       "      <th>1</th>\n",
       "      <td>-4.162947</td>\n",
       "      <td>0.635631</td>\n",
       "    </tr>\n",
       "    <tr>\n",
       "      <th>2</th>\n",
       "      <td>-3.157275</td>\n",
       "      <td>5.933002</td>\n",
       "    </tr>\n",
       "    <tr>\n",
       "      <th>3</th>\n",
       "      <td>-2.136899</td>\n",
       "      <td>28.854434</td>\n",
       "    </tr>\n",
       "    <tr>\n",
       "      <th>4</th>\n",
       "      <td>-1.096025</td>\n",
       "      <td>40.341922</td>\n",
       "    </tr>\n",
       "    <tr>\n",
       "      <th>5</th>\n",
       "      <td>-0.113859</td>\n",
       "      <td>41.467704</td>\n",
       "    </tr>\n",
       "    <tr>\n",
       "      <th>6</th>\n",
       "      <td>0.867409</td>\n",
       "      <td>41.517207</td>\n",
       "    </tr>\n",
       "    <tr>\n",
       "      <th>7</th>\n",
       "      <td>1.867805</td>\n",
       "      <td>40.491442</td>\n",
       "    </tr>\n",
       "  </tbody>\n",
       "</table>\n",
       "</div>"
      ],
      "text/plain": [
       "   log_dose_nM  percent_cytotoxicity\n",
       "0    -5.123403              1.528881\n",
       "1    -4.162947              0.635631\n",
       "2    -3.157275              5.933002\n",
       "3    -2.136899             28.854434\n",
       "4    -1.096025             40.341922\n",
       "5    -0.113859             41.467704\n",
       "6     0.867409             41.517207\n",
       "7     1.867805             40.491442"
      ]
     },
     "execution_count": 7,
     "metadata": {},
     "output_type": "execute_result"
    }
   ],
   "source": [
    "df_prism = (\n",
    "    dfList[3]\n",
    "    # manually rename columns\n",
    "    .rename(columns={0: 'log_dose_nM', 1: 'percent_cytotoxicity'})\n",
    ")\n",
    "df_prism"
   ]
  },
  {
   "cell_type": "markdown",
   "metadata": {},
   "source": [
    "#### Future work\n",
    "- The column labels and other metadata are in the `.json` files. With some effort, it should be possible to automate the manual steps.\n",
    "- Some popular file formats `.docx` and `.pptx` operate much like a `.zip`. So, in principle, we should be able to use the same trick above to extract embedded data files.\n",
    "\n",
    "If you end up working on any of these, or have additional feature requests, please update this notebook or contact the SSI team :)"
   ]
  }
 ],
 "metadata": {
  "kernelspec": {
   "display_name": "Python (Pixi)",
   "language": "python",
   "name": "pixi-kernel-python3"
  },
  "language_info": {
   "codemirror_mode": {
    "name": "ipython",
    "version": 3
   },
   "file_extension": ".py",
   "mimetype": "text/x-python",
   "name": "python",
   "nbconvert_exporter": "python",
   "pygments_lexer": "ipython3",
   "version": "3.12.8"
  }
 },
 "nbformat": 4,
 "nbformat_minor": 4
}
