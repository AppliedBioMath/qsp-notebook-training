{
 "cells": [
  {
   "cell_type": "markdown",
   "id": "d7d923f0-4ecf-49e5-b1ea-368d0a304b1f",
   "metadata": {},
   "source": [
    "# Color blind safe color schemes\n",
    "\n",
    "This notebook demonstrates the color blind safe color schemes that can be used with the color_scheme utility (found in the utilities folder here).\n",
    "\n",
    "The color schemes without a prefix are best used for discrete colors schemes whereas those with seq or div as a prefix are best used for sequential and divergent color schemes. As it is currently set up the output of these color schemes can not be used in heat maps.\n",
    "\n",
    "To utilize these color schemes, include `+ scale_color_manual(values = ut.color_scheme(scheme_name = ..., Num = ..., test = False))` in your plotnine block of text. All inputs are optional. The default scheme is the `'bright'` scheme which is the first listed color scheme.\n",
    "\n",
    "The `Num` input is only recommended to be used when utilizing the sequential color schemes. If `Num` is greater than the maximum number of colors within the color scheme, then intermediate colors will be interpolated. If `Num` is less than the maximum number of colors in the scheme, then the output colors will be evenly interpoated between the endpoints and may produce undesired colors. If `Num` is left blank, and you need fewer colors than provided by the color scheme, then plotnine will utilize only the first few."
   ]
  },
  {
   "cell_type": "code",
   "execution_count": 1,
   "id": "f4862580-8a1a-421a-8ace-4534c28f510c",
   "metadata": {
    "tags": []
   },
   "outputs": [],
   "source": [
    "import numpy as np\n",
    "%load_ext autoreload\n",
    "%autoreload 2\n",
    "\n",
    "from utilities import post_simulation as ut\n",
    "\n",
    "rng = np.random.default_rng(seed = 0)"
   ]
  },
  {
   "cell_type": "code",
   "execution_count": 2,
   "id": "c4486b92-77e9-40fd-bd2b-b7531b446e5e",
   "metadata": {
    "tags": []
   },
   "outputs": [
    {
     "data": {
      "image/png": "[encoded data removed]",
      "text/html": [
       "<div style=\"vertical-align: middle;\"><strong>bright</strong> </div><div class=\"cmap\"><img alt=\"bright colormap\" title=\"bright\" style=\"border: 1px solid #555;\" src=\"data:image/png;base64,iVBORw0KGgoAAAANSUhEUgAAAgAAAABACAYAAABsv8+/AAAAFXRFWHRUaXRsZQBicmlnaHQgY29sb3JtYXDiwUpuAAAAG3RFWHREZXNjcmlwdGlvbgBicmlnaHQgY29sb3JtYXCrVlKKAAAAMHRFWHRBdXRob3IATWF0cGxvdGxpYiB2My45LjMsIGh0dHBzOi8vbWF0cGxvdGxpYi5vcmfEElVdAAAAMnRFWHRTb2Z0d2FyZQBNYXRwbG90bGliIHYzLjkuMywgaHR0cHM6Ly9tYXRwbG90bGliLm9yZ+q0ynoAAAFbSURBVHic7dZRFQFhFEZRNCDCVFBhKsiigiwmAhVkogGe/GOdvRN86z7cdbbz+frc8NZ0mkdPWL3b3Y0+WY6H0RNWb1qOoyf8hftj9IJ121/8o2/sRg8AAH5PAABAkAAAgCABAABBAgAAggQAAAQJAAAIEgAAECQAACBIAABAkAAAgCABAABBAgAAggQAAAQJAAAIEgAAECQAACBIAABAkAAAgCABAABBAgAAggQAAAQJAAAIEgAAECQAACBIAABAkAAAgCABAABBAgAAggQAAAQJAAAIEgAAECQAACBIAABAkAAAgCABAABBAgAAggQAAAQJAAAIEgAAECQAACBIAABAkAAAgCABAABBAgAAggQAAAQJAAAIEgAAECQAACBIAABAkAAAgCABAABBAgAAggQAAAQJAAAIEgAAECQAACBIAABAkAAAgCABAABBAgAAggQAAAQJAAAIegElpAmwPk9XPAAAAABJRU5ErkJggg==\"></div><div style=\"vertical-align: middle; max-width: 514px; display: flex; justify-content: space-between;\"><div style=\"float: left;\"><div title=\"#4477aaff\" style=\"display: inline-block; width: 1em; height: 1em; margin: 0; vertical-align: middle; border: 1px solid #555; background-color: #4477aaff;\"></div> under</div><div style=\"margin: 0 auto; display: inline-block;\">bad <div title=\"#00000000\" style=\"display: inline-block; width: 1em; height: 1em; margin: 0; vertical-align: middle; border: 1px solid #555; background-color: #00000000;\"></div></div><div style=\"float: right;\">over <div title=\"#bbbbbbff\" style=\"display: inline-block; width: 1em; height: 1em; margin: 0; vertical-align: middle; border: 1px solid #555; background-color: #bbbbbbff;\"></div></div></div>"
      ],
      "text/plain": [
       "<matplotlib.colors.LinearSegmentedColormap at 0xffff7c2ba900>"
      ]
     },
     "execution_count": 2,
     "metadata": {},
     "output_type": "execute_result"
    }
   ],
   "source": [
    "ut.color_scheme(scheme_name = 'bright', test = True)"
   ]
  },
  {
   "cell_type": "code",
   "execution_count": 3,
   "id": "7ee76e17-4b87-4160-9421-7b15023f7418",
   "metadata": {
    "tags": []
   },
   "outputs": [
    {
     "data": {
      "image/png": "[encoded data removed]",
      "text/html": [
       "<div style=\"vertical-align: middle;\"><strong>high_contrast</strong> </div><div class=\"cmap\"><img alt=\"high_contrast colormap\" title=\"high_contrast\" style=\"border: 1px solid #555;\" src=\"data:image/png;base64,iVBORw0KGgoAAAANSUhEUgAAAgAAAABACAYAAABsv8+/AAAAHHRFWHRUaXRsZQBoaWdoX2NvbnRyYXN0IGNvbG9ybWFwegnoZgAAACJ0RVh0RGVzY3JpcHRpb24AaGlnaF9jb250cmFzdCBjb2xvcm1hcOdZBiMAAAAwdEVYdEF1dGhvcgBNYXRwbG90bGliIHYzLjkuMywgaHR0cHM6Ly9tYXRwbG90bGliLm9yZ8QSVV0AAAAydEVYdFNvZnR3YXJlAE1hdHBsb3RsaWIgdjMuOS4zLCBodHRwczovL21hdHBsb3RsaWIub3Jn6rTKegAAAUJJREFUeJzt1kEBggAQAEE1ChXIQCczQQWqYAUjYAvvsTMJ9rnPa1/vB1mfY51OYND2XaYTmHS+pwsY9JoOAAD+zwAAQJABAIAgAwAAQQYAAIIMAAAEGQAACDIAABBkAAAgyAAAQJABAIAgAwAAQQYAAIIMAAAEGQAACDIAABBkAAAgyAAAQJABAIAgAwAAQQYAAIIMAAAEGQAACDIAABBkAAAgyAAAQJABAIAgAwAAQQYAAIIMAAAEGQAACDIAABBkAAAgyAAAQJABAIAgAwAAQQYAAIIMAAAEGQAACDIAABBkAAAgyAAAQJABAIAgAwAAQQYAAIIMAAAEGQAACDIAABBkAAAgyAAAQJABAIAgAwAAQQYAAIIMAAAEGQAACDIAABBkAAAgyAAAQJABAIAgAwAAQQYAAIIMAAAEGQAACPoBkbIHf3AtsOsAAAAASUVORK5CYII=\"></div><div style=\"vertical-align: middle; max-width: 514px; display: flex; justify-content: space-between;\"><div style=\"float: left;\"><div title=\"#ddaa33ff\" style=\"display: inline-block; width: 1em; height: 1em; margin: 0; vertical-align: middle; border: 1px solid #555; background-color: #ddaa33ff;\"></div> under</div><div style=\"margin: 0 auto; display: inline-block;\">bad <div title=\"#00000000\" style=\"display: inline-block; width: 1em; height: 1em; margin: 0; vertical-align: middle; border: 1px solid #555; background-color: #00000000;\"></div></div><div style=\"float: right;\">over <div title=\"#000000ff\" style=\"display: inline-block; width: 1em; height: 1em; margin: 0; vertical-align: middle; border: 1px solid #555; background-color: #000000ff;\"></div></div></div>"
      ],
      "text/plain": [
       "<matplotlib.colors.LinearSegmentedColormap at 0xffff1653de20>"
      ]
     },
     "execution_count": 3,
     "metadata": {},
     "output_type": "execute_result"
    }
   ],
   "source": [
    "ut.color_scheme(scheme_name = 'high_contrast', test = True)"
   ]
  },
  {
   "cell_type": "code",
   "execution_count": 4,
   "id": "fae88443-08b2-4eab-bfb2-f55c09ac6214",
   "metadata": {
    "tags": []
   },
   "outputs": [
    {
     "data": {
      "image/png": "[encoded data removed]",
      "text/html": [
       "<div style=\"vertical-align: middle;\"><strong>muted</strong> </div><div class=\"cmap\"><img alt=\"muted colormap\" title=\"muted\" style=\"border: 1px solid #555;\" src=\"data:image/png;base64,iVBORw0KGgoAAAANSUhEUgAAAgAAAABACAYAAABsv8+/AAAAFHRFWHRUaXRsZQBtdXRlZCBjb2xvcm1hcHBuvuMAAAAadEVYdERlc2NyaXB0aW9uAG11dGVkIGNvbG9ybWFwjjEXBQAAADB0RVh0QXV0aG9yAE1hdHBsb3RsaWIgdjMuOS4zLCBodHRwczovL21hdHBsb3RsaWIub3JnxBJVXQAAADJ0RVh0U29mdHdhcmUATWF0cGxvdGxpYiB2My45LjMsIGh0dHBzOi8vbWF0cGxvdGxpYi5vcmfqtMp6AAABc0lEQVR4nO3WYU0DQRRG0SlSthLWQi1gAS1UAkgACVQCWKgFJFATEybZe46C7yXvxz3t2+vfOJDnj5fVE6a53T9XT5jm++d99YRprtvqBfNc9svqCdP8HufFxu3rvnrCNNv5OD+2vx3nljHGeFo9AAD4fwIAAIIEAAAECQAACBIAABAkAAAgSAAAQJAAAIAgAQAAQQIAAIIEAAAECQAACBIAABAkAAAgSAAAQJAAAIAgAQAAQQIAAIIEAAAECQAACBIAABAkAAAgSAAAQJAAAIAgAQAAQQIAAIIEAAAECQAACBIAABAkAAAgSAAAQJAAAIAgAQAAQQIAAIIEAAAECQAACBIAABAkAAAgSAAAQJAAAIAgAQAAQQIAAIIEAAAECQAACBIAABAkAAAgSAAAQJAAAIAgAQAAQQIAAIIEAAAECQAACBIAABAkAAAgSAAAQJAAAIAgAQAAQQIAAIIEAAAECQAACBIAABAkAAAgSAAAQNADt5oPFnGWPlgAAAAASUVORK5CYII=\"></div><div style=\"vertical-align: middle; max-width: 514px; display: flex; justify-content: space-between;\"><div style=\"float: left;\"><div title=\"#332288ff\" style=\"display: inline-block; width: 1em; height: 1em; margin: 0; vertical-align: middle; border: 1px solid #555; background-color: #332288ff;\"></div> under</div><div style=\"margin: 0 auto; display: inline-block;\">bad <div title=\"#00000000\" style=\"display: inline-block; width: 1em; height: 1em; margin: 0; vertical-align: middle; border: 1px solid #555; background-color: #00000000;\"></div></div><div style=\"float: right;\">over <div title=\"#ddddddff\" style=\"display: inline-block; width: 1em; height: 1em; margin: 0; vertical-align: middle; border: 1px solid #555; background-color: #ddddddff;\"></div></div></div>"
      ],
      "text/plain": [
       "<matplotlib.colors.LinearSegmentedColormap at 0xffff7c2ba3f0>"
      ]
     },
     "execution_count": 4,
     "metadata": {},
     "output_type": "execute_result"
    }
   ],
   "source": [
    "ut.color_scheme(scheme_name = 'muted', test = True)"
   ]
  },
  {
   "cell_type": "code",
   "execution_count": 5,
   "id": "dda9bad0-d012-474e-8f13-071d8019cf55",
   "metadata": {
    "tags": []
   },
   "outputs": [
    {
     "data": {
      "image/png": "[encoded data removed]",
      "text/html": [
       "<div style=\"vertical-align: middle;\"><strong>vibrant</strong> </div><div class=\"cmap\"><img alt=\"vibrant colormap\" title=\"vibrant\" style=\"border: 1px solid #555;\" src=\"data:image/png;base64,iVBORw0KGgoAAAANSUhEUgAAAgAAAABACAYAAABsv8+/AAAAFnRFWHRUaXRsZQB2aWJyYW50IGNvbG9ybWFwynV69AAAABx0RVh0RGVzY3JpcHRpb24AdmlicmFudCBjb2xvcm1hcG1by40AAAAwdEVYdEF1dGhvcgBNYXRwbG90bGliIHYzLjkuMywgaHR0cHM6Ly9tYXRwbG90bGliLm9yZ8QSVV0AAAAydEVYdFNvZnR3YXJlAE1hdHBsb3RsaWIgdjMuOS4zLCBodHRwczovL21hdHBsb3RsaWIub3Jn6rTKegAAAV1JREFUeJzt1lEVAVEAANEligoqbBcRVJBBBRGosBFsBBVo4NNbZ+5NMJ+zm87398RXx/k4OmHzlvU6OmHzXuttdMLmrY/n6IS/cJhOoxM2bbnMoxP+wn50AADwewYAAIIMAAAEGQAACDIAABBkAAAgyAAAQJABAIAgAwAAQQYAAIIMAAAEGQAACDIAABBkAAAgyAAAQJABAIAgAwAAQQYAAIIMAAAEGQAACDIAABBkAAAgyAAAQJABAIAgAwAAQQYAAIIMAAAEGQAACDIAABBkAAAgyAAAQJABAIAgAwAAQQYAAIIMAAAEGQAACDIAABBkAAAgyAAAQJABAIAgAwAAQQYAAIIMAAAEGQAACDIAABBkAAAgyAAAQJABAIAgAwAAQQYAAIIMAAAEGQAACDIAABBkAAAgyAAAQJABAIAgAwAAQQYAAIIMAAAEGQAACDIAABBkAAAgyAAAQNAH2QAMsIOvnE0AAAAASUVORK5CYII=\"></div><div style=\"vertical-align: middle; max-width: 514px; display: flex; justify-content: space-between;\"><div style=\"float: left;\"><div title=\"#0077bbff\" style=\"display: inline-block; width: 1em; height: 1em; margin: 0; vertical-align: middle; border: 1px solid #555; background-color: #0077bbff;\"></div> under</div><div style=\"margin: 0 auto; display: inline-block;\">bad <div title=\"#00000000\" style=\"display: inline-block; width: 1em; height: 1em; margin: 0; vertical-align: middle; border: 1px solid #555; background-color: #00000000;\"></div></div><div style=\"float: right;\">over <div title=\"#bbbbbbff\" style=\"display: inline-block; width: 1em; height: 1em; margin: 0; vertical-align: middle; border: 1px solid #555; background-color: #bbbbbbff;\"></div></div></div>"
      ],
      "text/plain": [
       "<matplotlib.colors.LinearSegmentedColormap at 0xffff16575f10>"
      ]
     },
     "execution_count": 5,
     "metadata": {},
     "output_type": "execute_result"
    }
   ],
   "source": [
    "ut.color_scheme(scheme_name = 'vibrant', test = True)"
   ]
  },
  {
   "cell_type": "code",
   "execution_count": 6,
   "id": "36233dcb-7da5-4114-b11a-b4d33884b8b1",
   "metadata": {
    "tags": []
   },
   "outputs": [
    {
     "data": {
      "image/png": "[encoded data removed]",
      "text/html": [
       "<div style=\"vertical-align: middle;\"><strong>medium_contrast</strong> </div><div class=\"cmap\"><img alt=\"medium_contrast colormap\" title=\"medium_contrast\" style=\"border: 1px solid #555;\" src=\"data:image/png;base64,iVBORw0KGgoAAAANSUhEUgAAAgAAAABACAYAAABsv8+/AAAAHnRFWHRUaXRsZQBtZWRpdW1fY29udHJhc3QgY29sb3JtYXD520Y6AAAAJHRFWHREZXNjcmlwdGlvbgBtZWRpdW1fY29udHJhc3QgY29sb3JtYXAzZ69VAAAAMHRFWHRBdXRob3IATWF0cGxvdGxpYiB2My45LjMsIGh0dHBzOi8vbWF0cGxvdGxpYi5vcmfEElVdAAAAMnRFWHRTb2Z0d2FyZQBNYXRwbG90bGliIHYzLjkuMywgaHR0cHM6Ly9tYXRwbG90bGliLm9yZ+q0ynoAAAFYSURBVHic7dZRGcFgAEDREUWFiaCCClRYOBGsgggq0MCjf/vuOQnu4z28n7fPxG/rZXTB5i3TaXTC5s2v8+iE7Vuvowt24T7NoxO27bGMLtiF4+gAAOD/DAAABBkAAAgyAAAQZAAAIMgAAECQAQCAIAMAAEEGAACCDAAABBkAAAgyAAAQZAAAIMgAAECQAQCAIAMAAEEGAACCDAAABBkAAAgyAAAQZAAAIMgAAECQAQCAIAMAAEEGAACCDAAABBkAAAgyAAAQZAAAIMgAAECQAQCAIAMAAEEGAACCDAAABBkAAAgyAAAQZAAAIMgAAECQAQCAIAMAAEEGAACCDAAABBkAAAgyAAAQZAAAIMgAAECQAQCAIAMAAEEGAACCDAAABBkAAAgyAAAQZAAAIMgAAECQAQCAIAMAAEEGAACCDAAABBkAAAgyAAAQZAAAIMgAAECQAQCAoC+JyQl/dZksoQAAAABJRU5ErkJggg==\"></div><div style=\"vertical-align: middle; max-width: 514px; display: flex; justify-content: space-between;\"><div style=\"float: left;\"><div title=\"#eecc66ff\" style=\"display: inline-block; width: 1em; height: 1em; margin: 0; vertical-align: middle; border: 1px solid #555; background-color: #eecc66ff;\"></div> under</div><div style=\"margin: 0 auto; display: inline-block;\">bad <div title=\"#00000000\" style=\"display: inline-block; width: 1em; height: 1em; margin: 0; vertical-align: middle; border: 1px solid #555; background-color: #00000000;\"></div></div><div style=\"float: right;\">over <div title=\"#000000ff\" style=\"display: inline-block; width: 1em; height: 1em; margin: 0; vertical-align: middle; border: 1px solid #555; background-color: #000000ff;\"></div></div></div>"
      ],
      "text/plain": [
       "<matplotlib.colors.LinearSegmentedColormap at 0xffff7c2bad80>"
      ]
     },
     "execution_count": 6,
     "metadata": {},
     "output_type": "execute_result"
    }
   ],
   "source": [
    "ut.color_scheme(scheme_name = 'medium_contrast', test = True)"
   ]
  },
  {
   "cell_type": "code",
   "execution_count": 7,
   "id": "fefbe108-6fd6-487a-a84f-5852f5f7bb28",
   "metadata": {
    "tags": []
   },
   "outputs": [
    {
     "data": {
      "image/png": "[encoded data removed]",
      "text/html": [
       "<div style=\"vertical-align: middle;\"><strong>light</strong> </div><div class=\"cmap\"><img alt=\"light colormap\" title=\"light\" style=\"border: 1px solid #555;\" src=\"data:image/png;base64,iVBORw0KGgoAAAANSUhEUgAAAgAAAABACAYAAABsv8+/AAAAFHRFWHRUaXRsZQBsaWdodCBjb2xvcm1hcFRgs1cAAAAadEVYdERlc2NyaXB0aW9uAGxpZ2h0IGNvbG9ybWFwqj8asQAAADB0RVh0QXV0aG9yAE1hdHBsb3RsaWIgdjMuOS4zLCBodHRwczovL21hdHBsb3RsaWIub3JnxBJVXQAAADJ0RVh0U29mdHdhcmUATWF0cGxvdGxpYiB2My45LjMsIGh0dHBzOi8vbWF0cGxvdGxpYi5vcmfqtMp6AAABZUlEQVR4nO3WYRUBURRGUTSYClNBBRVkUUEGEcgigqkgAimet5azd4Lv/rpnf7m/Prs/tx7X2ROGe2y32ROGuyz/f+N7e86eMNTpeJ09YbzHNnvBcMt6nj1huC3wNw6zBwAAvycAACBIAABAkAAAgCABAABBAgAAggQAAAQJAAAIEgAAECQAACBIAABAkAAAgCABAABBAgAAggQAAAQJAAAIEgAAECQAACBIAABAkAAAgCABAABBAgAAggQAAAQJAAAIEgAAECQAACBIAABAkAAAgCABAABBAgAAggQAAAQJAAAIEgAAECQAACBIAABAkAAAgCABAABBAgAAggQAAAQJAAAIEgAAECQAACBIAABAkAAAgCABAABBAgAAggQAAAQJAAAIEgAAECQAACBIAABAkAAAgCABAABBAgAAggQAAAQJAAAIEgAAECQAACBIAABAkAAAgCABAABBAgAAggQAAAR9AQMIDhYLk4ehAAAAAElFTkSuQmCC\"></div><div style=\"vertical-align: middle; max-width: 514px; display: flex; justify-content: space-between;\"><div style=\"float: left;\"><div title=\"#77aaddff\" style=\"display: inline-block; width: 1em; height: 1em; margin: 0; vertical-align: middle; border: 1px solid #555; background-color: #77aaddff;\"></div> under</div><div style=\"margin: 0 auto; display: inline-block;\">bad <div title=\"#00000000\" style=\"display: inline-block; width: 1em; height: 1em; margin: 0; vertical-align: middle; border: 1px solid #555; background-color: #00000000;\"></div></div><div style=\"float: right;\">over <div title=\"#ddddddff\" style=\"display: inline-block; width: 1em; height: 1em; margin: 0; vertical-align: middle; border: 1px solid #555; background-color: #ddddddff;\"></div></div></div>"
      ],
      "text/plain": [
       "<matplotlib.colors.LinearSegmentedColormap at 0xffff16577290>"
      ]
     },
     "execution_count": 7,
     "metadata": {},
     "output_type": "execute_result"
    }
   ],
   "source": [
    "ut.color_scheme(scheme_name = 'light', test = True)"
   ]
  },
  {
   "cell_type": "code",
   "execution_count": 8,
   "id": "4223ea28-f3b3-426c-8dad-fd4bf893796a",
   "metadata": {
    "tags": []
   },
   "outputs": [
    {
     "data": {
      "image/png": "[encoded data removed]",
      "text/html": [
       "<div style=\"vertical-align: middle;\"><strong>div_sunset</strong> </div><div class=\"cmap\"><img alt=\"div_sunset colormap\" title=\"div_sunset\" style=\"border: 1px solid #555;\" src=\"data:image/png;base64,iVBORw0KGgoAAAANSUhEUgAAAgAAAABACAYAAABsv8+/AAAAGXRFWHRUaXRsZQBkaXZfc3Vuc2V0IGNvbG9ybWFwSUizwQAAAB90RVh0RGVzY3JpcHRpb24AZGl2X3N1bnNldCBjb2xvcm1hcDNgco8AAAAwdEVYdEF1dGhvcgBNYXRwbG90bGliIHYzLjkuMywgaHR0cHM6Ly9tYXRwbG90bGliLm9yZ8QSVV0AAAAydEVYdFNvZnR3YXJlAE1hdHBsb3RsaWIgdjMuOS4zLCBodHRwczovL21hdHBsb3RsaWIub3Jn6rTKegAAAX1JREFUeJzt1qFNA2AYAFFAoVANggRXQYpBsUQ3ZJkKDAkTEIIhITh8VdnhF3wh994EJ+/8cf90OvunNg+30wlLtvfX0wnLdtvNdMKS3c3VdMKyu8uP6YQlm5/DdMKy09v7dMKS4+vXdMKy78PndMKSl+fjdMKyi+kAAODvGQAACDIAABBkAAAgyAAAQJABAIAgAwAAQQYAAIIMAAAEGQAACDIAABBkAAAgyAAAQJABAIAgAwAAQQYAAIIMAAAEGQAACDIAABBkAAAgyAAAQJABAIAgAwAAQQYAAIIMAAAEGQAACDIAABBkAAAgyAAAQJABAIAgAwAAQQYAAIIMAAAEGQAACDIAABBkAAAgyAAAQJABAIAgAwAAQQYAAIIMAAAEGQAACDIAABBkAAAgyAAAQJABAIAgAwAAQQYAAIIMAAAEGQAACDIAABBkAAAgyAAAQJABAIAgAwAAQQYAAIIMAAAEGQAACDIAABBkAAAgyAAAQJABAIAgAwAAQb/xyBFK/i/m4wAAAABJRU5ErkJggg==\"></div><div style=\"vertical-align: middle; max-width: 514px; display: flex; justify-content: space-between;\"><div style=\"float: left;\"><div title=\"#364b9aff\" style=\"display: inline-block; width: 1em; height: 1em; margin: 0; vertical-align: middle; border: 1px solid #555; background-color: #364b9aff;\"></div> under</div><div style=\"margin: 0 auto; display: inline-block;\">bad <div title=\"#00000000\" style=\"display: inline-block; width: 1em; height: 1em; margin: 0; vertical-align: middle; border: 1px solid #555; background-color: #00000000;\"></div></div><div style=\"float: right;\">over <div title=\"#a50026ff\" style=\"display: inline-block; width: 1em; height: 1em; margin: 0; vertical-align: middle; border: 1px solid #555; background-color: #a50026ff;\"></div></div></div>"
      ],
      "text/plain": [
       "<matplotlib.colors.LinearSegmentedColormap at 0xffff165777a0>"
      ]
     },
     "execution_count": 8,
     "metadata": {},
     "output_type": "execute_result"
    }
   ],
   "source": [
    "ut.color_scheme(scheme_name = 'div_sunset', test = True)"
   ]
  },
  {
   "cell_type": "code",
   "execution_count": 9,
   "id": "159ded42-b70b-412c-a4dd-ab9d66b47ced",
   "metadata": {
    "tags": []
   },
   "outputs": [
    {
     "data": {
      "image/png": "[encoded data removed]",
      "text/html": [
       "<div style=\"vertical-align: middle;\"><strong>div_nightfall</strong> </div><div class=\"cmap\"><img alt=\"div_nightfall colormap\" title=\"div_nightfall\" style=\"border: 1px solid #555;\" src=\"data:image/png;base64,iVBORw0KGgoAAAANSUhEUgAAAgAAAABACAYAAABsv8+/AAAAHHRFWHRUaXRsZQBkaXZfbmlnaHRmYWxsIGNvbG9ybWFw5wnwIAAAACJ0RVh0RGVzY3JpcHRpb24AZGl2X25pZ2h0ZmFsbCBjb2xvcm1hcHpZHmUAAAAwdEVYdEF1dGhvcgBNYXRwbG90bGliIHYzLjkuMywgaHR0cHM6Ly9tYXRwbG90bGliLm9yZ8QSVV0AAAAydEVYdFNvZnR3YXJlAE1hdHBsb3RsaWIgdjMuOS4zLCBodHRwczovL21hdHBsb3RsaWIub3Jn6rTKegAAAZRJREFUeJzt1sEqpgEYQOHPJDWN0NQUJcqfhYtwGxZzvZZqdrKQUhZKoVhI+sdlvIvzPDdwtmfj99+L/8uQ58PTke7q4GSke7x/NtI9+rMa6Z7vbY10z3bXI939X58j3Z3Nt5Hu5tfNSPfny+VId+vhbqS7vn8d6X7cznTfr59Guo9XjyPdf8v2SHdZluXHWBkAGGMAACDIAABAkAEAgCADAABBBgAAggwAAAQZAAAIMgAAEGQAACDIAABAkAEAgCADAABBBgAAggwAAAQZAAAIMgAAEGQAACDIAABAkAEAgCADAABBBgAAggwAAAQZAAAIMgAAEGQAACDIAABAkAEAgCADAABBBgAAggwAAAQZAAAIMgAAEGQAACDIAABAkAEAgCADAABBBgAAggwAAAQZAAAIMgAAEGQAACDIAABAkAEAgCADAABBBgAAggwAAAQZAAAIMgAAEGQAACDIAABAkAEAgCADAABBBgAAggwAAAQZAAAIMgAAEGQAACDIAABAkAEAgCADAABBBgAAggwAAAR9A6BDGUofPyk8AAAAAElFTkSuQmCC\"></div><div style=\"vertical-align: middle; max-width: 514px; display: flex; justify-content: space-between;\"><div style=\"float: left;\"><div title=\"#125a56ff\" style=\"display: inline-block; width: 1em; height: 1em; margin: 0; vertical-align: middle; border: 1px solid #555; background-color: #125a56ff;\"></div> under</div><div style=\"margin: 0 auto; display: inline-block;\">bad <div title=\"#00000000\" style=\"display: inline-block; width: 1em; height: 1em; margin: 0; vertical-align: middle; border: 1px solid #555; background-color: #00000000;\"></div></div><div style=\"float: right;\">over <div title=\"#a01813ff\" style=\"display: inline-block; width: 1em; height: 1em; margin: 0; vertical-align: middle; border: 1px solid #555; background-color: #a01813ff;\"></div></div></div>"
      ],
      "text/plain": [
       "<matplotlib.colors.LinearSegmentedColormap at 0xffff16577ec0>"
      ]
     },
     "execution_count": 9,
     "metadata": {},
     "output_type": "execute_result"
    }
   ],
   "source": [
    "ut.color_scheme(scheme_name = 'div_nightfall', test = True)"
   ]
  },
  {
   "cell_type": "code",
   "execution_count": 10,
   "id": "5af64620-d924-4b55-a5c4-44ea379bb9ae",
   "metadata": {
    "tags": []
   },
   "outputs": [
    {
     "data": {
      "image/png": "[encoded data removed]",
      "text/html": [
       "<div style=\"vertical-align: middle;\"><strong>div_BuRd</strong> </div><div class=\"cmap\"><img alt=\"div_BuRd colormap\" title=\"div_BuRd\" style=\"border: 1px solid #555;\" src=\"data:image/png;base64,iVBORw0KGgoAAAANSUhEUgAAAgAAAABACAYAAABsv8+/AAAAF3RFWHRUaXRsZQBkaXZfQnVSZCBjb2xvcm1hcAizJmwAAAAddEVYdERlc2NyaXB0aW9uAGRpdl9CdVJkIGNvbG9ybWFwIc3BRQAAADB0RVh0QXV0aG9yAE1hdHBsb3RsaWIgdjMuOS4zLCBodHRwczovL21hdHBsb3RsaWIub3JnxBJVXQAAADJ0RVh0U29mdHdhcmUATWF0cGxvdGxpYiB2My45LjMsIGh0dHBzOi8vbWF0cGxvdGxpYi5vcmfqtMp6AAABcklEQVR4nO3WoU0DYBgAUYqgvgaBAQQO0wUYgS2YjgFIugEYBmgqCDsgyxQ/X8K9N8HJ29y9vJ4v/rn7x+vphOWe9zfTCcs93e6mE5Z72G2nE5a6+v6cTlju5/0wnbDc1+FjOmG549tpOmG5y+kAAODvGQAACDIAABBkAAAgyAAAQJABAIAgAwAAQQYAAIIMAAAEGQAACDIAABBkAAAgyAAAQJABAIAgAwAAQQYAAIIMAAAEGQAACDIAABBkAAAgyAAAQJABAIAgAwAAQQYAAIIMAAAEGQAACDIAABBkAAAgyAAAQJABAIAgAwAAQQYAAIIMAAAEGQAACDIAABBkAAAgyAAAQJABAIAgAwAAQQYAAIIMAAAEGQAACDIAABBkAAAgyAAAQJABAIAgAwAAQQYAAIIMAAAEGQAACDIAABBkAAAgyAAAQJABAIAgAwAAQQYAAIIMAAAEGQAACDIAABBkAAAgyAAAQJABAIAgAwAAQb/7oA10lQKV/AAAAABJRU5ErkJggg==\"></div><div style=\"vertical-align: middle; max-width: 514px; display: flex; justify-content: space-between;\"><div style=\"float: left;\"><div title=\"#2166acff\" style=\"display: inline-block; width: 1em; height: 1em; margin: 0; vertical-align: middle; border: 1px solid #555; background-color: #2166acff;\"></div> under</div><div style=\"margin: 0 auto; display: inline-block;\">bad <div title=\"#00000000\" style=\"display: inline-block; width: 1em; height: 1em; margin: 0; vertical-align: middle; border: 1px solid #555; background-color: #00000000;\"></div></div><div style=\"float: right;\">over <div title=\"#b2182bff\" style=\"display: inline-block; width: 1em; height: 1em; margin: 0; vertical-align: middle; border: 1px solid #555; background-color: #b2182bff;\"></div></div></div>"
      ],
      "text/plain": [
       "<matplotlib.colors.LinearSegmentedColormap at 0xffff16577560>"
      ]
     },
     "execution_count": 10,
     "metadata": {},
     "output_type": "execute_result"
    }
   ],
   "source": [
    "ut.color_scheme(scheme_name = 'div_BuRd', test = True)"
   ]
  },
  {
   "cell_type": "code",
   "execution_count": 11,
   "id": "e332e804-7d91-44b4-a31c-047d1864f82e",
   "metadata": {
    "tags": []
   },
   "outputs": [
    {
     "data": {
      "image/png": "[encoded data removed]",
      "text/html": [
       "<div style=\"vertical-align: middle;\"><strong>div_PRGn</strong> </div><div class=\"cmap\"><img alt=\"div_PRGn colormap\" title=\"div_PRGn\" style=\"border: 1px solid #555;\" src=\"data:image/png;base64,iVBORw0KGgoAAAANSUhEUgAAAgAAAABACAYAAABsv8+/AAAAF3RFWHRUaXRsZQBkaXZfUFJHbiBjb2xvcm1hcHjC/8oAAAAddEVYdERlc2NyaXB0aW9uAGRpdl9QUkduIGNvbG9ybWFwUbwY4wAAADB0RVh0QXV0aG9yAE1hdHBsb3RsaWIgdjMuOS4zLCBodHRwczovL21hdHBsb3RsaWIub3JnxBJVXQAAADJ0RVh0U29mdHdhcmUATWF0cGxvdGxpYiB2My45LjMsIGh0dHBzOi8vbWF0cGxvdGxpYi5vcmfqtMp6AAABcElEQVR4nO3WsTEEYBgAUacBUvG5GSQiLShJA/rRw43MhTdzCRFViKji983Y9yrYcDdPd88/Z//c9vFmOmG524fr6YTldvdX0wnLXW4vphOW+vz+mE5Y7vh1mE5Y7uX9dTphuf3baTphufPpAADg7xkAAAgyAAAQZAAAIMgAAECQAQCAIAMAAEEGAACCDAAABBkAAAgyAAAQZAAAIMgAAECQAQCAIAMAAEEGAACCDAAABBkAAAgyAAAQZAAAIMgAAECQAQCAIAMAAEEGAACCDAAABBkAAAgyAAAQZAAAIMgAAECQAQCAIAMAAEEGAACCDAAABBkAAAgyAAAQZAAAIMgAAECQAQCAIAMAAEEGAACCDAAABBkAAAgyAAAQZAAAIMgAAECQAQCAIAMAAEEGAACCDAAABBkAAAgyAAAQZAAAIMgAAECQAQCAIAMAAEEGAACCDAAABBkAAAgyAAAQZAAAIMgAAECQAQCAIAMAAEG/+ggOSWk3IZkAAAAASUVORK5CYII=\"></div><div style=\"vertical-align: middle; max-width: 514px; display: flex; justify-content: space-between;\"><div style=\"float: left;\"><div title=\"#762a83ff\" style=\"display: inline-block; width: 1em; height: 1em; margin: 0; vertical-align: middle; border: 1px solid #555; background-color: #762a83ff;\"></div> under</div><div style=\"margin: 0 auto; display: inline-block;\">bad <div title=\"#00000000\" style=\"display: inline-block; width: 1em; height: 1em; margin: 0; vertical-align: middle; border: 1px solid #555; background-color: #00000000;\"></div></div><div style=\"float: right;\">over <div title=\"#1b7837ff\" style=\"display: inline-block; width: 1em; height: 1em; margin: 0; vertical-align: middle; border: 1px solid #555; background-color: #1b7837ff;\"></div></div></div>"
      ],
      "text/plain": [
       "<matplotlib.colors.LinearSegmentedColormap at 0xffff16577bc0>"
      ]
     },
     "execution_count": 11,
     "metadata": {},
     "output_type": "execute_result"
    }
   ],
   "source": [
    "ut.color_scheme(scheme_name = 'div_PRGn', test = True)"
   ]
  },
  {
   "cell_type": "code",
   "execution_count": 12,
   "id": "cf191ae7-9911-4973-97e6-3ae573cd4993",
   "metadata": {
    "tags": []
   },
   "outputs": [
    {
     "data": {
      "image/png": "[encoded data removed]",
      "text/html": [
       "<div style=\"vertical-align: middle;\"><strong>seq_YlOrBr</strong> </div><div class=\"cmap\"><img alt=\"seq_YlOrBr colormap\" title=\"seq_YlOrBr\" style=\"border: 1px solid #555;\" src=\"data:image/png;base64,iVBORw0KGgoAAAANSUhEUgAAAgAAAABACAYAAABsv8+/AAAAGXRFWHRUaXRsZQBzZXFfWWxPckJyIGNvbG9ybWFwXIWyaQAAAB90RVh0RGVzY3JpcHRpb24Ac2VxX1lsT3JCciBjb2xvcm1hcCatcycAAAAwdEVYdEF1dGhvcgBNYXRwbG90bGliIHYzLjkuMywgaHR0cHM6Ly9tYXRwbG90bGliLm9yZ8QSVV0AAAAydEVYdFNvZnR3YXJlAE1hdHBsb3RsaWIgdjMuOS4zLCBodHRwczovL21hdHBsb3RsaWIub3Jn6rTKegAAAWZJREFUeJzt1jFqAlEARdGY/a/JHUypgqSIhRCICNPZyGQBqT8f5p6zgve6e9i2+/axd6/L7AXDbY/T7Anj3Y6zFwz3Pl9nTxhqPf/OnjDc99dz9oThlp/P2ROGW9b9f9z/QwDgHwEAAEECAACCBAAABAkAAAgSAAAQJAAAIEgAAECQAACAIAEAAEECAACCBAAABAkAAAgSAAAQJAAAIEgAAECQAACAIAEAAEECAACCBAAABAkAAAgSAAAQJAAAIEgAAECQAACAIAEAAEECAACCBAAABAkAAAgSAAAQJAAAIEgAAECQAACAIAEAAEECAACCBAAABAkAAAgSAAAQJAAAIEgAAECQAACAIAEAAEECAACCBAAABAkAAAgSAAAQJAAAIEgAAECQAACAIAEAAEECAACCBAAABAkAAAgSAAAQJAAAIEgAAECQAACAIAEAAEECAACCBAAABAkAAAgSAAAQJAAAIOgPMC4WEE1Uf+YAAAAASUVORK5CYII=\"></div><div style=\"vertical-align: middle; max-width: 514px; display: flex; justify-content: space-between;\"><div style=\"float: left;\"><div title=\"#ffffe5ff\" style=\"display: inline-block; width: 1em; height: 1em; margin: 0; vertical-align: middle; border: 1px solid #555; background-color: #ffffe5ff;\"></div> under</div><div style=\"margin: 0 auto; display: inline-block;\">bad <div title=\"#00000000\" style=\"display: inline-block; width: 1em; height: 1em; margin: 0; vertical-align: middle; border: 1px solid #555; background-color: #00000000;\"></div></div><div style=\"float: right;\">over <div title=\"#662506ff\" style=\"display: inline-block; width: 1em; height: 1em; margin: 0; vertical-align: middle; border: 1px solid #555; background-color: #662506ff;\"></div></div></div>"
      ],
      "text/plain": [
       "<matplotlib.colors.LinearSegmentedColormap at 0xffff16575580>"
      ]
     },
     "execution_count": 12,
     "metadata": {},
     "output_type": "execute_result"
    }
   ],
   "source": [
    "ut.color_scheme(scheme_name = 'seq_YlOrBr', test = True)"
   ]
  },
  {
   "cell_type": "code",
   "execution_count": 13,
   "id": "f6ca4623-c4a4-4242-bf2b-d377a337503e",
   "metadata": {
    "tags": []
   },
   "outputs": [
    {
     "data": {
      "image/png": "[encoded data removed]",
      "text/html": [
       "<div style=\"vertical-align: middle;\"><strong>seq_Iridescent</strong> </div><div class=\"cmap\"><img alt=\"seq_Iridescent colormap\" title=\"seq_Iridescent\" style=\"border: 1px solid #555;\" src=\"data:image/png;base64,iVBORw0KGgoAAAANSUhEUgAAAgAAAABACAYAAABsv8+/AAAAHXRFWHRUaXRsZQBzZXFfSXJpZGVzY2VudCBjb2xvcm1hcNxj6fsAAAAjdEVYdERlc2NyaXB0aW9uAHNlcV9JcmlkZXNjZW50IGNvbG9ybWFw2kgMCgAAADB0RVh0QXV0aG9yAE1hdHBsb3RsaWIgdjMuOS4zLCBodHRwczovL21hdHBsb3RsaWIub3JnxBJVXQAAADJ0RVh0U29mdHdhcmUATWF0cGxvdGxpYiB2My45LjMsIGh0dHBzOi8vbWF0cGxvdGxpYi5vcmfqtMp6AAABp0lEQVR4nO3WS04CYRSE0SuoIbD/7TlxIBpiTP9ApJuHq7iJSZ2zgBpWvqf78vmoJvfroWX30rR7uh1bdsd127JbVTWWXcvudN207I75tWd3ee7ZnV9adquqpsu6ZffYtDv/tszW+nzrGa6q7bi07O7GqWV3M00tu6vx3bJ7Gz1fXFV1Hl8tuz/Hfcvufvpo2X07vLfsVlWt2pYBgH9LAABAIAEAAIEEAAAEEgAAEEgAAEAgAQAAgQQAAAQSAAAQSAAAQCABAACBBAAABBIAABBIAABAIAEAAIEEAAAEEgAAEEgAAEAgAQAAgQQAAAQSAAAQSAAAQCABAACBBAAABBIAABBIAABAIAEAAIEEAAAEEgAAEEgAAEAgAQAAgQQAAAQSAAAQSAAAQCABAACBBAAABBIAABBIAABAIAEAAIEEAAAEEgAAEEgAAEAgAQAAgQQAAAQSAAAQSAAAQCABAACBBAAABBIAABBIAABAIAEAAIEEAAAEEgAAEEgAAEAgAQAAgQQAAAQSAAAQSAAAQCABAACBBAAABBIAABBIAABAIAEAAIH+AIQPNjRi2WoFAAAAAElFTkSuQmCC\"></div><div style=\"vertical-align: middle; max-width: 514px; display: flex; justify-content: space-between;\"><div style=\"float: left;\"><div title=\"#fefbe9ff\" style=\"display: inline-block; width: 1em; height: 1em; margin: 0; vertical-align: middle; border: 1px solid #555; background-color: #fefbe9ff;\"></div> under</div><div style=\"margin: 0 auto; display: inline-block;\">bad <div title=\"#00000000\" style=\"display: inline-block; width: 1em; height: 1em; margin: 0; vertical-align: middle; border: 1px solid #555; background-color: #00000000;\"></div></div><div style=\"float: right;\">over <div title=\"#46353aff\" style=\"display: inline-block; width: 1em; height: 1em; margin: 0; vertical-align: middle; border: 1px solid #555; background-color: #46353aff;\"></div></div></div>"
      ],
      "text/plain": [
       "<matplotlib.colors.LinearSegmentedColormap at 0xffff16591250>"
      ]
     },
     "execution_count": 13,
     "metadata": {},
     "output_type": "execute_result"
    }
   ],
   "source": [
    "ut.color_scheme(scheme_name = 'seq_Iridescent', test = True)"
   ]
  },
  {
   "cell_type": "code",
   "execution_count": 14,
   "id": "5ffbe590-bf9e-4461-911a-12292e1c765d",
   "metadata": {
    "tags": []
   },
   "outputs": [
    {
     "data": {
      "image/png": "[encoded data removed]",
      "text/html": [
       "<div style=\"vertical-align: middle;\"><strong>seq_Incandescent</strong> </div><div class=\"cmap\"><img alt=\"seq_Incandescent colormap\" title=\"seq_Incandescent\" style=\"border: 1px solid #555;\" src=\"data:image/png;base64,iVBORw0KGgoAAAANSUhEUgAAAgAAAABACAYAAABsv8+/AAAAH3RFWHRUaXRsZQBzZXFfSW5jYW5kZXNjZW50IGNvbG9ybWFwp/1VXgAAACV0RVh0RGVzY3JpcHRpb24Ac2VxX0luY2FuZGVzY2VudCBjb2xvcm1hcHo6lX4AAAAwdEVYdEF1dGhvcgBNYXRwbG90bGliIHYzLjkuMywgaHR0cHM6Ly9tYXRwbG90bGliLm9yZ8QSVV0AAAAydEVYdFNvZnR3YXJlAE1hdHBsb3RsaWIgdjMuOS4zLCBodHRwczovL21hdHBsb3RsaWIub3Jn6rTKegAAAXtJREFUeJzt1i1KhWEYRVF/EMSoSec/AZtg1So2i8EgCApi8wblcw5v8OGy1xrBKQf24cO2bQd7ard7mp6w5Pn3fnrCssuvm+kJS67er6cnLDt/28+Lnr1OL1h38nI6PWHJ8eP39IRlH7cX0xOW3P18Tk9YdjQ9AAD4fwIAAIIEAAAECQAACBIAABAkAAAgSAAAQJAAAIAgAQAAQQIAAIIEAAAECQAACBIAABAkAAAgSAAAQJAAAIAgAQAAQQIAAIIEAAAECQAACBIAABAkAAAgSAAAQJAAAIAgAQAAQQIAAIIEAAAECQAACBIAABAkAAAgSAAAQJAAAIAgAQAAQQIAAIIEAAAECQAACBIAABAkAAAgSAAAQJAAAIAgAQAAQQIAAIIEAAAECQAACBIAABAkAAAgSAAAQJAAAIAgAQAAQQIAAIIEAAAECQAACBIAABAkAAAgSAAAQJAAAIAgAQAAQQIAAIIEAAAECQAACBIAABAkAAAgSAAAQNAfe8UXKkWASwoAAAAASUVORK5CYII=\"></div><div style=\"vertical-align: middle; max-width: 514px; display: flex; justify-content: space-between;\"><div style=\"float: left;\"><div title=\"#ceffffff\" style=\"display: inline-block; width: 1em; height: 1em; margin: 0; vertical-align: middle; border: 1px solid #555; background-color: #ceffffff;\"></div> under</div><div style=\"margin: 0 auto; display: inline-block;\">bad <div title=\"#00000000\" style=\"display: inline-block; width: 1em; height: 1em; margin: 0; vertical-align: middle; border: 1px solid #555; background-color: #00000000;\"></div></div><div style=\"float: right;\">over <div title=\"#a80003ff\" style=\"display: inline-block; width: 1em; height: 1em; margin: 0; vertical-align: middle; border: 1px solid #555; background-color: #a80003ff;\"></div></div></div>"
      ],
      "text/plain": [
       "<matplotlib.colors.LinearSegmentedColormap at 0xffff165775c0>"
      ]
     },
     "execution_count": 14,
     "metadata": {},
     "output_type": "execute_result"
    }
   ],
   "source": [
    "ut.color_scheme(scheme_name = \"seq_Incandescent\", test = True)"
   ]
  },
  {
   "cell_type": "code",
   "execution_count": 15,
   "id": "1c67fd3a-8b98-4eca-a763-2d4e8af3658e",
   "metadata": {
    "tags": []
   },
   "outputs": [
    {
     "data": {
      "image/png": "[encoded data removed]",
      "text/html": [
       "<div style=\"vertical-align: middle;\"><strong>disc_rainbow</strong> </div><div class=\"cmap\"><img alt=\"disc_rainbow colormap\" title=\"disc_rainbow\" style=\"border: 1px solid #555;\" src=\"data:image/png;base64,iVBORw0KGgoAAAANSUhEUgAAAgAAAABACAYAAABsv8+/AAAAG3RFWHRUaXRsZQBkaXNjX3JhaW5ib3cgY29sb3JtYXC4Nv7fAAAAIXRFWHREZXNjcmlwdGlvbgBkaXNjX3JhaW5ib3cgY29sb3JtYXA6rxRaAAAAMHRFWHRBdXRob3IATWF0cGxvdGxpYiB2My45LjMsIGh0dHBzOi8vbWF0cGxvdGxpYi5vcmfEElVdAAAAMnRFWHRTb2Z0d2FyZQBNYXRwbG90bGliIHYzLjkuMywgaHR0cHM6Ly9tYXRwbG90bGliLm9yZ+q0ynoAAAHYSURBVHic7dbBKoRhGIbhFxsLRVnQLGUna2Vh4eRsnYeF41CUspKFkVJEQzEMYziJd0HPdR3A0/999fXfc5entz/V5GP02rIzeenZeb65b9l5vR+17FRVTSdfLTuj4UPPznXPzuHOXstOVdXW+nLLzvLS4p/aGQx6zlVVdbFw0LKzv7bRsrO7ttmys71y1LJTVVVXPe/2Zzxt2ZndvbXsVFV9P7737DxNWnY+h+OWndlbz12Pj3v+IVVVJ6vzLTtnPTN1Pu25o6qqpk8CAP4TAQAAgQQAAAQSAAAQSAAAQCABAACBBAAABBIAABBIAABAIAEAAIEEAAAEEgAAEEgAAEAgAQAAgQQAAAQSAAAQSAAAQCABAACBBAAABBIAABBIAABAIAEAAIEEAAAEEgAAEEgAAEAgAQAAgQQAAAQSAAAQSAAAQCABAACBBAAABBIAABBIAABAIAEAAIEEAAAEEgAAEEgAAEAgAQAAgQQAAAQSAAAQSAAAQCABAACBBAAABBIAABBIAABAIAEAAIEEAAAEEgAAEEgAAEAgAQAAgQQAAAQSAAAQSAAAQCABAACBBAAABBIAABBIAABAIAEAAIEEAAAEEgAAEEgAAEAgAQAAgQQAAAT6Be5zNuDhjfRxAAAAAElFTkSuQmCC\"></div><div style=\"vertical-align: middle; max-width: 514px; display: flex; justify-content: space-between;\"><div style=\"float: left;\"><div title=\"#d9cce3ff\" style=\"display: inline-block; width: 1em; height: 1em; margin: 0; vertical-align: middle; border: 1px solid #555; background-color: #d9cce3ff;\"></div> under</div><div style=\"margin: 0 auto; display: inline-block;\">bad <div title=\"#00000000\" style=\"display: inline-block; width: 1em; height: 1em; margin: 0; vertical-align: middle; border: 1px solid #555; background-color: #00000000;\"></div></div><div style=\"float: right;\">over <div title=\"#42150aff\" style=\"display: inline-block; width: 1em; height: 1em; margin: 0; vertical-align: middle; border: 1px solid #555; background-color: #42150aff;\"></div></div></div>"
      ],
      "text/plain": [
       "<matplotlib.colors.LinearSegmentedColormap at 0xffff16577ce0>"
      ]
     },
     "execution_count": 15,
     "metadata": {},
     "output_type": "execute_result"
    }
   ],
   "source": [
    "ut.color_scheme(scheme_name = 'disc_rainbow', test = True)"
   ]
  },
  {
   "cell_type": "code",
   "execution_count": 16,
   "id": "f1a50fa1-58e7-4936-bec4-ea1d43bb2eb7",
   "metadata": {
    "tags": []
   },
   "outputs": [
    {
     "data": {
      "image/png": "[encoded data removed]",
      "text/html": [
       "<div style=\"vertical-align: middle;\"><strong>smooth_rainbow</strong> </div><div class=\"cmap\"><img alt=\"smooth_rainbow colormap\" title=\"smooth_rainbow\" style=\"border: 1px solid #555;\" src=\"data:image/png;base64,iVBORw0KGgoAAAANSUhEUgAAAgAAAABACAYAAABsv8+/AAAAHXRFWHRUaXRsZQBzbW9vdGhfcmFpbmJvdyBjb2xvcm1hcDV+S2wAAAAjdEVYdERlc2NyaXB0aW9uAHNtb290aF9yYWluYm93IGNvbG9ybWFwM1WunQAAADB0RVh0QXV0aG9yAE1hdHBsb3RsaWIgdjMuOS4zLCBodHRwczovL21hdHBsb3RsaWIub3JnxBJVXQAAADJ0RVh0U29mdHdhcmUATWF0cGxvdGxpYiB2My45LjMsIGh0dHBzOi8vbWF0cGxvdGxpYi5vcmfqtMp6AAAByklEQVR4nO3WXUoCARiFYS3Sgn6QCKL9b6QldBsURURkBmVaWKYt4lzFeZ77w8cMA/MOry7vt4PA/OktmQ/mT+/Z/nke7RfTj2j/PsvuP2x2svtHx9F+eXIS7VeTo2i/nQyj/fDwM9qP9r+i/d44uz8eLaP9wSj7/o5Hr9H+bO8l2l/szKL9+WYR7U9Xq2h/uPyJ9uP5b7TffVtH++1rdn8zzZ7/5zHcX39H+9tB9v5uttn7u/nN7t+ts3329wEA/iUBAACFBAAAFBIAAFBIAABAIQEAAIUEAAAUEgAAUEgAAEAhAQAAhQQAABQSAABQSAAAQCEBAACFBAAAFBIAAFBIAABAIQEAAIUEAAAUEgAAUEgAAEAhAQAAhQQAABQSAABQSAAAQCEBAACFBAAAFBIAAFBIAABAIQEAAIUEAAAUEgAAUEgAAEAhAQAAhQQAABQSAABQSAAAQCEBAACFBAAAFBIAAFBIAABAIQEAAIUEAAAUEgAAUEgAAEAhAQAAhQQAABQSAABQSAAAQCEBAACFBAAAFBIAAFBIAABAIQEAAIUEAAAUEgAAUEgAAEAhAQAAhQQAABQSAABQSAAAQCEBAACFBAAAFPoD7w8//sWoHicAAAAASUVORK5CYII=\"></div><div style=\"vertical-align: middle; max-width: 514px; display: flex; justify-content: space-between;\"><div style=\"float: left;\"><div title=\"#d1c1e1ff\" style=\"display: inline-block; width: 1em; height: 1em; margin: 0; vertical-align: middle; border: 1px solid #555; background-color: #d1c1e1ff;\"></div> under</div><div style=\"margin: 0 auto; display: inline-block;\">bad <div title=\"#00000000\" style=\"display: inline-block; width: 1em; height: 1em; margin: 0; vertical-align: middle; border: 1px solid #555; background-color: #00000000;\"></div></div><div style=\"float: right;\">over <div title=\"#521a13ff\" style=\"display: inline-block; width: 1em; height: 1em; margin: 0; vertical-align: middle; border: 1px solid #555; background-color: #521a13ff;\"></div></div></div>"
      ],
      "text/plain": [
       "<matplotlib.colors.LinearSegmentedColormap at 0xffff1653de50>"
      ]
     },
     "execution_count": 16,
     "metadata": {},
     "output_type": "execute_result"
    }
   ],
   "source": [
    "ut.color_scheme(scheme_name = 'smooth_rainbow', test = True)"
   ]
  }
 ],
 "metadata": {
  "kernelspec": {
   "display_name": "Python (Pixi)",
   "language": "python",
   "name": "pixi-kernel-python3"
  },
  "language_info": {
   "codemirror_mode": {
    "name": "ipython",
    "version": 3
   },
   "file_extension": ".py",
   "mimetype": "text/x-python",
   "name": "python",
   "nbconvert_exporter": "python",
   "pygments_lexer": "ipython3",
   "version": "3.12.8"
  }
 },
 "nbformat": 4,
 "nbformat_minor": 5
}
